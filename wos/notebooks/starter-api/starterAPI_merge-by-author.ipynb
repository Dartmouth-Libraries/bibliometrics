{
 "cells": [
  {
   "cell_type": "markdown",
   "metadata": {},
   "source": [
    "1. merge csvs\n",
    "2. group by author\n",
    "3. "
   ]
  },
  {
   "cell_type": "markdown",
   "metadata": {},
   "source": [
    "## Merge Datasets\n"
   ]
  },
  {
   "cell_type": "code",
   "execution_count": 219,
   "metadata": {},
   "outputs": [
    {
     "name": "stdout",
     "output_type": "stream",
     "text": [
      "Reading & appending file number: 0 (with 580 rows) of 62 total files. Pathname:  docdata_0-5\n",
      "Reading & appending file number: 1 (with 5013 rows) of 62 total files. Pathname:  docdata_0-50\n",
      "Reading & appending file number: 2 (with 3907 rows) of 62 total files. Pathname:  docdata_100-150\n",
      "Reading & appending file number: 3 (with 4044 rows) of 62 total files. Pathname:  docdata_1000-1050\n",
      "Reading & appending file number: 4 (with 3527 rows) of 62 total files. Pathname:  docdata_1050-1100\n",
      "Reading & appending file number: 5 (with 3365 rows) of 62 total files. Pathname:  docdata_1100-1150\n",
      "Reading & appending file number: 6 (with 3067 rows) of 62 total files. Pathname:  docdata_1150-1200\n",
      "Reading & appending file number: 7 (with 2374 rows) of 62 total files. Pathname:  docdata_1200-1250\n",
      "Reading & appending file number: 8 (with 3805 rows) of 62 total files. Pathname:  docdata_1250-1300\n",
      "Reading & appending file number: 9 (with 2877 rows) of 62 total files. Pathname:  docdata_1300-1350\n",
      "Reading & appending file number: 10 (with 3842 rows) of 62 total files. Pathname:  docdata_1350-1400\n",
      "Reading & appending file number: 11 (with 3147 rows) of 62 total files. Pathname:  docdata_1400-1450\n",
      "Reading & appending file number: 12 (with 3304 rows) of 62 total files. Pathname:  docdata_1450-1500\n",
      "Reading & appending file number: 13 (with 3111 rows) of 62 total files. Pathname:  docdata_150-200\n",
      "Reading & appending file number: 14 (with 3286 rows) of 62 total files. Pathname:  docdata_1500-1550\n",
      "Reading & appending file number: 15 (with 2635 rows) of 62 total files. Pathname:  docdata_1550-1600\n",
      "Reading & appending file number: 16 (with 3610 rows) of 62 total files. Pathname:  docdata_1600-1650\n",
      "Reading & appending file number: 17 (with 1823 rows) of 62 total files. Pathname:  docdata_1650-1700\n",
      "Reading & appending file number: 18 (with 2456 rows) of 62 total files. Pathname:  docdata_1700-1750\n",
      "Reading & appending file number: 19 (with 3853 rows) of 62 total files. Pathname:  docdata_1750-1800\n",
      "Reading & appending file number: 20 (with 3243 rows) of 62 total files. Pathname:  docdata_1800-1850\n",
      "Reading & appending file number: 21 (with 3085 rows) of 62 total files. Pathname:  docdata_1850-1900\n",
      "Reading & appending file number: 22 (with 1658 rows) of 62 total files. Pathname:  docdata_1900-1950\n",
      "Reading & appending file number: 23 (with 3687 rows) of 62 total files. Pathname:  docdata_1950-2000\n",
      "Reading & appending file number: 24 (with 3686 rows) of 62 total files. Pathname:  docdata_200-250\n",
      "Reading & appending file number: 25 (with 2731 rows) of 62 total files. Pathname:  docdata_2000-2050\n",
      "Reading & appending file number: 26 (with 3727 rows) of 62 total files. Pathname:  docdata_2050-2100\n",
      "Reading & appending file number: 27 (with 2458 rows) of 62 total files. Pathname:  docdata_2100-2150\n",
      "Reading & appending file number: 28 (with 2667 rows) of 62 total files. Pathname:  docdata_2150-2200\n",
      "Reading & appending file number: 29 (with 2892 rows) of 62 total files. Pathname:  docdata_2200-2250\n",
      "Reading & appending file number: 30 (with 2025 rows) of 62 total files. Pathname:  docdata_2250-2300\n",
      "Reading & appending file number: 31 (with 4195 rows) of 62 total files. Pathname:  docdata_2300-2350\n",
      "Reading & appending file number: 32 (with 2233 rows) of 62 total files. Pathname:  docdata_2350-2400\n",
      "Reading & appending file number: 33 (with 3717 rows) of 62 total files. Pathname:  docdata_2400-2450\n",
      "Reading & appending file number: 34 (with 2251 rows) of 62 total files. Pathname:  docdata_2450-2500\n",
      "Reading & appending file number: 35 (with 4272 rows) of 62 total files. Pathname:  docdata_250-300\n",
      "Reading & appending file number: 36 (with 3763 rows) of 62 total files. Pathname:  docdata_2500-2550\n",
      "Reading & appending file number: 37 (with 2534 rows) of 62 total files. Pathname:  docdata_2550-2600\n",
      "Reading & appending file number: 38 (with 3074 rows) of 62 total files. Pathname:  docdata_2600-2650\n",
      "Reading & appending file number: 39 (with 3453 rows) of 62 total files. Pathname:  docdata_2650-2700\n",
      "Reading & appending file number: 40 (with 1619 rows) of 62 total files. Pathname:  docdata_2700-2750\n",
      "Reading & appending file number: 41 (with 2983 rows) of 62 total files. Pathname:  docdata_2750-2800\n",
      "Reading & appending file number: 42 (with 2273 rows) of 62 total files. Pathname:  docdata_2800-2850\n",
      "Reading & appending file number: 43 (with 2545 rows) of 62 total files. Pathname:  docdata_2850-2900\n",
      "Reading & appending file number: 44 (with 3671 rows) of 62 total files. Pathname:  docdata_2900-2950\n",
      "Reading & appending file number: 45 (with 1971 rows) of 62 total files. Pathname:  docdata_2950-3000\n",
      "Reading & appending file number: 46 (with 2694 rows) of 62 total files. Pathname:  docdata_300-350\n",
      "Reading & appending file number: 47 (with 3911 rows) of 62 total files. Pathname:  docdata_350-400\n",
      "Reading & appending file number: 48 (with 3896 rows) of 62 total files. Pathname:  docdata_400-450\n",
      "Reading & appending file number: 49 (with 3280 rows) of 62 total files. Pathname:  docdata_450-500\n",
      "Reading & appending file number: 50 (with 3717 rows) of 62 total files. Pathname:  docdata_50-100\n",
      "Reading & appending file number: 51 (with 4121 rows) of 62 total files. Pathname:  docdata_500-550\n",
      "Reading & appending file number: 52 (with 4050 rows) of 62 total files. Pathname:  docdata_550-600\n",
      "Reading & appending file number: 53 (with 3546 rows) of 62 total files. Pathname:  docdata_600-650\n",
      "Reading & appending file number: 54 (with 3314 rows) of 62 total files. Pathname:  docdata_650-700\n",
      "Reading & appending file number: 55 (with 3751 rows) of 62 total files. Pathname:  docdata_700-750\n",
      "Reading & appending file number: 56 (with 4503 rows) of 62 total files. Pathname:  docdata_750-800\n",
      "Reading & appending file number: 57 (with 3865 rows) of 62 total files. Pathname:  docdata_800-850\n",
      "Reading & appending file number: 58 (with 3233 rows) of 62 total files. Pathname:  docdata_850-900\n",
      "Reading & appending file number: 59 (with 3325 rows) of 62 total files. Pathname:  docdata_900-950\n",
      "Reading & appending file number: 60 (with 3751 rows) of 62 total files. Pathname:  docdata_950-1000\n",
      "Reading & appending file number: 61 (with 194996 rows) of 62 total files. Pathname:  docdata_all\n"
     ]
    },
    {
     "name": "stderr",
     "output_type": "stream",
     "text": [
      "C:\\Users\\F0040RP\\AppData\\Local\\Temp\\ipykernel_34892\\818437163.py:8: DtypeWarning: Columns (10,13,24) have mixed types. Specify dtype option on import or set low_memory=False.\n",
      "  df = pd.read_csv(path, index_col=[0])\n"
     ]
    }
   ],
   "source": [
    "import pandas as pd\n",
    "from pathlib import Path\n",
    "pathdir = Path(\"../data\")                 #use this to set relative path to .txt files if they are not in cwd\n",
    "      \n",
    "pathlist = sorted(pathdir.glob('docdata_*.csv')) \n",
    "datalist = []                           #creates an empty list\n",
    "for i, path in enumerate(pathlist):\n",
    "    df = pd.read_csv(path, index_col=[0])\n",
    "    print(\"Reading & appending file number:\", i, \"(with %s rows) of\" %df.shape[0], len(pathlist), \"total files. Pathname: \", path.stem)\n",
    "    datalist.append(df)    ## appends each imported dataframe into a list of dataframes\n",
    "    \n",
    "data = pd.concat(datalist)        #concatenates or joins each dataframe in datalist into one dataframe  "
   ]
  },
  {
   "cell_type": "code",
   "execution_count": 220,
   "metadata": {},
   "outputs": [
    {
     "name": "stderr",
     "output_type": "stream",
     "text": [
      "C:\\Users\\F0040RP\\AppData\\Local\\Temp\\ipykernel_34892\\3705558385.py:1: FutureWarning: Downcasting object dtype arrays on .fillna, .ffill, .bfill is deprecated and will change in a future version. Call result.infer_objects(copy=False) instead. To opt-in to the future behavior, set `pd.set_option('future.no_silent_downcasting', True)`\n",
      "  data['toomany_orno_matches'] = data['toomany_orno_matches'].fillna(False)\n"
     ]
    },
    {
     "data": {
      "text/plain": [
       "0      <class 'bool'>\n",
       "0      <class 'bool'>\n",
       "0      <class 'bool'>\n",
       "0      <class 'bool'>\n",
       "0      <class 'bool'>\n",
       "            ...      \n",
       "997    <class 'bool'>\n",
       "997    <class 'bool'>\n",
       "997    <class 'bool'>\n",
       "998    <class 'bool'>\n",
       "999    <class 'bool'>\n",
       "Name: toomany_orno_matches, Length: 389992, dtype: object"
      ]
     },
     "execution_count": 220,
     "metadata": {},
     "output_type": "execute_result"
    }
   ],
   "source": [
    "data['toomany_orno_matches'] = data['toomany_orno_matches'].fillna(False)\n",
    "data['toomany_orno_matches'].apply(type)"
   ]
  },
  {
   "cell_type": "code",
   "execution_count": 222,
   "metadata": {},
   "outputs": [],
   "source": [
    "data_nomatches = data.loc[data['toomany_orno_matches']]"
   ]
  },
  {
   "cell_type": "code",
   "execution_count": 191,
   "metadata": {},
   "outputs": [
    {
     "data": {
      "text/html": [
       "<div>\n",
       "<style scoped>\n",
       "    .dataframe tbody tr th:only-of-type {\n",
       "        vertical-align: middle;\n",
       "    }\n",
       "\n",
       "    .dataframe tbody tr th {\n",
       "        vertical-align: top;\n",
       "    }\n",
       "\n",
       "    .dataframe thead th {\n",
       "        text-align: right;\n",
       "    }\n",
       "</style>\n",
       "<table border=\"1\" class=\"dataframe\">\n",
       "  <thead>\n",
       "    <tr style=\"text-align: right;\">\n",
       "      <th></th>\n",
       "      <th>doc_doi</th>\n",
       "      <th>doc_issn</th>\n",
       "      <th>doc_eissn</th>\n",
       "      <th>so_title</th>\n",
       "      <th>au_keywords</th>\n",
       "      <th>pubyear</th>\n",
       "      <th>citedby_count</th>\n",
       "      <th>toomany_orno_matches</th>\n",
       "    </tr>\n",
       "  </thead>\n",
       "  <tbody>\n",
       "    <tr>\n",
       "      <th>0</th>\n",
       "      <td>NaN</td>\n",
       "      <td>0002-9939</td>\n",
       "      <td>NaN</td>\n",
       "      <td>PROCEEDINGS OF THE AMERICAN MATHEMATICAL SOCIETY</td>\n",
       "      <td>[]</td>\n",
       "      <td>1979.0</td>\n",
       "      <td>0.0</td>\n",
       "      <td>NaN</td>\n",
       "    </tr>\n",
       "    <tr>\n",
       "      <th>0</th>\n",
       "      <td>10.1109/TCS.1981.1084993</td>\n",
       "      <td>0098-4094</td>\n",
       "      <td>NaN</td>\n",
       "      <td>IEEE TRANSACTIONS ON CIRCUITS AND SYSTEMS</td>\n",
       "      <td>[]</td>\n",
       "      <td>1981.0</td>\n",
       "      <td>274.0</td>\n",
       "      <td>NaN</td>\n",
       "    </tr>\n",
       "    <tr>\n",
       "      <th>0</th>\n",
       "      <td>10.2140/pjm.1982.103.251</td>\n",
       "      <td>0030-8730</td>\n",
       "      <td>NaN</td>\n",
       "      <td>PACIFIC JOURNAL OF MATHEMATICS</td>\n",
       "      <td>[]</td>\n",
       "      <td>1982.0</td>\n",
       "      <td>5.0</td>\n",
       "      <td>NaN</td>\n",
       "    </tr>\n",
       "    <tr>\n",
       "      <th>0</th>\n",
       "      <td>NaN</td>\n",
       "      <td>0017-0097</td>\n",
       "      <td>NaN</td>\n",
       "      <td>GIORNALE DEGLI ECONOMISTI E ANNALI DI ECONOMIA</td>\n",
       "      <td>[]</td>\n",
       "      <td>1983.0</td>\n",
       "      <td>0.0</td>\n",
       "      <td>NaN</td>\n",
       "    </tr>\n",
       "    <tr>\n",
       "      <th>0</th>\n",
       "      <td>NaN</td>\n",
       "      <td>0017-0097</td>\n",
       "      <td>NaN</td>\n",
       "      <td>GIORNALE DEGLI ECONOMISTI E ANNALI DI ECONOMIA</td>\n",
       "      <td>[]</td>\n",
       "      <td>1985.0</td>\n",
       "      <td>0.0</td>\n",
       "      <td>NaN</td>\n",
       "    </tr>\n",
       "    <tr>\n",
       "      <th>...</th>\n",
       "      <td>...</td>\n",
       "      <td>...</td>\n",
       "      <td>...</td>\n",
       "      <td>...</td>\n",
       "      <td>...</td>\n",
       "      <td>...</td>\n",
       "      <td>...</td>\n",
       "      <td>...</td>\n",
       "    </tr>\n",
       "    <tr>\n",
       "      <th>997</th>\n",
       "      <td>10.1093/bjs/znad382.038</td>\n",
       "      <td>0007-1323</td>\n",
       "      <td>1365-2168</td>\n",
       "      <td>BRITISH JOURNAL OF SURGERY</td>\n",
       "      <td>[]</td>\n",
       "      <td>2023.0</td>\n",
       "      <td>0.0</td>\n",
       "      <td>False</td>\n",
       "    </tr>\n",
       "    <tr>\n",
       "      <th>997</th>\n",
       "      <td>10.1097/XEB.0000000000000387</td>\n",
       "      <td>2691-3321</td>\n",
       "      <td>NaN</td>\n",
       "      <td>JBI EVIDENCE IMPLEMENTATION</td>\n",
       "      <td>['evidence-based practice', 'implementation sc...</td>\n",
       "      <td>2023.0</td>\n",
       "      <td>0.0</td>\n",
       "      <td>False</td>\n",
       "    </tr>\n",
       "    <tr>\n",
       "      <th>997</th>\n",
       "      <td>10.1016/j.worlddev.2023.106502</td>\n",
       "      <td>0305-750X</td>\n",
       "      <td>1873-5991</td>\n",
       "      <td>WORLD DEVELOPMENT</td>\n",
       "      <td>['Coproduction', 'Indigenous women', 'Wichi', ...</td>\n",
       "      <td>2024.0</td>\n",
       "      <td>0.0</td>\n",
       "      <td>False</td>\n",
       "    </tr>\n",
       "    <tr>\n",
       "      <th>998</th>\n",
       "      <td>NaN</td>\n",
       "      <td>NaN</td>\n",
       "      <td>NaN</td>\n",
       "      <td>NaN</td>\n",
       "      <td>NaN</td>\n",
       "      <td>NaN</td>\n",
       "      <td>NaN</td>\n",
       "      <td>True</td>\n",
       "    </tr>\n",
       "    <tr>\n",
       "      <th>999</th>\n",
       "      <td>NaN</td>\n",
       "      <td>NaN</td>\n",
       "      <td>NaN</td>\n",
       "      <td>NaN</td>\n",
       "      <td>NaN</td>\n",
       "      <td>NaN</td>\n",
       "      <td>NaN</td>\n",
       "      <td>True</td>\n",
       "    </tr>\n",
       "  </tbody>\n",
       "</table>\n",
       "<p>194996 rows × 8 columns</p>\n",
       "</div>"
      ],
      "text/plain": [
       "                            doc_doi   doc_issn  doc_eissn  \\\n",
       "0                               NaN  0002-9939        NaN   \n",
       "0          10.1109/TCS.1981.1084993  0098-4094        NaN   \n",
       "0          10.2140/pjm.1982.103.251  0030-8730        NaN   \n",
       "0                               NaN  0017-0097        NaN   \n",
       "0                               NaN  0017-0097        NaN   \n",
       "..                              ...        ...        ...   \n",
       "997         10.1093/bjs/znad382.038  0007-1323  1365-2168   \n",
       "997    10.1097/XEB.0000000000000387  2691-3321        NaN   \n",
       "997  10.1016/j.worlddev.2023.106502  0305-750X  1873-5991   \n",
       "998                             NaN        NaN        NaN   \n",
       "999                             NaN        NaN        NaN   \n",
       "\n",
       "                                             so_title  \\\n",
       "0    PROCEEDINGS OF THE AMERICAN MATHEMATICAL SOCIETY   \n",
       "0           IEEE TRANSACTIONS ON CIRCUITS AND SYSTEMS   \n",
       "0                      PACIFIC JOURNAL OF MATHEMATICS   \n",
       "0      GIORNALE DEGLI ECONOMISTI E ANNALI DI ECONOMIA   \n",
       "0      GIORNALE DEGLI ECONOMISTI E ANNALI DI ECONOMIA   \n",
       "..                                                ...   \n",
       "997                        BRITISH JOURNAL OF SURGERY   \n",
       "997                       JBI EVIDENCE IMPLEMENTATION   \n",
       "997                                 WORLD DEVELOPMENT   \n",
       "998                                               NaN   \n",
       "999                                               NaN   \n",
       "\n",
       "                                           au_keywords  pubyear  \\\n",
       "0                                                   []   1979.0   \n",
       "0                                                   []   1981.0   \n",
       "0                                                   []   1982.0   \n",
       "0                                                   []   1983.0   \n",
       "0                                                   []   1985.0   \n",
       "..                                                 ...      ...   \n",
       "997                                                 []   2023.0   \n",
       "997  ['evidence-based practice', 'implementation sc...   2023.0   \n",
       "997  ['Coproduction', 'Indigenous women', 'Wichi', ...   2024.0   \n",
       "998                                                NaN      NaN   \n",
       "999                                                NaN      NaN   \n",
       "\n",
       "     citedby_count toomany_orno_matches  \n",
       "0              0.0                  NaN  \n",
       "0            274.0                  NaN  \n",
       "0              5.0                  NaN  \n",
       "0              0.0                  NaN  \n",
       "0              0.0                  NaN  \n",
       "..             ...                  ...  \n",
       "997            0.0                False  \n",
       "997            0.0                False  \n",
       "997            0.0                False  \n",
       "998            NaN                 True  \n",
       "999            NaN                 True  \n",
       "\n",
       "[194996 rows x 8 columns]"
      ]
     },
     "execution_count": 191,
     "metadata": {},
     "output_type": "execute_result"
    }
   ],
   "source": [
    "data.iloc[:, 16:]"
   ]
  },
  {
   "cell_type": "code",
   "execution_count": 192,
   "metadata": {},
   "outputs": [
    {
     "data": {
      "text/plain": [
       "Index(['Ranking', 'University Name', 'Name', 'Position', 'URL',\n",
       "       'hosting domain', 'lastname', 'firstnames', 'firstinits', 'suffix',\n",
       "       'reordered_name', 'doclists', 'too_many_matches', 'match_name', 'resID',\n",
       "       'doc_uid', 'doc_doi', 'doc_issn', 'doc_eissn', 'so_title',\n",
       "       'au_keywords', 'pubyear', 'citedby_count', 'toomany_orno_matches'],\n",
       "      dtype='object')"
      ]
     },
     "execution_count": 192,
     "metadata": {},
     "output_type": "execute_result"
    }
   ],
   "source": [
    "data.columns"
   ]
  },
  {
   "cell_type": "code",
   "execution_count": 206,
   "metadata": {},
   "outputs": [],
   "source": [
    "data.to_csv(\"../data/docdata_all.csv\", encoding = 'utf-8')"
   ]
  },
  {
   "cell_type": "code",
   "execution_count": 193,
   "metadata": {},
   "outputs": [],
   "source": [
    "from collections import Counter\n",
    "import ast\n",
    "\n",
    "def most_freq(l: list, freq_num: int):\n",
    "    freqct = Counter(l)\n",
    "    return freqct.most_common(freq_num)\n",
    "\n",
    "def flatten2(l: list, freq_num: int):\n",
    "    flattened_list = [item for row in l for item in ast.literal_eval(row)]\n",
    "    freqct = Counter(flattened_list)\n",
    "    return freqct.most_common(freq_num)\n"
   ]
  },
  {
   "cell_type": "code",
   "execution_count": 194,
   "metadata": {},
   "outputs": [
    {
     "data": {
      "text/plain": [
       "'['"
      ]
     },
     "execution_count": 194,
     "metadata": {},
     "output_type": "execute_result"
    }
   ],
   "source": [
    "\"['antimony', 'antimony pollution', 'bioaccumulation', 'mushrooms', 'fungi', 'Suillus', 'Chalciporus']\"[0]"
   ]
  },
  {
   "cell_type": "code",
   "execution_count": 195,
   "metadata": {},
   "outputs": [],
   "source": [
    "data_byauthor = data.groupby([\"resID\"]).agg({'resID': \"first\",'Ranking': \"first\", 'University Name': \"first\", 'Name': \"first\", 'Position': \"first\", 'URL': \"first\",\n",
    "       'lastname': \"first\", 'firstnames': \"first\", 'firstinits': \"first\", 'suffix': \"first\",\n",
    "       'reordered_name': \"first\", 'match_name': \"first\", \n",
    "       'doc_uid': lambda x: list(x), 'so_title': lambda x: most_freq(x, 3),\n",
    "       'au_keywords': lambda x: flatten2(x, 8), 'pubyear': [\"min\", \"max\"], 'citedby_count': [\"min\", \"max\"],'toomany_orno_matches': \"first\"})"
   ]
  },
  {
   "cell_type": "code",
   "execution_count": 207,
   "metadata": {},
   "outputs": [
    {
     "name": "stdout",
     "output_type": "stream",
     "text": [
      "(14379, 20)\n"
     ]
    },
    {
     "data": {
      "text/html": [
       "<div>\n",
       "<style scoped>\n",
       "    .dataframe tbody tr th:only-of-type {\n",
       "        vertical-align: middle;\n",
       "    }\n",
       "\n",
       "    .dataframe tbody tr th {\n",
       "        vertical-align: top;\n",
       "    }\n",
       "\n",
       "    .dataframe thead th {\n",
       "        text-align: right;\n",
       "    }\n",
       "</style>\n",
       "<table border=\"1\" class=\"dataframe\">\n",
       "  <thead>\n",
       "    <tr style=\"text-align: right;\">\n",
       "      <th></th>\n",
       "      <th>resID</th>\n",
       "      <th>Ranking</th>\n",
       "      <th>University Name</th>\n",
       "      <th>Name</th>\n",
       "      <th>Position</th>\n",
       "      <th>URL</th>\n",
       "      <th>lastname</th>\n",
       "      <th>firstnames</th>\n",
       "      <th>firstinits</th>\n",
       "      <th>suffix</th>\n",
       "      <th>reordered_name</th>\n",
       "      <th>match_name</th>\n",
       "      <th>doc_uid</th>\n",
       "      <th>so_title</th>\n",
       "      <th>au_keywords</th>\n",
       "      <th>pubyear_min</th>\n",
       "      <th>pubyear_max</th>\n",
       "      <th>citedby_count_min</th>\n",
       "      <th>citedby_count_max</th>\n",
       "      <th>toomany_orno_matches</th>\n",
       "    </tr>\n",
       "    <tr>\n",
       "      <th>resID</th>\n",
       "      <th></th>\n",
       "      <th></th>\n",
       "      <th></th>\n",
       "      <th></th>\n",
       "      <th></th>\n",
       "      <th></th>\n",
       "      <th></th>\n",
       "      <th></th>\n",
       "      <th></th>\n",
       "      <th></th>\n",
       "      <th></th>\n",
       "      <th></th>\n",
       "      <th></th>\n",
       "      <th></th>\n",
       "      <th></th>\n",
       "      <th></th>\n",
       "      <th></th>\n",
       "      <th></th>\n",
       "      <th></th>\n",
       "      <th></th>\n",
       "    </tr>\n",
       "  </thead>\n",
       "  <tbody>\n",
       "    <tr>\n",
       "      <th>A-1022-2008</th>\n",
       "      <td>A-1022-2008</td>\n",
       "      <td>9</td>\n",
       "      <td>New York University</td>\n",
       "      <td>Jaroslav Borovicka</td>\n",
       "      <td>Assistant Professor</td>\n",
       "      <td>http://www.borovicka.org/</td>\n",
       "      <td>Borovicka</td>\n",
       "      <td>Jaroslav</td>\n",
       "      <td>J</td>\n",
       "      <td>None</td>\n",
       "      <td>Borovicka, J</td>\n",
       "      <td>Borovicka, J</td>\n",
       "      <td>[WOS:000231924700012, WOS:000240934200005, WOS...</td>\n",
       "      <td>[(MYCOLOGICAL PROGRESS, 9), (SCIENCE OF THE TO...</td>\n",
       "      <td>[(Fungi, 13), (taxonomy, 7), (Phylogeny, 5), (...</td>\n",
       "      <td>2005.0</td>\n",
       "      <td>2024.0</td>\n",
       "      <td>0.0</td>\n",
       "      <td>284.0</td>\n",
       "      <td>False</td>\n",
       "    </tr>\n",
       "    <tr>\n",
       "      <th>A-1061-2007</th>\n",
       "      <td>A-1061-2007</td>\n",
       "      <td>6</td>\n",
       "      <td>University of Pennsylvania</td>\n",
       "      <td>George J. Mailath</td>\n",
       "      <td>Professor</td>\n",
       "      <td>http://web.sas.upenn.edu/gmailath/</td>\n",
       "      <td>Mailath</td>\n",
       "      <td>George J.</td>\n",
       "      <td>GJ</td>\n",
       "      <td>None</td>\n",
       "      <td>Mailath, GJ</td>\n",
       "      <td>MAILATH, GJ</td>\n",
       "      <td>[WOS:A1987H935400007, WOS:A1987M272400005, WOS...</td>\n",
       "      <td>[(JOURNAL OF ECONOMIC THEORY, 11), (REVIEW OF ...</td>\n",
       "      <td>[(repeated games, 4), (reputation, 2), (imperf...</td>\n",
       "      <td>1987.0</td>\n",
       "      <td>2023.0</td>\n",
       "      <td>0.0</td>\n",
       "      <td>1132.0</td>\n",
       "      <td>None</td>\n",
       "    </tr>\n",
       "    <tr>\n",
       "      <th>A-1092-2007</th>\n",
       "      <td>A-1092-2007</td>\n",
       "      <td>30</td>\n",
       "      <td>University of Minnesota, Twin Cities</td>\n",
       "      <td>Christopher Phelan</td>\n",
       "      <td>Professor</td>\n",
       "      <td>https://sites.Google site.com/a/umn.edu/christ...</td>\n",
       "      <td>Phelan</td>\n",
       "      <td>Christopher</td>\n",
       "      <td>C</td>\n",
       "      <td>None</td>\n",
       "      <td>Phelan, C</td>\n",
       "      <td>Phelan, C</td>\n",
       "      <td>[WOS:000240526700009, WOS:000259585700004, WOS...</td>\n",
       "      <td>[(GENES &amp; DEVELOPMENT, 1), (MOLECULAR ENDOCRIN...</td>\n",
       "      <td>[(AKAP, 1), (aurora, 1), (HDAC, 1), (histone c...</td>\n",
       "      <td>2006.0</td>\n",
       "      <td>2021.0</td>\n",
       "      <td>3.0</td>\n",
       "      <td>141.0</td>\n",
       "      <td>False</td>\n",
       "    </tr>\n",
       "    <tr>\n",
       "      <th>A-1338-2011</th>\n",
       "      <td>A-1338-2011</td>\n",
       "      <td>37</td>\n",
       "      <td>Barcelona Graduate School of Economics</td>\n",
       "      <td>Abhay Abhyankar</td>\n",
       "      <td>Professor</td>\n",
       "      <td>http://business-school.exeter.ac.uk/about/peop...</td>\n",
       "      <td>Abhyankar</td>\n",
       "      <td>Abhay</td>\n",
       "      <td>A</td>\n",
       "      <td>None</td>\n",
       "      <td>Abhyankar, A</td>\n",
       "      <td>Abhyankar, A</td>\n",
       "      <td>[WOS:000223530300003, WOS:000226247500030, WOS...</td>\n",
       "      <td>[(JOURNAL OF CLINICAL IMMUNOLOGY, 5), (PLOS ON...</td>\n",
       "      <td>[(whole genome sequencing, 2), (genome sequenc...</td>\n",
       "      <td>2004.0</td>\n",
       "      <td>2023.0</td>\n",
       "      <td>0.0</td>\n",
       "      <td>581.0</td>\n",
       "      <td>False</td>\n",
       "    </tr>\n",
       "    <tr>\n",
       "      <th>A-1349-2008</th>\n",
       "      <td>A-1349-2008</td>\n",
       "      <td>17</td>\n",
       "      <td>Univeristy of Toronto</td>\n",
       "      <td>Victor Aguirregabiria</td>\n",
       "      <td>Professor</td>\n",
       "      <td>http://individual.utoronto.ca/vaguirre/</td>\n",
       "      <td>Aguirregabiria</td>\n",
       "      <td>Victor</td>\n",
       "      <td>V</td>\n",
       "      <td>None</td>\n",
       "      <td>Aguirregabiria, V</td>\n",
       "      <td>Aguirregabiria, V</td>\n",
       "      <td>[WOS:000080445600003, WOS:000166585300003, WOS...</td>\n",
       "      <td>[(ECONOMICS LETTERS, 3), (JOURNAL OF ECONOMETR...</td>\n",
       "      <td>[(Identification, 4), (multiple equilibria, 3)...</td>\n",
       "      <td>1999.0</td>\n",
       "      <td>2023.0</td>\n",
       "      <td>0.0</td>\n",
       "      <td>268.0</td>\n",
       "      <td>False</td>\n",
       "    </tr>\n",
       "  </tbody>\n",
       "</table>\n",
       "</div>"
      ],
      "text/plain": [
       "                   resID  Ranking                         University Name  \\\n",
       "resID                                                                       \n",
       "A-1022-2008  A-1022-2008        9                     New York University   \n",
       "A-1061-2007  A-1061-2007        6              University of Pennsylvania   \n",
       "A-1092-2007  A-1092-2007       30    University of Minnesota, Twin Cities   \n",
       "A-1338-2011  A-1338-2011       37  Barcelona Graduate School of Economics   \n",
       "A-1349-2008  A-1349-2008       17                   Univeristy of Toronto   \n",
       "\n",
       "                              Name             Position  \\\n",
       "resID                                                     \n",
       "A-1022-2008     Jaroslav Borovicka  Assistant Professor   \n",
       "A-1061-2007      George J. Mailath            Professor   \n",
       "A-1092-2007     Christopher Phelan            Professor   \n",
       "A-1338-2011        Abhay Abhyankar            Professor   \n",
       "A-1349-2008  Victor Aguirregabiria            Professor   \n",
       "\n",
       "                                                           URL  \\\n",
       "resID                                                            \n",
       "A-1022-2008                          http://www.borovicka.org/   \n",
       "A-1061-2007                 http://web.sas.upenn.edu/gmailath/   \n",
       "A-1092-2007  https://sites.Google site.com/a/umn.edu/christ...   \n",
       "A-1338-2011  http://business-school.exeter.ac.uk/about/peop...   \n",
       "A-1349-2008            http://individual.utoronto.ca/vaguirre/   \n",
       "\n",
       "                   lastname   firstnames firstinits suffix     reordered_name  \\\n",
       "resID                                                                           \n",
       "A-1022-2008       Borovicka     Jaroslav          J   None       Borovicka, J   \n",
       "A-1061-2007         Mailath    George J.         GJ   None        Mailath, GJ   \n",
       "A-1092-2007          Phelan  Christopher          C   None          Phelan, C   \n",
       "A-1338-2011       Abhyankar        Abhay          A   None       Abhyankar, A   \n",
       "A-1349-2008  Aguirregabiria       Victor          V   None  Aguirregabiria, V   \n",
       "\n",
       "                    match_name  \\\n",
       "resID                            \n",
       "A-1022-2008       Borovicka, J   \n",
       "A-1061-2007        MAILATH, GJ   \n",
       "A-1092-2007          Phelan, C   \n",
       "A-1338-2011       Abhyankar, A   \n",
       "A-1349-2008  Aguirregabiria, V   \n",
       "\n",
       "                                                       doc_uid  \\\n",
       "resID                                                            \n",
       "A-1022-2008  [WOS:000231924700012, WOS:000240934200005, WOS...   \n",
       "A-1061-2007  [WOS:A1987H935400007, WOS:A1987M272400005, WOS...   \n",
       "A-1092-2007  [WOS:000240526700009, WOS:000259585700004, WOS...   \n",
       "A-1338-2011  [WOS:000223530300003, WOS:000226247500030, WOS...   \n",
       "A-1349-2008  [WOS:000080445600003, WOS:000166585300003, WOS...   \n",
       "\n",
       "                                                      so_title  \\\n",
       "resID                                                            \n",
       "A-1022-2008  [(MYCOLOGICAL PROGRESS, 9), (SCIENCE OF THE TO...   \n",
       "A-1061-2007  [(JOURNAL OF ECONOMIC THEORY, 11), (REVIEW OF ...   \n",
       "A-1092-2007  [(GENES & DEVELOPMENT, 1), (MOLECULAR ENDOCRIN...   \n",
       "A-1338-2011  [(JOURNAL OF CLINICAL IMMUNOLOGY, 5), (PLOS ON...   \n",
       "A-1349-2008  [(ECONOMICS LETTERS, 3), (JOURNAL OF ECONOMETR...   \n",
       "\n",
       "                                                   au_keywords  pubyear_min  \\\n",
       "resID                                                                         \n",
       "A-1022-2008  [(Fungi, 13), (taxonomy, 7), (Phylogeny, 5), (...       2005.0   \n",
       "A-1061-2007  [(repeated games, 4), (reputation, 2), (imperf...       1987.0   \n",
       "A-1092-2007  [(AKAP, 1), (aurora, 1), (HDAC, 1), (histone c...       2006.0   \n",
       "A-1338-2011  [(whole genome sequencing, 2), (genome sequenc...       2004.0   \n",
       "A-1349-2008  [(Identification, 4), (multiple equilibria, 3)...       1999.0   \n",
       "\n",
       "             pubyear_max  citedby_count_min  citedby_count_max  \\\n",
       "resID                                                            \n",
       "A-1022-2008       2024.0                0.0              284.0   \n",
       "A-1061-2007       2023.0                0.0             1132.0   \n",
       "A-1092-2007       2021.0                3.0              141.0   \n",
       "A-1338-2011       2023.0                0.0              581.0   \n",
       "A-1349-2008       2023.0                0.0              268.0   \n",
       "\n",
       "            toomany_orno_matches  \n",
       "resID                             \n",
       "A-1022-2008                False  \n",
       "A-1061-2007                 None  \n",
       "A-1092-2007                False  \n",
       "A-1338-2011                False  \n",
       "A-1349-2008                False  "
      ]
     },
     "execution_count": 207,
     "metadata": {},
     "output_type": "execute_result"
    }
   ],
   "source": [
    "print(data_byauthor.shape)\n",
    "data_byauthor.head()"
   ]
  },
  {
   "cell_type": "code",
   "execution_count": 197,
   "metadata": {},
   "outputs": [
    {
     "data": {
      "text/plain": [
       "resID\n",
       "A-1022-2008    [(Fungi, 13), (taxonomy, 7), (Phylogeny, 5), (...\n",
       "A-1061-2007    [(repeated games, 4), (reputation, 2), (imperf...\n",
       "A-1092-2007    [(AKAP, 1), (aurora, 1), (HDAC, 1), (histone c...\n",
       "A-1338-2011    [(whole genome sequencing, 2), (genome sequenc...\n",
       "A-1349-2008    [(Identification, 4), (multiple equilibria, 3)...\n",
       "                                     ...                        \n",
       "Y-2448-2019    [(R&D, 4), (productivity, 4), (uncertainty, 3)...\n",
       "Y-4724-2019    [(EBSD, 2), (Martensitic transformation, 2), (...\n",
       "Y-6143-2018    [(Pyrolysis, 2), (Epoxy resin, 1), (Oxidation,...\n",
       "Z-4634-2019    [(Regime change, 1), (Global games, 1), (Netwo...\n",
       "Z-5491-2019    [(Depression, 7), (5-HT1A receptor, 7), (5-HT1...\n",
       "Name: (au_keywords, <lambda>), Length: 14379, dtype: object"
      ]
     },
     "execution_count": 197,
     "metadata": {},
     "output_type": "execute_result"
    }
   ],
   "source": [
    "data_byauthor.iloc[:, 14]"
   ]
  },
  {
   "cell_type": "code",
   "execution_count": 198,
   "metadata": {},
   "outputs": [],
   "source": [
    "#data_byauthor.columns = data_byauthor.columns.get_level_values(0)\n",
    "#data_byauthor.columns = [' '.join(col).strip() for col in data_byauthor.columns.values]\n",
    "#data_byauthor.columns"
   ]
  },
  {
   "cell_type": "code",
   "execution_count": 199,
   "metadata": {},
   "outputs": [
    {
     "data": {
      "text/plain": [
       "Index([               ('resID', 'first'),              ('Ranking', 'first'),\n",
       "            ('University Name', 'first'),                 ('Name', 'first'),\n",
       "                   ('Position', 'first'),                  ('URL', 'first'),\n",
       "                   ('lastname', 'first'),           ('firstnames', 'first'),\n",
       "                 ('firstinits', 'first'),               ('suffix', 'first'),\n",
       "             ('reordered_name', 'first'),           ('match_name', 'first'),\n",
       "                 ('doc_uid', '<lambda>'),          ('so_title', '<lambda>'),\n",
       "             ('au_keywords', '<lambda>'),                ('pubyear', 'min'),\n",
       "                      ('pubyear', 'max'),          ('citedby_count', 'min'),\n",
       "                ('citedby_count', 'max'), ('toomany_orno_matches', 'first')],\n",
       "      dtype='object')"
      ]
     },
     "execution_count": 199,
     "metadata": {},
     "output_type": "execute_result"
    }
   ],
   "source": [
    "data_byauthor.columns = data_byauthor.columns.to_flat_index()\n",
    "#data_byauthor.columns = [\"_\".join(a) for a in data_byauthor.columns.to_flat_index()]\n",
    "\n",
    "data_byauthor.columns"
   ]
  },
  {
   "cell_type": "code",
   "execution_count": 203,
   "metadata": {},
   "outputs": [
    {
     "data": {
      "text/plain": [
       "Index(['resID', 'Ranking', 'University Name', 'Name', 'Position', 'URL',\n",
       "       'lastname', 'firstnames', 'firstinits', 'suffix', 'reordered_name',\n",
       "       'match_name', 'doc_uid', 'so_title', 'au_keywords', 'pubyear_min',\n",
       "       'pubyear_max', 'citedby_count_min', 'citedby_count_max',\n",
       "       'toomany_orno_matches'],\n",
       "      dtype='object')"
      ]
     },
     "execution_count": 203,
     "metadata": {},
     "output_type": "execute_result"
    }
   ],
   "source": [
    "data_byauthor.columns = [\"_\".join(a) if a[1] in [\"max\", \"min\"] else a[0] for a in data_byauthor.columns]\n",
    "data_byauthor.columns"
   ]
  },
  {
   "cell_type": "code",
   "execution_count": 224,
   "metadata": {},
   "outputs": [
    {
     "data": {
      "text/plain": [
       "Index(['Ranking', 'University Name', 'Name', 'Position', 'URL',\n",
       "       'hosting domain', 'lastname', 'firstnames', 'firstinits', 'suffix',\n",
       "       'reordered_name', 'doclists', 'too_many_matches', 'match_name', 'resID',\n",
       "       'doc_uid', 'doc_doi', 'doc_issn', 'doc_eissn', 'so_title',\n",
       "       'au_keywords', 'pubyear', 'citedby_count', 'toomany_orno_matches'],\n",
       "      dtype='object')"
      ]
     },
     "execution_count": 224,
     "metadata": {},
     "output_type": "execute_result"
    }
   ],
   "source": [
    "data_nomatches.columns"
   ]
  },
  {
   "cell_type": "code",
   "execution_count": 228,
   "metadata": {},
   "outputs": [
    {
     "name": "stdout",
     "output_type": "stream",
     "text": [
      "(14379, 20)\n",
      "(1576, 24)\n"
     ]
    },
    {
     "data": {
      "text/plain": [
       "(15955, 28)"
      ]
     },
     "execution_count": 228,
     "metadata": {},
     "output_type": "execute_result"
    }
   ],
   "source": [
    "print(data_byauthor.shape)\n",
    "print(data_nomatches.shape)\n",
    "data_byauthor2 = pd.concat([data_byauthor, data_nomatches])\n",
    "data_byauthor2.shape"
   ]
  },
  {
   "cell_type": "code",
   "execution_count": 229,
   "metadata": {},
   "outputs": [],
   "source": [
    "data_byauthor2.to_csv(\"../data/authordata_ids_checkmatches.csv\", encoding = 'utf-8')"
   ]
  }
 ],
 "metadata": {
  "kernelspec": {
   "display_name": ".venv",
   "language": "python",
   "name": "python3"
  },
  "language_info": {
   "codemirror_mode": {
    "name": "ipython",
    "version": 3
   },
   "file_extension": ".py",
   "mimetype": "text/x-python",
   "name": "python",
   "nbconvert_exporter": "python",
   "pygments_lexer": "ipython3",
   "version": "3.11.4"
  }
 },
 "nbformat": 4,
 "nbformat_minor": 2
}
