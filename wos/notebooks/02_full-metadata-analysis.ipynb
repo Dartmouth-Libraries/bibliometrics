{
 "cells": [
  {
   "cell_type": "markdown",
   "metadata": {},
   "source": [
    "# Metadata Analysis of Web of Science Data\n",
    "\n",
    "This notebook uses a data file of WoS merged in the previous notebook (notebook \"01\")."
   ]
  },
  {
   "cell_type": "markdown",
   "metadata": {},
   "source": [
    "### 0. Import files if using Google Colab\n",
    "\n",
    "If using Colab, uncomment out the cell below and run."
   ]
  },
  {
   "cell_type": "code",
   "execution_count": null,
   "metadata": {},
   "outputs": [],
   "source": [
    "#!wget https://git.dartmouth.edu/lib-digital-strategies/RDS/projects/bibliometrics/-/archive/main/bibliometrics-main.zip\n",
    "#!unzip bibliometrics-main.zip"
   ]
  },
  {
   "cell_type": "code",
   "execution_count": null,
   "metadata": {},
   "outputs": [],
   "source": [
    "import sys\n",
    "sys.path.insert(0, '../code')\n",
    "import wos_functions\n",
    "\n",
    "import pandas as pd \n",
    "from pathlib import Path\n",
    "import collections\n",
    "import seaborn as sns\n",
    "import matplotlib.pyplot as plt"
   ]
  },
  {
   "cell_type": "code",
   "execution_count": null,
   "metadata": {},
   "outputs": [],
   "source": [
    "inputdir = Path(\"../data/resilience/merged\")\n",
    "data = pd.read_csv(Path(inputdir, \"merged_wos_files.csv\"), encoding = 'utf-8', index_col=[0])\n",
    "data.head()"
   ]
  },
  {
   "cell_type": "code",
   "execution_count": null,
   "metadata": {},
   "outputs": [],
   "source": [
    "data.info()"
   ]
  },
  {
   "cell_type": "code",
   "execution_count": null,
   "metadata": {},
   "outputs": [],
   "source": []
  },
  {
   "cell_type": "markdown",
   "metadata": {},
   "source": [
    "## Visualize Papers over Time"
   ]
  },
  {
   "cell_type": "code",
   "execution_count": null,
   "metadata": {},
   "outputs": [],
   "source": [
    "wosdf = pd.read_csv(\"../data/resilience/merged/merged-wos_subcols.csv\", encoding = 'utf-8', index_col=[0])\n",
    "print(wosdf.shape)\n",
    "wosdf.head()"
   ]
  },
  {
   "cell_type": "code",
   "execution_count": null,
   "metadata": {},
   "outputs": [],
   "source": [
    "wos_yrs = wosdf.groupby(\"PY\").size()\n",
    "wos_yrs"
   ]
  },
  {
   "cell_type": "code",
   "execution_count": null,
   "metadata": {},
   "outputs": [],
   "source": [
    "sns.barplot(wos_yrs)\n",
    "plt.xticks(rotation=90);"
   ]
  },
  {
   "cell_type": "code",
   "execution_count": null,
   "metadata": {},
   "outputs": [],
   "source": []
  },
  {
   "cell_type": "markdown",
   "metadata": {},
   "source": [
    "## Visualize Distribution of Papers by WoS Group\n",
    "\n",
    "## Analysis of Web of Science Groups\n",
    "\n",
    "The Web of Science places each article or paper into at least one, and often multiple, [WoS categories](https://jcr.clarivate.com/jcr/browse-category-list) (254 total available categories). If your Web of Science dataset is narrowly focused in one discipline, then an analysis of these categories could be fruitful.\n",
    "\n",
    "However, if the search criteria you used to create your dataset is large, then you will want to aggregate these 254 possible categories into a narrower range of groups. Fortunately, the WoS assigns each of these 254 categories into a narrower range of [21 groups](https://jcr.clarivate.com/jcr/browse-categories). Unfortunately, the WoS links many of these 254 categories with multiple groups. Thus, the aggregation of your dataset from categories to groups is not a straightforward process.\n",
    "\n",
    "Thus, I have created the following functions that each return a new dataframe:\n",
    "1. **wos_add_and_explode_groups()**: returns your original dataframe with a new column identifying the group(s) matching each paper / category\n",
    "2. **wos_groupby_Groups**: a summary dataframe grouping your original data by WoS Group.\n",
    "\n"
   ]
  },
  {
   "cell_type": "code",
   "execution_count": null,
   "metadata": {},
   "outputs": [],
   "source": [
    "data_explode = wos_functions.wos_add_and_explode_groups(data)"
   ]
  },
  {
   "cell_type": "code",
   "execution_count": null,
   "metadata": {},
   "outputs": [],
   "source": [
    "groupsdf = wos_functions.wos_groupby_Groups(data_explode)\n",
    "groupsdf.head()"
   ]
  },
  {
   "cell_type": "code",
   "execution_count": null,
   "metadata": {},
   "outputs": [],
   "source": [
    "sns.barplot(groupsdf, y=\"Group\", x=\"numitems_insample_per100kinWOS\");"
   ]
  },
  {
   "cell_type": "markdown",
   "metadata": {},
   "source": [
    "## Group by WoS Group *and* Year"
   ]
  },
  {
   "cell_type": "code",
   "execution_count": null,
   "metadata": {},
   "outputs": [],
   "source": [
    "data_yr_group = data_explode.groupby([\"Group\", \"PY\"])[\"PT\"].count().reset_index(name=\"yr_ct\")"
   ]
  },
  {
   "cell_type": "code",
   "execution_count": null,
   "metadata": {},
   "outputs": [],
   "source": [
    "# code for creating the faceted grid of area graphs below is \n",
    "## adapted from: https://python-graph-gallery.com/242-area-chart-and-faceting/\n",
    "\n",
    "# Create a grid : initialize it\n",
    "g = sns.FacetGrid(data_yr_group, col=\"Group\", hue=\"Group\", col_wrap = 3)\n",
    "\n",
    "# Add the line over the area with the plot function\n",
    "g = g.map(plt.plot, 'PY', 'yr_ct')\n",
    "\n",
    "# Fill the area with fill_between\n",
    "g = g.map(plt.fill_between, 'PY', 'yr_ct', alpha=0.2).set_titles(\"{col_name}\")\n",
    "\n",
    "# Add a title for the whole plot\n",
    "plt.subplots_adjust(top=0.92)\n",
    "g = g.figure.suptitle('Frequency of use of keyword \"resilience\" in Web of Science database')"
   ]
  },
  {
   "cell_type": "markdown",
   "metadata": {},
   "source": [
    "What can you learn from the above graphs? What changes would you want to make to more clearly discern patterns in scholarship?"
   ]
  },
  {
   "cell_type": "code",
   "execution_count": null,
   "metadata": {},
   "outputs": [],
   "source": []
  },
  {
   "cell_type": "code",
   "execution_count": null,
   "metadata": {},
   "outputs": [],
   "source": [
    "#len(kwslist3)"
   ]
  },
  {
   "cell_type": "code",
   "execution_count": null,
   "metadata": {},
   "outputs": [],
   "source": [
    "\"\"\"\n",
    "from itertools import combinations\n",
    "from collections import Counter\n",
    "d  = Counter()\n",
    "for sub in kwslist3:\n",
    "    print(len(sub))\n",
    "    if len(sub) < 2:\n",
    "        continue\n",
    "    sub.sort()\n",
    "    for sz in range(2, len(sub)+1):\n",
    "        for comb in combinations(sub, sz):\n",
    "            d[comb] += 1\n",
    "\n",
    "print(d.most_common())\n",
    "\"\"\""
   ]
  }
 ],
 "metadata": {
  "kernelspec": {
   "display_name": ".venv",
   "language": "python",
   "name": "python3"
  },
  "language_info": {
   "codemirror_mode": {
    "name": "ipython",
    "version": 3
   },
   "file_extension": ".py",
   "mimetype": "text/x-python",
   "name": "python",
   "nbconvert_exporter": "python",
   "pygments_lexer": "ipython3",
   "version": "3.11.4"
  }
 },
 "nbformat": 4,
 "nbformat_minor": 2
}
