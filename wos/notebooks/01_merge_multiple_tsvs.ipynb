{
 "cells": [
  {
   "cell_type": "markdown",
   "metadata": {},
   "source": [
    "# WoS Notebook 01\n",
    "\n",
    "# Merge Multiple Exported Files from the Web of Science\n",
    "\n",
    "## Importing text files exported from Web of Science Database and Compiling them into a single dataset (and saving as a .csv)\n",
    "\n",
    "If you used the Web of Science online database - and your results exceeded 500 records - you will have downloaded multiple tab-delimited files (our recommended export format). After placing all exported tab-delimited files into one common folder, you can use this notebook to merge these files into one .csv file."
   ]
  },
  {
   "cell_type": "markdown",
   "metadata": {},
   "source": [
    "## 0. Setup\n",
    "\n",
    "### Import required packages"
   ]
  },
  {
   "cell_type": "code",
   "execution_count": 6,
   "metadata": {},
   "outputs": [],
   "source": [
    "from pathlib import Path   #for working with filepaths\n",
    "import pandas as pd        #for creating and working with dataframes"
   ]
  },
  {
   "cell_type": "markdown",
   "metadata": {},
   "source": [
    "### Set path to directory containing WoS Text Files"
   ]
  },
  {
   "cell_type": "code",
   "execution_count": 7,
   "metadata": {},
   "outputs": [
    {
     "data": {
      "text/plain": [
       "WindowsPath('c:/Users/F0040RP/Documents/DartLib_RDS/projects/bibliometrics/bibliometrics-analysis/wos/notebooks')"
      ]
     },
     "execution_count": 7,
     "metadata": {},
     "output_type": "execute_result"
    }
   ],
   "source": [
    "#check your current working directory\n",
    "Path.cwd()"
   ]
  },
  {
   "cell_type": "code",
   "execution_count": 8,
   "metadata": {},
   "outputs": [
    {
     "data": {
      "text/plain": [
       "['resilience1001-1500.txt',\n",
       " 'resilience1501-2000.txt',\n",
       " 'resilience1_500.txt',\n",
       " 'resilience2001-2500.txt',\n",
       " 'resilience2501-3000.txt',\n",
       " 'resilience501-1000.txt']"
      ]
     },
     "execution_count": 8,
     "metadata": {},
     "output_type": "execute_result"
    }
   ],
   "source": [
    "#pathdir = Path.cwd()                        #use this if tsv .txt files are in current working directory\n",
    "pathdir = Path(\"../data/resilience/orig_txt\")                 #use this to set relative path to .txt files if they are not in cwd\n",
    "\n",
    "# get a list of relative paths to all \".txt\" files in pathdir       \n",
    "pathlist = sorted(pathdir.glob('*.txt'))    \n",
    "[path.name for path in pathlist]"
   ]
  },
  {
   "cell_type": "markdown",
   "metadata": {},
   "source": [
    "### Import Data \n",
    "\n",
    "Read in tab-separated-value text files and combine into one dataframe"
   ]
  },
  {
   "cell_type": "code",
   "execution_count": 9,
   "metadata": {},
   "outputs": [
    {
     "name": "stdout",
     "output_type": "stream",
     "text": [
      "Reading & appending file number: 0 (with 500 rows) of 6 total files. Pathname:  resilience1001-1500\n",
      "Reading & appending file number: 1 (with 500 rows) of 6 total files. Pathname:  resilience1501-2000\n",
      "Reading & appending file number: 2 (with 500 rows) of 6 total files. Pathname:  resilience1_500\n",
      "Reading & appending file number: 3 (with 500 rows) of 6 total files. Pathname:  resilience2001-2500\n",
      "Reading & appending file number: 4 (with 500 rows) of 6 total files. Pathname:  resilience2501-3000\n",
      "Reading & appending file number: 5 (with 500 rows) of 6 total files. Pathname:  resilience501-1000\n"
     ]
    }
   ],
   "source": [
    "datalist = []                           #creates an empty list\n",
    "for i, path in enumerate(pathlist):\n",
    "    df = pd.read_csv(path, sep = \"\\t\")\n",
    "    print(\"Reading & appending file number:\",\n",
    "          i,\n",
    "          \"(with %s rows) of\" %df.shape[0], len(pathlist),\n",
    "          \"total files. Pathname: \",\n",
    "          path.stem\n",
    "          )\n",
    "    datalist.append(df)    ## appends each imported dataframe into a list of dataframes\n",
    "    \n",
    "data = pd.concat(datalist)        #concatenates or joins each dataframe in datalist into one dataframe"
   ]
  },
  {
   "cell_type": "markdown",
   "metadata": {},
   "source": [
    "## 1. Get summary data"
   ]
  },
  {
   "cell_type": "code",
   "execution_count": 10,
   "metadata": {},
   "outputs": [
    {
     "name": "stdout",
     "output_type": "stream",
     "text": [
      "(3000, 71)\n"
     ]
    },
    {
     "data": {
      "text/html": [
       "<div>\n",
       "<style scoped>\n",
       "    .dataframe tbody tr th:only-of-type {\n",
       "        vertical-align: middle;\n",
       "    }\n",
       "\n",
       "    .dataframe tbody tr th {\n",
       "        vertical-align: top;\n",
       "    }\n",
       "\n",
       "    .dataframe thead th {\n",
       "        text-align: right;\n",
       "    }\n",
       "</style>\n",
       "<table border=\"1\" class=\"dataframe\">\n",
       "  <thead>\n",
       "    <tr style=\"text-align: right;\">\n",
       "      <th></th>\n",
       "      <th>PT</th>\n",
       "      <th>AU</th>\n",
       "      <th>BA</th>\n",
       "      <th>BE</th>\n",
       "      <th>GP</th>\n",
       "      <th>AF</th>\n",
       "      <th>BF</th>\n",
       "      <th>CA</th>\n",
       "      <th>TI</th>\n",
       "      <th>SO</th>\n",
       "      <th>...</th>\n",
       "      <th>WC</th>\n",
       "      <th>WE</th>\n",
       "      <th>SC</th>\n",
       "      <th>GA</th>\n",
       "      <th>PM</th>\n",
       "      <th>OA</th>\n",
       "      <th>HC</th>\n",
       "      <th>HP</th>\n",
       "      <th>DA</th>\n",
       "      <th>UT</th>\n",
       "    </tr>\n",
       "  </thead>\n",
       "  <tbody>\n",
       "    <tr>\n",
       "      <th>0</th>\n",
       "      <td>J</td>\n",
       "      <td>Jiang, YW; Ritchie, BW; Verreynne, ML</td>\n",
       "      <td>NaN</td>\n",
       "      <td>NaN</td>\n",
       "      <td>NaN</td>\n",
       "      <td>Jiang, Yawei; Ritchie, Brent W.; Verreynne, Ma...</td>\n",
       "      <td>NaN</td>\n",
       "      <td>NaN</td>\n",
       "      <td>Developing disaster resilience: A processual a...</td>\n",
       "      <td>TOURISM MANAGEMENT</td>\n",
       "      <td>...</td>\n",
       "      <td>Environmental Studies; Hospitality, Leisure, S...</td>\n",
       "      <td>Social Science Citation Index (SSCI)</td>\n",
       "      <td>Environmental Sciences &amp; Ecology; Social Scien...</td>\n",
       "      <td>WQ3JE</td>\n",
       "      <td>NaN</td>\n",
       "      <td>NaN</td>\n",
       "      <td>NaN</td>\n",
       "      <td>NaN</td>\n",
       "      <td>2023-08-03</td>\n",
       "      <td>WOS:000713714900002</td>\n",
       "    </tr>\n",
       "    <tr>\n",
       "      <th>1</th>\n",
       "      <td>J</td>\n",
       "      <td>Nystrom, M; Graham, NAJ; Lokrantz, J; Norstrom...</td>\n",
       "      <td>NaN</td>\n",
       "      <td>NaN</td>\n",
       "      <td>NaN</td>\n",
       "      <td>Nystrom, M.; Graham, N. A. J.; Lokrantz, J.; N...</td>\n",
       "      <td>NaN</td>\n",
       "      <td>NaN</td>\n",
       "      <td>Capturing the cornerstones of coral reef resil...</td>\n",
       "      <td>CORAL REEFS</td>\n",
       "      <td>...</td>\n",
       "      <td>Marine &amp; Freshwater Biology</td>\n",
       "      <td>Science Citation Index Expanded (SCI-EXPANDED)</td>\n",
       "      <td>Marine &amp; Freshwater Biology</td>\n",
       "      <td>368JC</td>\n",
       "      <td>NaN</td>\n",
       "      <td>NaN</td>\n",
       "      <td>NaN</td>\n",
       "      <td>NaN</td>\n",
       "      <td>2023-08-03</td>\n",
       "      <td>WOS:000260616400011</td>\n",
       "    </tr>\n",
       "    <tr>\n",
       "      <th>2</th>\n",
       "      <td>J</td>\n",
       "      <td>Cassidy, S</td>\n",
       "      <td>NaN</td>\n",
       "      <td>NaN</td>\n",
       "      <td>NaN</td>\n",
       "      <td>Cassidy, Simon</td>\n",
       "      <td>NaN</td>\n",
       "      <td>NaN</td>\n",
       "      <td>The Academic Resilience Scale (ARS-30): A New ...</td>\n",
       "      <td>FRONTIERS IN PSYCHOLOGY</td>\n",
       "      <td>...</td>\n",
       "      <td>Psychology, Multidisciplinary</td>\n",
       "      <td>Social Science Citation Index (SSCI)</td>\n",
       "      <td>Psychology</td>\n",
       "      <td>EC3JI</td>\n",
       "      <td>27917137.0</td>\n",
       "      <td>Green Published, gold</td>\n",
       "      <td>NaN</td>\n",
       "      <td>NaN</td>\n",
       "      <td>2023-08-03</td>\n",
       "      <td>WOS:000388022000001</td>\n",
       "    </tr>\n",
       "  </tbody>\n",
       "</table>\n",
       "<p>3 rows × 71 columns</p>\n",
       "</div>"
      ],
      "text/plain": [
       "  PT                                                 AU   BA   BE   GP  \\\n",
       "0  J              Jiang, YW; Ritchie, BW; Verreynne, ML  NaN  NaN  NaN   \n",
       "1  J  Nystrom, M; Graham, NAJ; Lokrantz, J; Norstrom...  NaN  NaN  NaN   \n",
       "2  J                                         Cassidy, S  NaN  NaN  NaN   \n",
       "\n",
       "                                                  AF   BF   CA  \\\n",
       "0  Jiang, Yawei; Ritchie, Brent W.; Verreynne, Ma...  NaN  NaN   \n",
       "1  Nystrom, M.; Graham, N. A. J.; Lokrantz, J.; N...  NaN  NaN   \n",
       "2                                     Cassidy, Simon  NaN  NaN   \n",
       "\n",
       "                                                  TI                       SO  \\\n",
       "0  Developing disaster resilience: A processual a...       TOURISM MANAGEMENT   \n",
       "1  Capturing the cornerstones of coral reef resil...              CORAL REEFS   \n",
       "2  The Academic Resilience Scale (ARS-30): A New ...  FRONTIERS IN PSYCHOLOGY   \n",
       "\n",
       "   ...                                                 WC  \\\n",
       "0  ...  Environmental Studies; Hospitality, Leisure, S...   \n",
       "1  ...                        Marine & Freshwater Biology   \n",
       "2  ...                      Psychology, Multidisciplinary   \n",
       "\n",
       "                                               WE  \\\n",
       "0            Social Science Citation Index (SSCI)   \n",
       "1  Science Citation Index Expanded (SCI-EXPANDED)   \n",
       "2            Social Science Citation Index (SSCI)   \n",
       "\n",
       "                                                  SC     GA          PM  \\\n",
       "0  Environmental Sciences & Ecology; Social Scien...  WQ3JE         NaN   \n",
       "1                        Marine & Freshwater Biology  368JC         NaN   \n",
       "2                                         Psychology  EC3JI  27917137.0   \n",
       "\n",
       "                      OA   HC   HP          DA                   UT  \n",
       "0                    NaN  NaN  NaN  2023-08-03  WOS:000713714900002  \n",
       "1                    NaN  NaN  NaN  2023-08-03  WOS:000260616400011  \n",
       "2  Green Published, gold  NaN  NaN  2023-08-03  WOS:000388022000001  \n",
       "\n",
       "[3 rows x 71 columns]"
      ]
     },
     "execution_count": 10,
     "metadata": {},
     "output_type": "execute_result"
    }
   ],
   "source": [
    "print(data.shape)\n",
    "data.head(3)"
   ]
  },
  {
   "cell_type": "code",
   "execution_count": 11,
   "metadata": {},
   "outputs": [
    {
     "name": "stdout",
     "output_type": "stream",
     "text": [
      "<class 'pandas.core.frame.DataFrame'>\n",
      "Index: 3000 entries, 0 to 499\n",
      "Data columns (total 71 columns):\n",
      " #   Column  Non-Null Count  Dtype  \n",
      "---  ------  --------------  -----  \n",
      " 0   PT      3000 non-null   object \n",
      " 1   AU      3000 non-null   object \n",
      " 2   BA      21 non-null     object \n",
      " 3   BE      389 non-null    object \n",
      " 4   GP      107 non-null    object \n",
      " 5   AF      3000 non-null   object \n",
      " 6   BF      21 non-null     object \n",
      " 7   CA      7 non-null      object \n",
      " 8   TI      3000 non-null   object \n",
      " 9   SO      3000 non-null   object \n",
      " 10  SE      320 non-null    object \n",
      " 11  BS      0 non-null      float64\n",
      " 12  LA      3000 non-null   object \n",
      " 13  DT      3000 non-null   object \n",
      " 14  CT      475 non-null    object \n",
      " 15  CY      475 non-null    object \n",
      " 16  CL      475 non-null    object \n",
      " 17  SP      309 non-null    object \n",
      " 18  HO      107 non-null    object \n",
      " 19  DE      2987 non-null   object \n",
      " 20  ID      2382 non-null   object \n",
      " 21  AB      3000 non-null   object \n",
      " 22  C1      2972 non-null   object \n",
      " 23  C3      2811 non-null   object \n",
      " 24  RP      2909 non-null   object \n",
      " 25  EM      2799 non-null   object \n",
      " 26  RI      1521 non-null   object \n",
      " 27  OI      1928 non-null   object \n",
      " 28  FU      1297 non-null   object \n",
      " 29  FP      1294 non-null   object \n",
      " 30  FX      1272 non-null   object \n",
      " 31  CR      2980 non-null   object \n",
      " 32  NR      3000 non-null   int64  \n",
      " 33  TC      3000 non-null   int64  \n",
      " 34  Z9      3000 non-null   int64  \n",
      " 35  U1      3000 non-null   int64  \n",
      " 36  U2      3000 non-null   int64  \n",
      " 37  PU      3000 non-null   object \n",
      " 38  PI      3000 non-null   object \n",
      " 39  PA      3000 non-null   object \n",
      " 40  SN      2560 non-null   object \n",
      " 41  EI      2103 non-null   object \n",
      " 42  BN      408 non-null    object \n",
      " 43  J9      2803 non-null   object \n",
      " 44  JI      2509 non-null   object \n",
      " 45  PD      2007 non-null   object \n",
      " 46  PY      3000 non-null   int64  \n",
      " 47  VL      2553 non-null   object \n",
      " 48  IS      1832 non-null   object \n",
      " 49  PN      21 non-null     object \n",
      " 50  SU      25 non-null     object \n",
      " 51  SI      245 non-null    object \n",
      " 52  MA      0 non-null      float64\n",
      " 53  BP      2191 non-null   object \n",
      " 54  EP      2191 non-null   object \n",
      " 55  AR      703 non-null    object \n",
      " 56  DI      2652 non-null   object \n",
      " 57  DL      2652 non-null   object \n",
      " 58  D2      71 non-null     object \n",
      " 59  EA      567 non-null    object \n",
      " 60  PG      3000 non-null   int64  \n",
      " 61  WC      2994 non-null   object \n",
      " 62  WE      3000 non-null   object \n",
      " 63  SC      2994 non-null   object \n",
      " 64  GA      3000 non-null   object \n",
      " 65  PM      663 non-null    float64\n",
      " 66  OA      1338 non-null   object \n",
      " 67  HC      59 non-null     object \n",
      " 68  HP      59 non-null     object \n",
      " 69  DA      3000 non-null   object \n",
      " 70  UT      3000 non-null   object \n",
      "dtypes: float64(3), int64(7), object(61)\n",
      "memory usage: 1.6+ MB\n"
     ]
    }
   ],
   "source": [
    "data.info()\n",
    "# can also try:\n",
    "## data.describe()\n",
    "## data.tail()"
   ]
  },
  {
   "cell_type": "markdown",
   "metadata": {},
   "source": [
    "## 2. Export full dataframe into a .csv file\n",
    "\n",
    "Skip to step #3 if you only want to export a subsetted version of the dataset."
   ]
  },
  {
   "cell_type": "code",
   "execution_count": 12,
   "metadata": {},
   "outputs": [],
   "source": [
    "outputdir = Path(\"../data/resilience/merged\")\n",
    "data.to_csv(Path(outputdir,\"merged_wos_files.csv\"), encoding = \"utf-8\")"
   ]
  },
  {
   "cell_type": "markdown",
   "metadata": {},
   "source": [
    "## 3. Subset dataframe and then export\n",
    "\n",
    "Often, the Web of Science database provides more data fields than we need. We can work with a smaller version of the dataset by only keeping those columns we really want. "
   ]
  },
  {
   "cell_type": "code",
   "execution_count": 13,
   "metadata": {},
   "outputs": [
    {
     "data": {
      "text/plain": [
       "Index(['PT', 'AU', 'BA', 'BE', 'GP', 'AF', 'BF', 'CA', 'TI', 'SO', 'SE', 'BS',\n",
       "       'LA', 'DT', 'CT', 'CY', 'CL', 'SP', 'HO', 'DE', 'ID', 'AB', 'C1', 'C3',\n",
       "       'RP', 'EM', 'RI', 'OI', 'FU', 'FP', 'FX', 'CR', 'NR', 'TC', 'Z9', 'U1',\n",
       "       'U2', 'PU', 'PI', 'PA', 'SN', 'EI', 'BN', 'J9', 'JI', 'PD', 'PY', 'VL',\n",
       "       'IS', 'PN', 'SU', 'SI', 'MA', 'BP', 'EP', 'AR', 'DI', 'DL', 'D2', 'EA',\n",
       "       'PG', 'WC', 'WE', 'SC', 'GA', 'PM', 'OA', 'HC', 'HP', 'DA', 'UT'],\n",
       "      dtype='object')"
      ]
     },
     "execution_count": 13,
     "metadata": {},
     "output_type": "execute_result"
    }
   ],
   "source": [
    "data.columns"
   ]
  },
  {
   "cell_type": "markdown",
   "metadata": {},
   "source": [
    "Review the data fields (columns in this case) available for Web of Science data. You can see a [full List of WoS data fields here.](https://docs.google.com/spreadsheets/d/1KPNVIrhwZJrqYOsu3jzpRF7pzHCjRVy6K8eu3qTu-cA/edit#gid=1397269035) \n",
    "\n",
    "Then, choose which columns you would like to keep by placing the two-letter column name in the list below.\n",
    "\n",
    "*Place this information somewhere public so I don't have to link to an institutional drive!!*"
   ]
  },
  {
   "cell_type": "code",
   "execution_count": 14,
   "metadata": {},
   "outputs": [],
   "source": [
    "cols_to_keep = [\"PT\", #pub type\n",
    "                \"AU\", \"AF\", #author / author full names\n",
    "                \"TI\",  #author title\n",
    "                \"SO\",  #source title\n",
    "                \"LA\",  #language\n",
    "                \"DT\",   #document type\n",
    "                \"DE\", \"ID\",  #author keywords / keywords plus\n",
    "                \"AB\",      #abstract\n",
    "                \"RI\", \"OI\",  #research ids / ORCIDs\n",
    "                \"CR\", #cited references\n",
    "                \"TC\", \"Z9\", \"U1\", \"U2\", #times cited (WoS core) / times cited, all / 180 days usage ct / since 2013 usage count\n",
    "                \"HC\", \"HP\", #highly cited status / hot paper status\n",
    "                \"PU\",  #publisher\n",
    "                \"SN\", \"EI\", \"BN\", \"DI\", \"UT\",   #ISSN / eISSN / ISBN / DOI / WoS id\n",
    "                \"JI\", #journal ISO abbreviation\n",
    "                \"PD\", \"PY\",   #pub data / pub year\n",
    "                \"WC\", \"SC\"  #WoS Categories / Research Areas\n",
    "                ]"
   ]
  },
  {
   "cell_type": "markdown",
   "metadata": {},
   "source": [
    "Next, we can create a new dataframe (\"subdata\") with only the columns we want."
   ]
  },
  {
   "cell_type": "code",
   "execution_count": 15,
   "metadata": {},
   "outputs": [
    {
     "name": "stdout",
     "output_type": "stream",
     "text": [
      "(3000, 30)\n"
     ]
    },
    {
     "data": {
      "text/html": [
       "<div>\n",
       "<style scoped>\n",
       "    .dataframe tbody tr th:only-of-type {\n",
       "        vertical-align: middle;\n",
       "    }\n",
       "\n",
       "    .dataframe tbody tr th {\n",
       "        vertical-align: top;\n",
       "    }\n",
       "\n",
       "    .dataframe thead th {\n",
       "        text-align: right;\n",
       "    }\n",
       "</style>\n",
       "<table border=\"1\" class=\"dataframe\">\n",
       "  <thead>\n",
       "    <tr style=\"text-align: right;\">\n",
       "      <th></th>\n",
       "      <th>PT</th>\n",
       "      <th>AU</th>\n",
       "      <th>AF</th>\n",
       "      <th>TI</th>\n",
       "      <th>SO</th>\n",
       "      <th>LA</th>\n",
       "      <th>DT</th>\n",
       "      <th>DE</th>\n",
       "      <th>ID</th>\n",
       "      <th>AB</th>\n",
       "      <th>...</th>\n",
       "      <th>SN</th>\n",
       "      <th>EI</th>\n",
       "      <th>BN</th>\n",
       "      <th>DI</th>\n",
       "      <th>UT</th>\n",
       "      <th>JI</th>\n",
       "      <th>PD</th>\n",
       "      <th>PY</th>\n",
       "      <th>WC</th>\n",
       "      <th>SC</th>\n",
       "    </tr>\n",
       "  </thead>\n",
       "  <tbody>\n",
       "    <tr>\n",
       "      <th>0</th>\n",
       "      <td>J</td>\n",
       "      <td>Jiang, YW; Ritchie, BW; Verreynne, ML</td>\n",
       "      <td>Jiang, Yawei; Ritchie, Brent W.; Verreynne, Ma...</td>\n",
       "      <td>Developing disaster resilience: A processual a...</td>\n",
       "      <td>TOURISM MANAGEMENT</td>\n",
       "      <td>English</td>\n",
       "      <td>Article</td>\n",
       "      <td>Disaster resilience; Dynamic capabilities; Res...</td>\n",
       "      <td>LONGITUDINAL-FIELD RESEARCH; ORGANIZATIONAL RE...</td>\n",
       "      <td>This study takes a processual view of resilien...</td>\n",
       "      <td>...</td>\n",
       "      <td>0261-5177</td>\n",
       "      <td>1879-3193</td>\n",
       "      <td>NaN</td>\n",
       "      <td>10.1016/j.tourman.2021.104374</td>\n",
       "      <td>WOS:000713714900002</td>\n",
       "      <td>Tourism Manage.</td>\n",
       "      <td>DEC</td>\n",
       "      <td>2021</td>\n",
       "      <td>Environmental Studies; Hospitality, Leisure, S...</td>\n",
       "      <td>Environmental Sciences &amp; Ecology; Social Scien...</td>\n",
       "    </tr>\n",
       "    <tr>\n",
       "      <th>1</th>\n",
       "      <td>J</td>\n",
       "      <td>Nystrom, M; Graham, NAJ; Lokrantz, J; Norstrom...</td>\n",
       "      <td>Nystrom, M.; Graham, N. A. J.; Lokrantz, J.; N...</td>\n",
       "      <td>Capturing the cornerstones of coral reef resil...</td>\n",
       "      <td>CORAL REEFS</td>\n",
       "      <td>English</td>\n",
       "      <td>Review</td>\n",
       "      <td>Diversity; Functional groups; Management; Phas...</td>\n",
       "      <td>GREAT-BARRIER-REEF; CATASTROPHIC REGIME SHIFTS...</td>\n",
       "      <td>Coral reefs can undergo unexpected and dramati...</td>\n",
       "      <td>...</td>\n",
       "      <td>0722-4028</td>\n",
       "      <td>1432-0975</td>\n",
       "      <td>NaN</td>\n",
       "      <td>10.1007/s00338-008-0426-z</td>\n",
       "      <td>WOS:000260616400011</td>\n",
       "      <td>Coral Reefs</td>\n",
       "      <td>DEC</td>\n",
       "      <td>2008</td>\n",
       "      <td>Marine &amp; Freshwater Biology</td>\n",
       "      <td>Marine &amp; Freshwater Biology</td>\n",
       "    </tr>\n",
       "  </tbody>\n",
       "</table>\n",
       "<p>2 rows × 30 columns</p>\n",
       "</div>"
      ],
      "text/plain": [
       "  PT                                                 AU  \\\n",
       "0  J              Jiang, YW; Ritchie, BW; Verreynne, ML   \n",
       "1  J  Nystrom, M; Graham, NAJ; Lokrantz, J; Norstrom...   \n",
       "\n",
       "                                                  AF  \\\n",
       "0  Jiang, Yawei; Ritchie, Brent W.; Verreynne, Ma...   \n",
       "1  Nystrom, M.; Graham, N. A. J.; Lokrantz, J.; N...   \n",
       "\n",
       "                                                  TI                  SO  \\\n",
       "0  Developing disaster resilience: A processual a...  TOURISM MANAGEMENT   \n",
       "1  Capturing the cornerstones of coral reef resil...         CORAL REEFS   \n",
       "\n",
       "        LA       DT                                                 DE  \\\n",
       "0  English  Article  Disaster resilience; Dynamic capabilities; Res...   \n",
       "1  English   Review  Diversity; Functional groups; Management; Phas...   \n",
       "\n",
       "                                                  ID  \\\n",
       "0  LONGITUDINAL-FIELD RESEARCH; ORGANIZATIONAL RE...   \n",
       "1  GREAT-BARRIER-REEF; CATASTROPHIC REGIME SHIFTS...   \n",
       "\n",
       "                                                  AB  ...         SN  \\\n",
       "0  This study takes a processual view of resilien...  ...  0261-5177   \n",
       "1  Coral reefs can undergo unexpected and dramati...  ...  0722-4028   \n",
       "\n",
       "          EI   BN                             DI                   UT  \\\n",
       "0  1879-3193  NaN  10.1016/j.tourman.2021.104374  WOS:000713714900002   \n",
       "1  1432-0975  NaN      10.1007/s00338-008-0426-z  WOS:000260616400011   \n",
       "\n",
       "                JI   PD    PY  \\\n",
       "0  Tourism Manage.  DEC  2021   \n",
       "1      Coral Reefs  DEC  2008   \n",
       "\n",
       "                                                  WC  \\\n",
       "0  Environmental Studies; Hospitality, Leisure, S...   \n",
       "1                        Marine & Freshwater Biology   \n",
       "\n",
       "                                                  SC  \n",
       "0  Environmental Sciences & Ecology; Social Scien...  \n",
       "1                        Marine & Freshwater Biology  \n",
       "\n",
       "[2 rows x 30 columns]"
      ]
     },
     "execution_count": 15,
     "metadata": {},
     "output_type": "execute_result"
    }
   ],
   "source": [
    "subdata = data.loc[:, cols_to_keep]\n",
    "print(subdata.shape)   #print the new dimensions of the dataframe\n",
    "subdata.head(2)"
   ]
  },
  {
   "cell_type": "markdown",
   "metadata": {},
   "source": [
    "Since the initials for the column headers require constant review of the WoS documentation (see link above), it may be helpful to rename some key columns:"
   ]
  },
  {
   "cell_type": "code",
   "execution_count": null,
   "metadata": {},
   "outputs": [],
   "source": [
    "# create dictionary to rename columns, format: old_colname: new_colname\n",
    "new_colnames = {\n",
    "    \"AU\": \"author\",\n",
    "    \"PY\": \"pub_year\",\n",
    "    \"TI\": \"title\",\n",
    "    \"SO\": \"so_title\",\n",
    "    \"LA\": \"language\",\n",
    "    \"DT\": \"doc_type\",\n",
    "    \"DE\": \"au_keywords\",\n",
    "    \"ID\": \"keywords_plus\",\n",
    "    \"AB\": \"abstract\",\n",
    "    \"RI\": \"res_ids\",\n",
    "    \"OI\": \"ORCID\",\n",
    "    \"CR\":  \"cited_references\",\n",
    "    \"TC\": \"times_cited_wos\",\n",
    "    \"Z9\": \"times_cited_all\",\n",
    "    \"U1\": \"usage_180days\",\n",
    "    \"U2\": \"usage_since2013\",\n",
    "    \"HC\": \"highly_cited_status\",\n",
    "    \"HP\": \"hot_paper_status\", \n",
    "    \"PU\", \"publisher\",\n",
    "    \"SN\": \"ISSN\",\n",
    "    \"EI\": \"eISSN\",\n",
    "    \"BN\": \"ISBN\",\n",
    "    \"DI\": \"DOI\",\n",
    "    \"UT\": \"wos_id\",\n",
    "          #ISSN / eISSN / ISBN / DOI / WoS id\n",
    "                \"JI\", #journal ISO abbreviation\n",
    "                \"PD\", \"PY\",   #pub data / pub year\n",
    "                \"WC\", \"SC\"  #WoS Categories / Research Areas\n",
    "\n",
    "}"
   ]
  },
  {
   "cell_type": "markdown",
   "metadata": {},
   "source": [
    "Export the dataframe to a csv."
   ]
  },
  {
   "cell_type": "code",
   "execution_count": 19,
   "metadata": {},
   "outputs": [],
   "source": [
    "subdata.to_csv(Path(outputdir, \"merged_wos_subcols.csv\"), encoding = 'utf-8')"
   ]
  },
  {
   "cell_type": "markdown",
   "metadata": {},
   "source": [
    "## 4. Create a random sample and export"
   ]
  },
  {
   "cell_type": "code",
   "execution_count": 18,
   "metadata": {},
   "outputs": [],
   "source": [
    "rand500 = subdata.sample(n = 500)\n",
    "rand500.to_csv(Path(outputdir, \"merged_wos_rand500.csv\"), encoding = 'utf-8')"
   ]
  },
  {
   "cell_type": "code",
   "execution_count": null,
   "metadata": {},
   "outputs": [],
   "source": []
  }
 ],
 "metadata": {
  "kernelspec": {
   "display_name": ".venv",
   "language": "python",
   "name": "python3"
  },
  "language_info": {
   "codemirror_mode": {
    "name": "ipython",
    "version": 3
   },
   "file_extension": ".py",
   "mimetype": "text/x-python",
   "name": "python",
   "nbconvert_exporter": "python",
   "pygments_lexer": "ipython3",
   "version": "3.12.3"
  }
 },
 "nbformat": 4,
 "nbformat_minor": 2
}
