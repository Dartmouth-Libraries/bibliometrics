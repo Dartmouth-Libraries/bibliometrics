{
 "cells": [
  {
   "cell_type": "markdown",
   "metadata": {},
   "source": [
    "1. merge csvs\n",
    "2. group by author\n",
    "3. "
   ]
  },
  {
   "cell_type": "markdown",
   "metadata": {},
   "source": [
    "## Merge Datasets\n"
   ]
  },
  {
   "cell_type": "code",
   "execution_count": null,
   "metadata": {},
   "outputs": [
    {
     "name": "stdout",
     "output_type": "stream",
     "text": [
      "Reading & appending file number: 0 (with 580 rows) of 61 total files. Pathname:  docdata_0-5\n",
      "Reading & appending file number: 1 (with 5013 rows) of 61 total files. Pathname:  docdata_0-50\n",
      "Reading & appending file number: 2 (with 3907 rows) of 61 total files. Pathname:  docdata_100-150\n",
      "Reading & appending file number: 3 (with 4044 rows) of 61 total files. Pathname:  docdata_1000-1050\n",
      "Reading & appending file number: 4 (with 3527 rows) of 61 total files. Pathname:  docdata_1050-1100\n",
      "Reading & appending file number: 5 (with 3365 rows) of 61 total files. Pathname:  docdata_1100-1150\n",
      "Reading & appending file number: 6 (with 3067 rows) of 61 total files. Pathname:  docdata_1150-1200\n",
      "Reading & appending file number: 7 (with 2374 rows) of 61 total files. Pathname:  docdata_1200-1250\n",
      "Reading & appending file number: 8 (with 3806 rows) of 61 total files. Pathname:  docdata_1250-1300\n",
      "Reading & appending file number: 9 (with 2877 rows) of 61 total files. Pathname:  docdata_1300-1350\n",
      "Reading & appending file number: 10 (with 3842 rows) of 61 total files. Pathname:  docdata_1350-1400\n",
      "Reading & appending file number: 11 (with 3147 rows) of 61 total files. Pathname:  docdata_1400-1450\n",
      "Reading & appending file number: 12 (with 3304 rows) of 61 total files. Pathname:  docdata_1450-1500\n",
      "Reading & appending file number: 13 (with 3111 rows) of 61 total files. Pathname:  docdata_150-200\n",
      "Reading & appending file number: 14 (with 3286 rows) of 61 total files. Pathname:  docdata_1500-1550\n",
      "Reading & appending file number: 15 (with 2635 rows) of 61 total files. Pathname:  docdata_1550-1600\n",
      "Reading & appending file number: 16 (with 3610 rows) of 61 total files. Pathname:  docdata_1600-1650\n",
      "Reading & appending file number: 17 (with 1823 rows) of 61 total files. Pathname:  docdata_1650-1700\n",
      "Reading & appending file number: 18 (with 2456 rows) of 61 total files. Pathname:  docdata_1700-1750\n",
      "Reading & appending file number: 19 (with 3853 rows) of 61 total files. Pathname:  docdata_1750-1800\n",
      "Reading & appending file number: 20 (with 3243 rows) of 61 total files. Pathname:  docdata_1800-1850\n",
      "Reading & appending file number: 21 (with 3085 rows) of 61 total files. Pathname:  docdata_1850-1900\n",
      "Reading & appending file number: 22 (with 1658 rows) of 61 total files. Pathname:  docdata_1900-1950\n",
      "Reading & appending file number: 23 (with 3687 rows) of 61 total files. Pathname:  docdata_1950-2000\n",
      "Reading & appending file number: 24 (with 3686 rows) of 61 total files. Pathname:  docdata_200-250\n",
      "Reading & appending file number: 25 (with 2731 rows) of 61 total files. Pathname:  docdata_2000-2050\n",
      "Reading & appending file number: 26 (with 3727 rows) of 61 total files. Pathname:  docdata_2050-2100\n",
      "Reading & appending file number: 27 (with 2458 rows) of 61 total files. Pathname:  docdata_2100-2150\n",
      "Reading & appending file number: 28 (with 2667 rows) of 61 total files. Pathname:  docdata_2150-2200\n",
      "Reading & appending file number: 29 (with 2892 rows) of 61 total files. Pathname:  docdata_2200-2250\n",
      "Reading & appending file number: 30 (with 2025 rows) of 61 total files. Pathname:  docdata_2250-2300\n",
      "Reading & appending file number: 31 (with 4195 rows) of 61 total files. Pathname:  docdata_2300-2350\n",
      "Reading & appending file number: 32 (with 2233 rows) of 61 total files. Pathname:  docdata_2350-2400\n",
      "Reading & appending file number: 33 (with 3717 rows) of 61 total files. Pathname:  docdata_2400-2450\n",
      "Reading & appending file number: 34 (with 2251 rows) of 61 total files. Pathname:  docdata_2450-2500\n",
      "Reading & appending file number: 35 (with 4272 rows) of 61 total files. Pathname:  docdata_250-300\n",
      "Reading & appending file number: 36 (with 3763 rows) of 61 total files. Pathname:  docdata_2500-2550\n",
      "Reading & appending file number: 37 (with 2534 rows) of 61 total files. Pathname:  docdata_2550-2600\n",
      "Reading & appending file number: 38 (with 3074 rows) of 61 total files. Pathname:  docdata_2600-2650\n",
      "Reading & appending file number: 39 (with 3453 rows) of 61 total files. Pathname:  docdata_2650-2700\n",
      "Reading & appending file number: 40 (with 1619 rows) of 61 total files. Pathname:  docdata_2700-2750\n",
      "Reading & appending file number: 41 (with 2983 rows) of 61 total files. Pathname:  docdata_2750-2800\n",
      "Reading & appending file number: 42 (with 2273 rows) of 61 total files. Pathname:  docdata_2800-2850\n",
      "Reading & appending file number: 43 (with 2545 rows) of 61 total files. Pathname:  docdata_2850-2900\n",
      "Reading & appending file number: 44 (with 3671 rows) of 61 total files. Pathname:  docdata_2900-2950\n",
      "Reading & appending file number: 45 (with 1971 rows) of 61 total files. Pathname:  docdata_2950-3000\n",
      "Reading & appending file number: 46 (with 2694 rows) of 61 total files. Pathname:  docdata_300-350\n",
      "Reading & appending file number: 47 (with 3911 rows) of 61 total files. Pathname:  docdata_350-400\n",
      "Reading & appending file number: 48 (with 3896 rows) of 61 total files. Pathname:  docdata_400-450\n",
      "Reading & appending file number: 49 (with 3280 rows) of 61 total files. Pathname:  docdata_450-500\n",
      "Reading & appending file number: 50 (with 3717 rows) of 61 total files. Pathname:  docdata_50-100\n",
      "Reading & appending file number: 51 (with 4121 rows) of 61 total files. Pathname:  docdata_500-550\n",
      "Reading & appending file number: 52 (with 4050 rows) of 61 total files. Pathname:  docdata_550-600\n",
      "Reading & appending file number: 53 (with 3546 rows) of 61 total files. Pathname:  docdata_600-650\n",
      "Reading & appending file number: 54 (with 3314 rows) of 61 total files. Pathname:  docdata_650-700\n",
      "Reading & appending file number: 55 (with 3751 rows) of 61 total files. Pathname:  docdata_700-750\n",
      "Reading & appending file number: 56 (with 4503 rows) of 61 total files. Pathname:  docdata_750-800\n",
      "Reading & appending file number: 57 (with 3888 rows) of 61 total files. Pathname:  docdata_800-850\n",
      "Reading & appending file number: 58 (with 3233 rows) of 61 total files. Pathname:  docdata_850-900\n",
      "Reading & appending file number: 59 (with 3325 rows) of 61 total files. Pathname:  docdata_900-950\n",
      "Reading & appending file number: 60 (with 3751 rows) of 61 total files. Pathname:  docdata_950-1000\n"
     ]
    }
   ],
   "source": [
    "from pathlib import Path\n",
    "pathdir = Path(\"../data\")                 #use this to set relative path to .txt files if they are not in cwd\n",
    "      \n",
    "pathlist = sorted(pathdir.glob('docdata_*.csv')) \n",
    "datalist = []                           #creates an empty list\n",
    "for i, path in enumerate(pathlist):\n",
    "    df = pd.read_csv(path, sep = \"\\t\")\n",
    "    print(\"Reading & appending file number:\", i, \"(with %s rows) of\" %df.shape[0], len(pathlist), \"total files. Pathname: \", path.stem)\n",
    "    datalist.append(df)    ## appends each imported dataframe into a list of dataframes\n",
    "    \n",
    "data = pd.concat(datalist)        #concatenates or joins each dataframe in datalist into one dataframe  "
   ]
  },
  {
   "cell_type": "code",
   "execution_count": null,
   "metadata": {},
   "outputs": [
    {
     "data": {
      "text/plain": [
       "(195020, 2)"
      ]
     },
     "metadata": {},
     "output_type": "display_data"
    }
   ],
   "source": [
    "data.shape"
   ]
  }
 ],
 "metadata": {
  "language_info": {
   "name": "python"
  }
 },
 "nbformat": 4,
 "nbformat_minor": 2
}
