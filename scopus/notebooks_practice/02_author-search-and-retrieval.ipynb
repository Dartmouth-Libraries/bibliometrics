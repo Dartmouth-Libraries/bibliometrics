{
 "cells": [
  {
   "cell_type": "markdown",
   "metadata": {},
   "source": [
    "# Search for Authors and Retrieve Their Data"
   ]
  },
  {
   "cell_type": "markdown",
   "metadata": {},
   "source": [
    "## Setting up the Scopus API Key\n",
    "\n",
    "You should have your Scopus API Key available. If you have not yet requested a key or do not know where to find it, review the documentation in notebook \"01\".\n",
    "\n",
    "The first time you run the code cell below, it will open a small prompt window (usually appearing near the top of the screen), which asks you to paste in your API Key.\n",
    "\n",
    "![Initial prompt window for entering your API Key](..\\images\\enter_key.png)\n",
    "\n",
    "Then, a second window will appear asking for an institional token. That is not necessary, so just press enter."
   ]
  },
  {
   "cell_type": "code",
   "execution_count": 1,
   "metadata": {},
   "outputs": [],
   "source": [
    "import pybliometrics\n",
    "from pybliometrics.scopus.utils import config"
   ]
  },
  {
   "cell_type": "markdown",
   "metadata": {},
   "source": [
    "Now, your Scopus API Key is stored in a configuration file on your computer so you should not need to enter it again, unless you move or delete the configuration file. To find where the configuration file is on your computer, run the following code:"
   ]
  },
  {
   "cell_type": "code",
   "execution_count": 2,
   "metadata": {},
   "outputs": [
    {
     "data": {
      "text/plain": [
       "WindowsPath('C:/Users/F0040RP/.config/pybliometrics.cfg')"
      ]
     },
     "execution_count": 2,
     "metadata": {},
     "output_type": "execute_result"
    }
   ],
   "source": [
    "pybliometrics.scopus.utils.constants.CONFIG_FILE"
   ]
  },
  {
   "cell_type": "markdown",
   "metadata": {},
   "source": [
    "## Use your Scopus API from within the Dartmouth online network\n",
    "\n",
    "+ Be sure that you are within the campus network (either on campus or logged into the vpn) to ensure the API will retrieve all requested results\n",
    "\n",
    "+ Otherwise some requests will return the error: `Scopus401Error: The requestor is not authorized to access the requested view or fields of the resource`"
   ]
  },
  {
   "cell_type": "code",
   "execution_count": null,
   "metadata": {},
   "outputs": [],
   "source": []
  },
  {
   "cell_type": "markdown",
   "metadata": {},
   "source": [
    "## Types of Bibliometric Data\n",
    "\n",
    "Most bibliometric data is stored at the document level. That is, bibliometric databases record metadata for each individual article, report, book, or other paper. However, this data can also be aggregated in various ways. Thus, some common types of bibliometric data include:\n",
    "\n",
    "* document-level data\n",
    "* author-level summary data + document-level data for each document this an author (co-)authored\n",
    "* publication-level summary data and metrics (measuring the \"impact\" of a journal, for example, by quantifying the number of citations or its articles)\n",
    "+ institutional-level metadata \n",
    "\n",
    "In this lesson, we will begin with an author's name, distinguish this particular author from others with the same name, and then retrieve data for the documents (co-)authored by this researcher."
   ]
  },
  {
   "cell_type": "markdown",
   "metadata": {},
   "source": [
    "## Get Information for one single author"
   ]
  },
  {
   "cell_type": "markdown",
   "metadata": {},
   "source": [
    "Using the [Pybliometrics](https://pybliometrics.readthedocs.io/en/stable/) Python library, we can begin by extracting metadata for one single author. However, unless you have an unusual first and last name combination (like me), you will first need to identify the correct individual. For example if you search for \"Jane Smith\" you might need to parse through data for multiple authors named \"Jane Smith\" and identify correct matches. \n",
    "\n",
    "For example, Jane Smith at Dartmouth may be a different person than Jane Smith at Vassar, but she may be the same person as Jane Smith at UNH (Scopus records often have not been aggregated to merge records of the same person when they move to another institution).\n",
    "\n",
    "To begin we will search for the [Spanish chemist Rafael Luque who has been suspended by his institution in Spain for academic impropriety](https://cen.acs.org/research-integrity/Highly-cited-chemist-suspended-claiming-to-be-affiliated-with-Russian-and-Saudi-universities/101/i12) related to a highly dubious publication profile (co-authoring 60-70 papers annually) and for accepting salaries as an adjunct scholar at Saudi and Russian universities (while still employed in Spain), which wanted his publication and citation recod to boost their rankings.\n",
    "\n",
    "We will first use the **AuthorSearch API** to find the correct Rafael Luque. We will then use the **AuthorRetrieval API** to retrieve information about his documents"
   ]
  },
  {
   "cell_type": "code",
   "execution_count": 3,
   "metadata": {},
   "outputs": [],
   "source": [
    "from pybliometrics.scopus import AuthorSearch\n",
    "lastname = \"Luque\"\n",
    "firstname = \"Rafael\"\n",
    "au = AuthorSearch(f\"AUTHLAST({lastname}) and AUTHFIRST({firstname})\")"
   ]
  },
  {
   "cell_type": "code",
   "execution_count": 4,
   "metadata": {},
   "outputs": [
    {
     "data": {
      "text/plain": [
       "[Author(eid='9-s2.0-26643003700', orcid='0000-0003-4190-1916', surname='Luque', initials='R.G.', givenname='Rafael Geraldo', affiliation='RUDN University', documents=898, affiliation_id='60015024', city='Moscow', country='Russian Federation', areas='CHEM (644); CENG (622); ENVI (611)'),\n",
       " Author(eid='9-s2.0-57194868074', orcid='0000-0002-4671-2957', surname='Luque', initials='R.', givenname='Rafael', affiliation='The University of Chicago', documents=126, affiliation_id='60029278', city='Chicago', country='United States', areas='PHYS (121); EART (115); MULT (6)'),\n",
       " Author(eid='9-s2.0-57535563900', orcid='0000-0001-5536-1805', surname='Luque-Baena', initials='R.M.', givenname='Rafael Marcos', affiliation='Universidad de Málaga', documents=100, affiliation_id='60003662', city='Malaga', country='Spain', areas='COMP (161); MATH (43); ENGI (25)'),\n",
       " Author(eid='9-s2.0-58220142700', orcid='0000-0003-1963-0523', surname='López-Luque', initials='R.', givenname='Rafael', affiliation='Universidad de Córdoba', documents=64, affiliation_id='60003138', city='Cordoba', country='Spain', areas='ENER (68); ENGI (55); ENVI (24)'),\n",
       " Author(eid='9-s2.0-6603223284', orcid=None, surname='Luque-Márquez', initials='R.', givenname='Rafael', affiliation='Hospital Universitario Virgen del Rocío', documents=47, affiliation_id='60033267', city='Sevilla', country='Spain', areas='MEDI (89); PHAR (23); IMMU (6)'),\n",
       " Author(eid='9-s2.0-56562984300', orcid=None, surname='Molina-Luque', initials='R.', givenname='Rafael', affiliation='Instituto Maimónides de Investigación Biomédica de Córdoba (IMIBIC)', documents=46, affiliation_id='60272560', city='Cordoba', country='Spain', areas='MEDI (71); ENVI (16); NURS (16)'),\n",
       " Author(eid='9-s2.0-55666780600', orcid=None, surname='Luque-Mialdea', initials='R.', givenname='Rafael', affiliation='The Toledo Hospital', documents=44, affiliation_id='60000785', city='Toledo', country='United States', areas='MEDI (50)'),\n",
       " Author(eid='9-s2.0-57190169009', orcid=None, surname='Luque', initials='R.', givenname='Rafael', affiliation='Hospital Universitario Virgen del Rocío', documents=42, affiliation_id='60033267', city='Sevilla', country='Spain', areas='MEDI (71); PHAR (2); IMMU (2)'),\n",
       " Author(eid='9-s2.0-15850810900', orcid='0000-0002-9808-784X', surname='Luque', initials='R.J.', givenname='Rafael J.', affiliation='Unidad de Gestión Clínica de Anatomía Patológica', documents=42, affiliation_id='112821027', city='Jaen', country='Spain', areas='MEDI (45); BIOC (14); IMMU (1)'),\n",
       " Author(eid='9-s2.0-36652768800', orcid='0000-0002-0626-5048', surname='Luque', initials='N.R.', givenname='Niceto Rafael', affiliation='Universidad de Granada', documents=35, affiliation_id='60027844', city='Granada', country='Spain', areas='COMP (51); NEUR (23); MEDI (17)'),\n",
       " Author(eid='9-s2.0-55936422300', orcid='0000-0003-3661-8040', surname='Luque', initials='R.', givenname='Rafael', affiliation='Universidad de Málaga', documents=21, affiliation_id='60003662', city='Malaga', country='Spain', areas='COMP (26); ENGI (14); CHEM (3)'),\n",
       " Author(eid='9-s2.0-54409003000', orcid=None, surname='Luque Pérez', initials='R.', givenname='Rafael', affiliation='Hospital Clínico San Carlos', documents=9, affiliation_id='60032461', city='Madrid', country='Spain', areas='MEDI (21)'),\n",
       " Author(eid='9-s2.0-6508001796', orcid=None, surname='Cuenca-Luque', initials='R.', givenname='Rafael', affiliation='Hospital de Sant Jaume', documents=7, affiliation_id='60019235', city='Girona', country='Spain', areas='MEDI (8); MATH (3); IMMU (2)'),\n",
       " Author(eid='9-s2.0-57204578627', orcid='0000-0002-9808-784X', surname='Luque', initials='R.J.', givenname='Rafael J.', affiliation='Hospital Universitario de Jaén', documents=5, affiliation_id='112570007', city='Jaen', country='Spain', areas='MEDI (9); CHEM (4); BIOC (2)'),\n",
       " Author(eid='9-s2.0-57219759341', orcid='0000-0002-5072-4117', surname='Merino', initials='R.L.', givenname='Rafael Luque', affiliation='Ludwig-Maximilians-Universität München', documents=4, affiliation_id='60028717', city='Munich', country='Germany', areas='ENGI (4); PHYS (4); CHEM (2)'),\n",
       " Author(eid='9-s2.0-6507252783', orcid=None, surname='Fernández Luque', initials='R.', givenname='Rafael', affiliation='VU University Medical Center', documents=3, affiliation_id='60001997', city='Amsterdam', country='Netherlands', areas='BIOC (4); MEDI (1); PHAR (1)'),\n",
       " Author(eid='9-s2.0-6506565088', orcid=None, surname='Luque-Aranda', initials='R.', givenname='Rafael', affiliation='Hospital Universitari Virgen de la Victoria', documents=3, affiliation_id='60000252', city='Malaga', country='Spain', areas='MEDI (6)'),\n",
       " Author(eid='9-s2.0-58872164700', orcid=None, surname='Luque', initials='R.', givenname='Rafael', affiliation='Universidad ECOTEC', documents=3, affiliation_id='60110590', city='Samborondon', country='Ecuador', areas='CENG (3); ENER (2); CHEM (1)'),\n",
       " Author(eid='9-s2.0-58804169100', orcid=None, surname='García-Luque', initials='R.', givenname='Rafael', affiliation='Universidad de Málaga', documents=3, affiliation_id='60003662', city='Malaga', country='Spain', areas='COMP (5); MATH (2)'),\n",
       " Author(eid='9-s2.0-58641557300', orcid=None, surname='López-Luque', initials='R.', givenname='Rafael', affiliation='Universidad de Córdoba', documents=3, affiliation_id='60003138', city='Cordoba', country='Spain', areas='ENER (4); ENGI (4); ENVI (2)'),\n",
       " Author(eid='9-s2.0-58311295100', orcid=None, surname='Luque', initials='R.', givenname='Rafael', affiliation='Universidad de la Laguna', documents=2, affiliation_id='60003044', city='San Cristobal de La Laguna', country='Spain', areas='PHYS (2); EART (2)'),\n",
       " Author(eid='9-s2.0-58035826000', orcid=None, surname='Luque', initials='R.', givenname='Rafael', affiliation='Center for Advanced Aerospace Technologies (CATEC)', documents=2, affiliation_id='127241425', city='La Rinconada (Sevilla)', country='Spain', areas='ENGI (2); COMP (2); ENVI (1)'),\n",
       " Author(eid='9-s2.0-57968986400', orcid=None, surname='Luque-Mohedano', initials='R.', givenname='Rafael', affiliation='Universidad de Córdoba', documents=2, affiliation_id='60003138', city='Cordoba', country='Spain', areas='AGRI (6); COMP (1)'),\n",
       " Author(eid='9-s2.0-57195321065', orcid=None, surname='Perea-Luque', initials='J.R.', givenname='Juan Rafael', affiliation='Universidad Nacional de Educacion a Distancia', documents=2, affiliation_id='60028711', city='Madrid', country='Spain', areas='PSYC (4); SOCI (2)'),\n",
       " Author(eid='9-s2.0-7003492068', orcid=None, surname='Luque', initials='R.F.', givenname='Rafael Fernández', affiliation='VU University Medical Center', documents=1, affiliation_id='60001997', city='Amsterdam', country='Netherlands', areas='BIOC (1); MEDI (1)'),\n",
       " Author(eid='9-s2.0-6504651271', orcid=None, surname='Márquez Luque', initials='R.', givenname='Rafael', affiliation='Hospital Universitario Virgen del Rocío', documents=1, affiliation_id='60033267', city='Sevilla', country='Spain', areas=' ()'),\n",
       " Author(eid='9-s2.0-57609681400', orcid=None, surname='Luque', initials='R.', givenname='Rafael', affiliation='Pontificia Universidad Javeriana', documents=1, affiliation_id='60033545', city='Bogota', country='Colombia', areas='ENGI (2)'),\n",
       " Author(eid='9-s2.0-57213514771', orcid=None, surname='Cuenca-Luque', initials='R.', givenname='Rafael', affiliation='Hospital Clinic Barcelona', documents=1, affiliation_id='60030315', city='Barcelona', country='Spain', areas='MEDI (1)'),\n",
       " Author(eid='9-s2.0-35810760000', orcid=None, surname='Luque', initials='R.', givenname='Rafael', affiliation='Universidad de Granada', documents=1, affiliation_id='60027844', city='Granada', country='Spain', areas='SOCI (1)')]"
      ]
     },
     "execution_count": 4,
     "metadata": {},
     "output_type": "execute_result"
    }
   ],
   "source": [
    "au.authors"
   ]
  },
  {
   "cell_type": "code",
   "execution_count": 5,
   "metadata": {},
   "outputs": [
    {
     "data": {
      "text/plain": [
       "'Spain'"
      ]
     },
     "execution_count": 5,
     "metadata": {},
     "output_type": "execute_result"
    }
   ],
   "source": [
    " #retrieve specific info\n",
    "au.authors[2].country"
   ]
  },
  {
   "cell_type": "markdown",
   "metadata": {},
   "source": [
    "The AuthorSearch command sends a **request** for information using the search query above. The API then sends a **response** with the request information, whichb we have saved in the variable `au`.\n",
    "\n",
    "If we just call `au` we just receive a wrapper for the information. To retrieve specific information about the authors that matched this query, we need to be more specific. Try:\n",
    "\n",
    "* `? au`\n",
    "* `dir(au)`"
   ]
  },
  {
   "cell_type": "code",
   "execution_count": 6,
   "metadata": {},
   "outputs": [
    {
     "data": {
      "text/plain": [
       "['__class__',\n",
       " '__delattr__',\n",
       " '__dict__',\n",
       " '__dir__',\n",
       " '__doc__',\n",
       " '__eq__',\n",
       " '__format__',\n",
       " '__ge__',\n",
       " '__getattribute__',\n",
       " '__getstate__',\n",
       " '__gt__',\n",
       " '__hash__',\n",
       " '__init__',\n",
       " '__init_subclass__',\n",
       " '__le__',\n",
       " '__lt__',\n",
       " '__module__',\n",
       " '__ne__',\n",
       " '__new__',\n",
       " '__reduce__',\n",
       " '__reduce_ex__',\n",
       " '__repr__',\n",
       " '__setattr__',\n",
       " '__sizeof__',\n",
       " '__str__',\n",
       " '__subclasshook__',\n",
       " '__weakref__',\n",
       " '_action',\n",
       " '_cache_file_path',\n",
       " '_integrity',\n",
       " '_json',\n",
       " '_mdate',\n",
       " '_n',\n",
       " '_query',\n",
       " '_refresh',\n",
       " '_view',\n",
       " 'authors',\n",
       " 'get_cache_file_age',\n",
       " 'get_cache_file_mdate',\n",
       " 'get_key_remaining_quota',\n",
       " 'get_key_reset_time',\n",
       " 'get_results_size']"
      ]
     },
     "execution_count": 6,
     "metadata": {},
     "output_type": "execute_result"
    }
   ],
   "source": [
    "dir(au)"
   ]
  },
  {
   "cell_type": "code",
   "execution_count": 7,
   "metadata": {},
   "outputs": [
    {
     "data": {
      "text/plain": [
       "[Author(eid='9-s2.0-26643003700', orcid='0000-0003-4190-1916', surname='Luque', initials='R.G.', givenname='Rafael Geraldo', affiliation='RUDN University', documents=898, affiliation_id='60015024', city='Moscow', country='Russian Federation', areas='CHEM (644); CENG (622); ENVI (611)'),\n",
       " Author(eid='9-s2.0-57194868074', orcid='0000-0002-4671-2957', surname='Luque', initials='R.', givenname='Rafael', affiliation='The University of Chicago', documents=126, affiliation_id='60029278', city='Chicago', country='United States', areas='PHYS (121); EART (115); MULT (6)'),\n",
       " Author(eid='9-s2.0-57535563900', orcid='0000-0001-5536-1805', surname='Luque-Baena', initials='R.M.', givenname='Rafael Marcos', affiliation='Universidad de Málaga', documents=100, affiliation_id='60003662', city='Malaga', country='Spain', areas='COMP (161); MATH (43); ENGI (25)'),\n",
       " Author(eid='9-s2.0-58220142700', orcid='0000-0003-1963-0523', surname='López-Luque', initials='R.', givenname='Rafael', affiliation='Universidad de Córdoba', documents=64, affiliation_id='60003138', city='Cordoba', country='Spain', areas='ENER (68); ENGI (55); ENVI (24)'),\n",
       " Author(eid='9-s2.0-6603223284', orcid=None, surname='Luque-Márquez', initials='R.', givenname='Rafael', affiliation='Hospital Universitario Virgen del Rocío', documents=47, affiliation_id='60033267', city='Sevilla', country='Spain', areas='MEDI (89); PHAR (23); IMMU (6)'),\n",
       " Author(eid='9-s2.0-56562984300', orcid=None, surname='Molina-Luque', initials='R.', givenname='Rafael', affiliation='Instituto Maimónides de Investigación Biomédica de Córdoba (IMIBIC)', documents=46, affiliation_id='60272560', city='Cordoba', country='Spain', areas='MEDI (71); ENVI (16); NURS (16)'),\n",
       " Author(eid='9-s2.0-55666780600', orcid=None, surname='Luque-Mialdea', initials='R.', givenname='Rafael', affiliation='The Toledo Hospital', documents=44, affiliation_id='60000785', city='Toledo', country='United States', areas='MEDI (50)'),\n",
       " Author(eid='9-s2.0-57190169009', orcid=None, surname='Luque', initials='R.', givenname='Rafael', affiliation='Hospital Universitario Virgen del Rocío', documents=42, affiliation_id='60033267', city='Sevilla', country='Spain', areas='MEDI (71); PHAR (2); IMMU (2)'),\n",
       " Author(eid='9-s2.0-15850810900', orcid='0000-0002-9808-784X', surname='Luque', initials='R.J.', givenname='Rafael J.', affiliation='Unidad de Gestión Clínica de Anatomía Patológica', documents=42, affiliation_id='112821027', city='Jaen', country='Spain', areas='MEDI (45); BIOC (14); IMMU (1)'),\n",
       " Author(eid='9-s2.0-36652768800', orcid='0000-0002-0626-5048', surname='Luque', initials='N.R.', givenname='Niceto Rafael', affiliation='Universidad de Granada', documents=35, affiliation_id='60027844', city='Granada', country='Spain', areas='COMP (51); NEUR (23); MEDI (17)'),\n",
       " Author(eid='9-s2.0-55936422300', orcid='0000-0003-3661-8040', surname='Luque', initials='R.', givenname='Rafael', affiliation='Universidad de Málaga', documents=21, affiliation_id='60003662', city='Malaga', country='Spain', areas='COMP (26); ENGI (14); CHEM (3)'),\n",
       " Author(eid='9-s2.0-54409003000', orcid=None, surname='Luque Pérez', initials='R.', givenname='Rafael', affiliation='Hospital Clínico San Carlos', documents=9, affiliation_id='60032461', city='Madrid', country='Spain', areas='MEDI (21)'),\n",
       " Author(eid='9-s2.0-6508001796', orcid=None, surname='Cuenca-Luque', initials='R.', givenname='Rafael', affiliation='Hospital de Sant Jaume', documents=7, affiliation_id='60019235', city='Girona', country='Spain', areas='MEDI (8); MATH (3); IMMU (2)'),\n",
       " Author(eid='9-s2.0-57204578627', orcid='0000-0002-9808-784X', surname='Luque', initials='R.J.', givenname='Rafael J.', affiliation='Hospital Universitario de Jaén', documents=5, affiliation_id='112570007', city='Jaen', country='Spain', areas='MEDI (9); CHEM (4); BIOC (2)'),\n",
       " Author(eid='9-s2.0-57219759341', orcid='0000-0002-5072-4117', surname='Merino', initials='R.L.', givenname='Rafael Luque', affiliation='Ludwig-Maximilians-Universität München', documents=4, affiliation_id='60028717', city='Munich', country='Germany', areas='ENGI (4); PHYS (4); CHEM (2)'),\n",
       " Author(eid='9-s2.0-6507252783', orcid=None, surname='Fernández Luque', initials='R.', givenname='Rafael', affiliation='VU University Medical Center', documents=3, affiliation_id='60001997', city='Amsterdam', country='Netherlands', areas='BIOC (4); MEDI (1); PHAR (1)'),\n",
       " Author(eid='9-s2.0-6506565088', orcid=None, surname='Luque-Aranda', initials='R.', givenname='Rafael', affiliation='Hospital Universitari Virgen de la Victoria', documents=3, affiliation_id='60000252', city='Malaga', country='Spain', areas='MEDI (6)'),\n",
       " Author(eid='9-s2.0-58872164700', orcid=None, surname='Luque', initials='R.', givenname='Rafael', affiliation='Universidad ECOTEC', documents=3, affiliation_id='60110590', city='Samborondon', country='Ecuador', areas='CENG (3); ENER (2); CHEM (1)'),\n",
       " Author(eid='9-s2.0-58804169100', orcid=None, surname='García-Luque', initials='R.', givenname='Rafael', affiliation='Universidad de Málaga', documents=3, affiliation_id='60003662', city='Malaga', country='Spain', areas='COMP (5); MATH (2)'),\n",
       " Author(eid='9-s2.0-58641557300', orcid=None, surname='López-Luque', initials='R.', givenname='Rafael', affiliation='Universidad de Córdoba', documents=3, affiliation_id='60003138', city='Cordoba', country='Spain', areas='ENER (4); ENGI (4); ENVI (2)'),\n",
       " Author(eid='9-s2.0-58311295100', orcid=None, surname='Luque', initials='R.', givenname='Rafael', affiliation='Universidad de la Laguna', documents=2, affiliation_id='60003044', city='San Cristobal de La Laguna', country='Spain', areas='PHYS (2); EART (2)'),\n",
       " Author(eid='9-s2.0-58035826000', orcid=None, surname='Luque', initials='R.', givenname='Rafael', affiliation='Center for Advanced Aerospace Technologies (CATEC)', documents=2, affiliation_id='127241425', city='La Rinconada (Sevilla)', country='Spain', areas='ENGI (2); COMP (2); ENVI (1)'),\n",
       " Author(eid='9-s2.0-57968986400', orcid=None, surname='Luque-Mohedano', initials='R.', givenname='Rafael', affiliation='Universidad de Córdoba', documents=2, affiliation_id='60003138', city='Cordoba', country='Spain', areas='AGRI (6); COMP (1)'),\n",
       " Author(eid='9-s2.0-57195321065', orcid=None, surname='Perea-Luque', initials='J.R.', givenname='Juan Rafael', affiliation='Universidad Nacional de Educacion a Distancia', documents=2, affiliation_id='60028711', city='Madrid', country='Spain', areas='PSYC (4); SOCI (2)'),\n",
       " Author(eid='9-s2.0-7003492068', orcid=None, surname='Luque', initials='R.F.', givenname='Rafael Fernández', affiliation='VU University Medical Center', documents=1, affiliation_id='60001997', city='Amsterdam', country='Netherlands', areas='BIOC (1); MEDI (1)'),\n",
       " Author(eid='9-s2.0-6504651271', orcid=None, surname='Márquez Luque', initials='R.', givenname='Rafael', affiliation='Hospital Universitario Virgen del Rocío', documents=1, affiliation_id='60033267', city='Sevilla', country='Spain', areas=' ()'),\n",
       " Author(eid='9-s2.0-57609681400', orcid=None, surname='Luque', initials='R.', givenname='Rafael', affiliation='Pontificia Universidad Javeriana', documents=1, affiliation_id='60033545', city='Bogota', country='Colombia', areas='ENGI (2)'),\n",
       " Author(eid='9-s2.0-57213514771', orcid=None, surname='Cuenca-Luque', initials='R.', givenname='Rafael', affiliation='Hospital Clinic Barcelona', documents=1, affiliation_id='60030315', city='Barcelona', country='Spain', areas='MEDI (1)'),\n",
       " Author(eid='9-s2.0-35810760000', orcid=None, surname='Luque', initials='R.', givenname='Rafael', affiliation='Universidad de Granada', documents=1, affiliation_id='60027844', city='Granada', country='Spain', areas='SOCI (1)')]"
      ]
     },
     "execution_count": 7,
     "metadata": {},
     "output_type": "execute_result"
    }
   ],
   "source": [
    "au.authors"
   ]
  },
  {
   "cell_type": "markdown",
   "metadata": {},
   "source": [
    "The first entry in the results above, the \"Rafael Luque\" from RUDN appears to be our suspiciously prolific author. Although, observe that this Rafael Luque may have multiple records as Scopus often produces multiple records for individuals who have worked at multiple institutions. But, for this exercise, let's just retrieve information for the Rafael Luque from RUDN."
   ]
  },
  {
   "cell_type": "code",
   "execution_count": 8,
   "metadata": {},
   "outputs": [
    {
     "data": {
      "text/plain": [
       "'9-s2.0-26643003700'"
      ]
     },
     "execution_count": 8,
     "metadata": {},
     "output_type": "execute_result"
    }
   ],
   "source": [
    "full_eid = au.authors[0].eid\n",
    "full_eid"
   ]
  },
  {
   "cell_type": "code",
   "execution_count": 9,
   "metadata": {},
   "outputs": [
    {
     "data": {
      "text/plain": [
       "'26643003700'"
      ]
     },
     "execution_count": 9,
     "metadata": {},
     "output_type": "execute_result"
    }
   ],
   "source": [
    "full_eid.split(\"-\")[-1]"
   ]
  },
  {
   "cell_type": "code",
   "execution_count": 10,
   "metadata": {},
   "outputs": [
    {
     "data": {
      "text/plain": [
       "'26643003700'"
      ]
     },
     "execution_count": 10,
     "metadata": {},
     "output_type": "execute_result"
    }
   ],
   "source": [
    "eid = full_eid.split(\"-\")[-1]\n",
    "eid"
   ]
  },
  {
   "cell_type": "markdown",
   "metadata": {},
   "source": [
    "Other ways to narrow down author searches:\n",
    "* include affiliations or affiliation ids\n",
    "* include subject areas\n",
    "* include middle names or initials"
   ]
  },
  {
   "cell_type": "markdown",
   "metadata": {},
   "source": [
    "## Exercise\n",
    "\n",
    "Search for an author you know well (could be yourself or a colleague!). How hard is it to parse their publication record from the record of authors with similar names?  \n",
    "\n",
    "For authors with common names, you can further filter the results by adding in affiliation or other information. See the [Search Tips page](https://dev.elsevier.com/sc_search_tips.html) for more information about these search fields."
   ]
  },
  {
   "cell_type": "code",
   "execution_count": null,
   "metadata": {},
   "outputs": [],
   "source": []
  },
  {
   "cell_type": "code",
   "execution_count": null,
   "metadata": {},
   "outputs": [],
   "source": []
  },
  {
   "cell_type": "markdown",
   "metadata": {},
   "source": [
    "## Author Information Retrieval"
   ]
  },
  {
   "cell_type": "markdown",
   "metadata": {},
   "source": [
    "With **pybliometrics** and the Scopus APIs, you will want to use the **SEARCH** APIs to retrieve ids for authors, documents, or affiliations. To retrieve more extensive information about those authors, documents, or affiliations, however, you will want to plug these ids into the **RETRIEVAL APIS**. \n",
    "\n",
    "For example, we can enter in the researcher id for RUDN's Rafael Luque into the **AuthorRetrieval** API."
   ]
  },
  {
   "cell_type": "code",
   "execution_count": 11,
   "metadata": {},
   "outputs": [
    {
     "data": {
      "text/plain": [
       "<pybliometrics.scopus.author_retrieval.AuthorRetrieval at 0x1ddd11b4bd0>"
      ]
     },
     "execution_count": 11,
     "metadata": {},
     "output_type": "execute_result"
    }
   ],
   "source": [
    "from pybliometrics.scopus import AuthorRetrieval\n",
    "ar = AuthorRetrieval(full_eid)\n",
    "ar\n"
   ]
  },
  {
   "cell_type": "code",
   "execution_count": null,
   "metadata": {},
   "outputs": [],
   "source": []
  },
  {
   "cell_type": "code",
   "execution_count": 12,
   "metadata": {},
   "outputs": [
    {
     "name": "stdout",
     "output_type": "stream",
     "text": [
      "Luque R.\n",
      "[Affiliation(id=60015024, parent=None, type='parent', relationship='author', afdispname=None, preferred_name='RUDN University', parent_preferred_name=None, country_code='rus', country='Russian Federation', address_part='Miklukho-Maklaya str.6', city='Moscow', state='Moscow Oblast', postal_code='117198', org_domain='rudn.ru', org_URL='https://eng.rudn.ru/')]\n",
      "Number of (co-)authored documents: 898\n",
      "Number of citations in these documents: 41852\n",
      "Number of papers citing this author's documents: 33930\n"
     ]
    }
   ],
   "source": [
    "print(ar.indexed_name)\n",
    "print(ar.affiliation_current)\n",
    "print(\"Number of (co-)authored documents:\", ar.document_count)\n",
    "print(\"Number of citations in these documents:\", ar.citation_count)\n",
    "print(\"Number of papers citing this author's documents:\", ar.cited_by_count)"
   ]
  },
  {
   "cell_type": "code",
   "execution_count": 13,
   "metadata": {},
   "outputs": [
    {
     "name": "stderr",
     "output_type": "stream",
     "text": [
      "C:\\Users\\F0040RP\\AppData\\Local\\Temp\\ipykernel_34644\\1529366962.py:1: DeprecationWarning: \n",
      "Pyarrow will become a required dependency of pandas in the next major release of pandas (pandas 3.0),\n",
      "(to allow more performant data types, such as the Arrow string type, and better interoperability with other libraries)\n",
      "but was not found to be installed on your system.\n",
      "If this would cause problems for you,\n",
      "please provide us feedback at https://github.com/pandas-dev/pandas/issues/54466\n",
      "        \n",
      "  import pandas as pd\n"
     ]
    },
    {
     "data": {
      "text/html": [
       "<div>\n",
       "<style scoped>\n",
       "    .dataframe tbody tr th:only-of-type {\n",
       "        vertical-align: middle;\n",
       "    }\n",
       "\n",
       "    .dataframe tbody tr th {\n",
       "        vertical-align: top;\n",
       "    }\n",
       "\n",
       "    .dataframe thead th {\n",
       "        text-align: right;\n",
       "    }\n",
       "</style>\n",
       "<table border=\"1\" class=\"dataframe\">\n",
       "  <thead>\n",
       "    <tr style=\"text-align: right;\">\n",
       "      <th></th>\n",
       "      <th>eid</th>\n",
       "      <th>doi</th>\n",
       "      <th>pii</th>\n",
       "      <th>pubmed_id</th>\n",
       "      <th>title</th>\n",
       "      <th>subtype</th>\n",
       "      <th>subtypeDescription</th>\n",
       "      <th>creator</th>\n",
       "      <th>afid</th>\n",
       "      <th>affilname</th>\n",
       "      <th>...</th>\n",
       "      <th>pageRange</th>\n",
       "      <th>description</th>\n",
       "      <th>authkeywords</th>\n",
       "      <th>citedby_count</th>\n",
       "      <th>openaccess</th>\n",
       "      <th>freetoread</th>\n",
       "      <th>freetoreadLabel</th>\n",
       "      <th>fund_acr</th>\n",
       "      <th>fund_no</th>\n",
       "      <th>fund_sponsor</th>\n",
       "    </tr>\n",
       "  </thead>\n",
       "  <tbody>\n",
       "    <tr>\n",
       "      <th>0</th>\n",
       "      <td>2-s2.0-85175836371</td>\n",
       "      <td>10.1007/s40820-023-01221-3</td>\n",
       "      <td>None</td>\n",
       "      <td>None</td>\n",
       "      <td>Understanding Bridging Sites and Accelerating ...</td>\n",
       "      <td>ar</td>\n",
       "      <td>Article</td>\n",
       "      <td>Wang K.</td>\n",
       "      <td>60110590;60021182;60009506;60003138</td>\n",
       "      <td>Universidad ECOTEC;Sun Yat-Sen University;King...</td>\n",
       "      <td>...</td>\n",
       "      <td>None</td>\n",
       "      <td>We report a novel double-shelled nanoboxes pho...</td>\n",
       "      <td>Bridging sites | CO  reduction 2 | Electronic ...</td>\n",
       "      <td>6</td>\n",
       "      <td>1</td>\n",
       "      <td>repositoryvor</td>\n",
       "      <td>Green</td>\n",
       "      <td>NSFC</td>\n",
       "      <td>11922415</td>\n",
       "      <td>National Natural Science Foundation of China</td>\n",
       "    </tr>\n",
       "    <tr>\n",
       "      <th>1</th>\n",
       "      <td>2-s2.0-85188795658</td>\n",
       "      <td>10.1016/j.jphotochem.2024.115625</td>\n",
       "      <td>S1010603024001692</td>\n",
       "      <td>None</td>\n",
       "      <td>Synthesis of Cu-doped TiO&lt;inf&gt;2&lt;/inf&gt; modified...</td>\n",
       "      <td>ar</td>\n",
       "      <td>Article</td>\n",
       "      <td>Jabbari P.</td>\n",
       "      <td>60110590;60028174;60003662;60003138;116418480</td>\n",
       "      <td>Universidad ECOTEC;Isfahan University of Techn...</td>\n",
       "      <td>...</td>\n",
       "      <td>None</td>\n",
       "      <td>In the present study, a photocatalytic oxidati...</td>\n",
       "      <td>Bismuth vanadate | Cu-doped TiO 2 | Dibenzothi...</td>\n",
       "      <td>0</td>\n",
       "      <td>0</td>\n",
       "      <td>None</td>\n",
       "      <td>None</td>\n",
       "      <td>IUT</td>\n",
       "      <td>PID2021‐126235OB‐C32</td>\n",
       "      <td>Isfahan University of Technology</td>\n",
       "    </tr>\n",
       "    <tr>\n",
       "      <th>2</th>\n",
       "      <td>2-s2.0-85187783663</td>\n",
       "      <td>10.1016/j.scp.2024.101520</td>\n",
       "      <td>S2352554124000950</td>\n",
       "      <td>None</td>\n",
       "      <td>Green chemistry in Italy and Spain (1999–2019)...</td>\n",
       "      <td>ar</td>\n",
       "      <td>Article</td>\n",
       "      <td>Ciriminna R.</td>\n",
       "      <td>60110590;60030318;60008737</td>\n",
       "      <td>Universidad ECOTEC;Università degli Studi di M...</td>\n",
       "      <td>...</td>\n",
       "      <td>None</td>\n",
       "      <td>The study of green chemistry uptake in Italy a...</td>\n",
       "      <td>Benign by design | Green chemistry | Green che...</td>\n",
       "      <td>0</td>\n",
       "      <td>1</td>\n",
       "      <td>publisherhybridgold</td>\n",
       "      <td>Hybrid Gold</td>\n",
       "      <td>UniMi</td>\n",
       "      <td>PE00000004</td>\n",
       "      <td>Università degli Studi di Milano</td>\n",
       "    </tr>\n",
       "    <tr>\n",
       "      <th>3</th>\n",
       "      <td>2-s2.0-85183933285</td>\n",
       "      <td>10.1016/j.ccr.2024.215660</td>\n",
       "      <td>S0010854524000067</td>\n",
       "      <td>None</td>\n",
       "      <td>Flexible–robust MOFs/HOFs for challenging gas ...</td>\n",
       "      <td>re</td>\n",
       "      <td>Review</td>\n",
       "      <td>Ebadi Amooghin A.</td>\n",
       "      <td>60110590;60018844;60011476;60005010;116418480</td>\n",
       "      <td>Universidad ECOTEC;Fujian Normal University;Un...</td>\n",
       "      <td>...</td>\n",
       "      <td>None</td>\n",
       "      <td>The critical separation and purification indus...</td>\n",
       "      <td>Benchmark Materials | Challenging Gas Separati...</td>\n",
       "      <td>1</td>\n",
       "      <td>0</td>\n",
       "      <td>None</td>\n",
       "      <td>None</td>\n",
       "      <td>None</td>\n",
       "      <td>undefined</td>\n",
       "      <td>None</td>\n",
       "    </tr>\n",
       "    <tr>\n",
       "      <th>4</th>\n",
       "      <td>2-s2.0-85183426715</td>\n",
       "      <td>10.1016/j.fuel.2023.130761</td>\n",
       "      <td>S0016236123033756</td>\n",
       "      <td>None</td>\n",
       "      <td>Co-pyrolysis of biomass and polyethylene terep...</td>\n",
       "      <td>ar</td>\n",
       "      <td>Article</td>\n",
       "      <td>Cupertino G.F.M.</td>\n",
       "      <td>60110590;60028426;60008088;60004923;127387421</td>\n",
       "      <td>Universidad ECOTEC;Universidade Federal do Esp...</td>\n",
       "      <td>...</td>\n",
       "      <td>None</td>\n",
       "      <td>Disposal of waste plastics is an environmental...</td>\n",
       "      <td>Biomass | Circular economy | Plastic waste con...</td>\n",
       "      <td>0</td>\n",
       "      <td>0</td>\n",
       "      <td>None</td>\n",
       "      <td>None</td>\n",
       "      <td>CAPES</td>\n",
       "      <td>14/2023</td>\n",
       "      <td>Coordenação de Aperfeiçoamento de Pessoal de N...</td>\n",
       "    </tr>\n",
       "    <tr>\n",
       "      <th>...</th>\n",
       "      <td>...</td>\n",
       "      <td>...</td>\n",
       "      <td>...</td>\n",
       "      <td>...</td>\n",
       "      <td>...</td>\n",
       "      <td>...</td>\n",
       "      <td>...</td>\n",
       "      <td>...</td>\n",
       "      <td>...</td>\n",
       "      <td>...</td>\n",
       "      <td>...</td>\n",
       "      <td>...</td>\n",
       "      <td>...</td>\n",
       "      <td>...</td>\n",
       "      <td>...</td>\n",
       "      <td>...</td>\n",
       "      <td>...</td>\n",
       "      <td>...</td>\n",
       "      <td>...</td>\n",
       "      <td>...</td>\n",
       "      <td>...</td>\n",
       "    </tr>\n",
       "    <tr>\n",
       "      <th>893</th>\n",
       "      <td>2-s2.0-24344497922</td>\n",
       "      <td>10.1016/j.micromeso.2005.05.013</td>\n",
       "      <td>S1387181105002052</td>\n",
       "      <td>None</td>\n",
       "      <td>NH&lt;inf&gt;4&lt;/inf&gt;F effect in post-synthesis treat...</td>\n",
       "      <td>ar</td>\n",
       "      <td>Article</td>\n",
       "      <td>Luque R.</td>\n",
       "      <td>60003138</td>\n",
       "      <td>Universidad de Córdoba</td>\n",
       "      <td>...</td>\n",
       "      <td>11-20</td>\n",
       "      <td>A series of Al-MCM-41 mesoporous molecular sie...</td>\n",
       "      <td>Heterogeneous catalysis | MCM-41 | Mesoporous ...</td>\n",
       "      <td>49</td>\n",
       "      <td>0</td>\n",
       "      <td>None</td>\n",
       "      <td>None</td>\n",
       "      <td>MICYT</td>\n",
       "      <td>CTQ2004-02200/BQU</td>\n",
       "      <td>Ministerio de Ciencia y Tecnología</td>\n",
       "    </tr>\n",
       "    <tr>\n",
       "      <th>894</th>\n",
       "      <td>2-s2.0-14344260111</td>\n",
       "      <td>10.1016/j.jcat.2004.12.004</td>\n",
       "      <td>S002195170400586X</td>\n",
       "      <td>None</td>\n",
       "      <td>Synthesis of acidic Al-MCM-48: Influence of th...</td>\n",
       "      <td>ar</td>\n",
       "      <td>Article</td>\n",
       "      <td>Campelo J.M.</td>\n",
       "      <td>60016476;60003138</td>\n",
       "      <td>Universidad de Cádiz;Universidad de Córdoba</td>\n",
       "      <td>...</td>\n",
       "      <td>327-338</td>\n",
       "      <td>Al-MCM-48 mesostructures with different Al con...</td>\n",
       "      <td>Heterogeneous catalysis | MCM-48 | Mesoporous ...</td>\n",
       "      <td>73</td>\n",
       "      <td>0</td>\n",
       "      <td>None</td>\n",
       "      <td>None</td>\n",
       "      <td>FEDER</td>\n",
       "      <td>BQU2001-2605</td>\n",
       "      <td>European Regional Development Fund</td>\n",
       "    </tr>\n",
       "    <tr>\n",
       "      <th>895</th>\n",
       "      <td>2-s2.0-30844455578</td>\n",
       "      <td>10.1016/s0167-2991(05)80488-4</td>\n",
       "      <td>S0167299105804884</td>\n",
       "      <td>None</td>\n",
       "      <td>Cyclohexene conversion and toluene methylation...</td>\n",
       "      <td>cp</td>\n",
       "      <td>Conference Paper</td>\n",
       "      <td>Campelo J.M.</td>\n",
       "      <td>60003138</td>\n",
       "      <td>Universidad de Córdoba</td>\n",
       "      <td>...</td>\n",
       "      <td>1383-1390</td>\n",
       "      <td>Cyclohexene conversion and toluene alkylation ...</td>\n",
       "      <td>None</td>\n",
       "      <td>0</td>\n",
       "      <td>0</td>\n",
       "      <td>None</td>\n",
       "      <td>None</td>\n",
       "      <td>ERDF</td>\n",
       "      <td>CTQ2004-2200</td>\n",
       "      <td>European Regional Development Fund</td>\n",
       "    </tr>\n",
       "    <tr>\n",
       "      <th>896</th>\n",
       "      <td>2-s2.0-22544485064</td>\n",
       "      <td>10.1039/b501130b</td>\n",
       "      <td>None</td>\n",
       "      <td>None</td>\n",
       "      <td>A novel highly active biomaterial supported pa...</td>\n",
       "      <td>ar</td>\n",
       "      <td>Article</td>\n",
       "      <td>Gronnow M.J.</td>\n",
       "      <td>60016418;60003138</td>\n",
       "      <td>University of York;Universidad de Córdoba</td>\n",
       "      <td>...</td>\n",
       "      <td>552-557</td>\n",
       "      <td>We have developed an expanded starch supported...</td>\n",
       "      <td>None</td>\n",
       "      <td>116</td>\n",
       "      <td>0</td>\n",
       "      <td>None</td>\n",
       "      <td>None</td>\n",
       "      <td>None</td>\n",
       "      <td>undefined</td>\n",
       "      <td>None</td>\n",
       "    </tr>\n",
       "    <tr>\n",
       "      <th>897</th>\n",
       "      <td>2-s2.0-0041421052</td>\n",
       "      <td>10.1021/cm030206+</td>\n",
       "      <td>None</td>\n",
       "      <td>None</td>\n",
       "      <td>Effect of phosphate precursor and organic addi...</td>\n",
       "      <td>ar</td>\n",
       "      <td>Article</td>\n",
       "      <td>Campelo J.M.</td>\n",
       "      <td>60029832;60003138</td>\n",
       "      <td>CSIC-USE - Instituto de Ciencia de Materiales ...</td>\n",
       "      <td>...</td>\n",
       "      <td>3352-3364</td>\n",
       "      <td>Amorphous mesoporous AlPO4 materials were prep...</td>\n",
       "      <td>None</td>\n",
       "      <td>74</td>\n",
       "      <td>0</td>\n",
       "      <td>None</td>\n",
       "      <td>None</td>\n",
       "      <td>None</td>\n",
       "      <td>undefined</td>\n",
       "      <td>None</td>\n",
       "    </tr>\n",
       "  </tbody>\n",
       "</table>\n",
       "<p>898 rows × 36 columns</p>\n",
       "</div>"
      ],
      "text/plain": [
       "                    eid                               doi                pii  \\\n",
       "0    2-s2.0-85175836371        10.1007/s40820-023-01221-3               None   \n",
       "1    2-s2.0-85188795658  10.1016/j.jphotochem.2024.115625  S1010603024001692   \n",
       "2    2-s2.0-85187783663         10.1016/j.scp.2024.101520  S2352554124000950   \n",
       "3    2-s2.0-85183933285         10.1016/j.ccr.2024.215660  S0010854524000067   \n",
       "4    2-s2.0-85183426715        10.1016/j.fuel.2023.130761  S0016236123033756   \n",
       "..                  ...                               ...                ...   \n",
       "893  2-s2.0-24344497922   10.1016/j.micromeso.2005.05.013  S1387181105002052   \n",
       "894  2-s2.0-14344260111        10.1016/j.jcat.2004.12.004  S002195170400586X   \n",
       "895  2-s2.0-30844455578     10.1016/s0167-2991(05)80488-4  S0167299105804884   \n",
       "896  2-s2.0-22544485064                  10.1039/b501130b               None   \n",
       "897   2-s2.0-0041421052                 10.1021/cm030206+               None   \n",
       "\n",
       "    pubmed_id                                              title subtype  \\\n",
       "0        None  Understanding Bridging Sites and Accelerating ...      ar   \n",
       "1        None  Synthesis of Cu-doped TiO<inf>2</inf> modified...      ar   \n",
       "2        None  Green chemistry in Italy and Spain (1999–2019)...      ar   \n",
       "3        None  Flexible–robust MOFs/HOFs for challenging gas ...      re   \n",
       "4        None  Co-pyrolysis of biomass and polyethylene terep...      ar   \n",
       "..        ...                                                ...     ...   \n",
       "893      None  NH<inf>4</inf>F effect in post-synthesis treat...      ar   \n",
       "894      None  Synthesis of acidic Al-MCM-48: Influence of th...      ar   \n",
       "895      None  Cyclohexene conversion and toluene methylation...      cp   \n",
       "896      None  A novel highly active biomaterial supported pa...      ar   \n",
       "897      None  Effect of phosphate precursor and organic addi...      ar   \n",
       "\n",
       "    subtypeDescription            creator  \\\n",
       "0              Article            Wang K.   \n",
       "1              Article         Jabbari P.   \n",
       "2              Article       Ciriminna R.   \n",
       "3               Review  Ebadi Amooghin A.   \n",
       "4              Article   Cupertino G.F.M.   \n",
       "..                 ...                ...   \n",
       "893            Article           Luque R.   \n",
       "894            Article       Campelo J.M.   \n",
       "895   Conference Paper       Campelo J.M.   \n",
       "896            Article       Gronnow M.J.   \n",
       "897            Article       Campelo J.M.   \n",
       "\n",
       "                                              afid  \\\n",
       "0              60110590;60021182;60009506;60003138   \n",
       "1    60110590;60028174;60003662;60003138;116418480   \n",
       "2                       60110590;60030318;60008737   \n",
       "3    60110590;60018844;60011476;60005010;116418480   \n",
       "4    60110590;60028426;60008088;60004923;127387421   \n",
       "..                                             ...   \n",
       "893                                       60003138   \n",
       "894                              60016476;60003138   \n",
       "895                                       60003138   \n",
       "896                              60016418;60003138   \n",
       "897                              60029832;60003138   \n",
       "\n",
       "                                             affilname  ...  pageRange  \\\n",
       "0    Universidad ECOTEC;Sun Yat-Sen University;King...  ...       None   \n",
       "1    Universidad ECOTEC;Isfahan University of Techn...  ...       None   \n",
       "2    Universidad ECOTEC;Università degli Studi di M...  ...       None   \n",
       "3    Universidad ECOTEC;Fujian Normal University;Un...  ...       None   \n",
       "4    Universidad ECOTEC;Universidade Federal do Esp...  ...       None   \n",
       "..                                                 ...  ...        ...   \n",
       "893                             Universidad de Córdoba  ...      11-20   \n",
       "894        Universidad de Cádiz;Universidad de Córdoba  ...    327-338   \n",
       "895                             Universidad de Córdoba  ...  1383-1390   \n",
       "896          University of York;Universidad de Córdoba  ...    552-557   \n",
       "897  CSIC-USE - Instituto de Ciencia de Materiales ...  ...  3352-3364   \n",
       "\n",
       "                                           description  \\\n",
       "0    We report a novel double-shelled nanoboxes pho...   \n",
       "1    In the present study, a photocatalytic oxidati...   \n",
       "2    The study of green chemistry uptake in Italy a...   \n",
       "3    The critical separation and purification indus...   \n",
       "4    Disposal of waste plastics is an environmental...   \n",
       "..                                                 ...   \n",
       "893  A series of Al-MCM-41 mesoporous molecular sie...   \n",
       "894  Al-MCM-48 mesostructures with different Al con...   \n",
       "895  Cyclohexene conversion and toluene alkylation ...   \n",
       "896  We have developed an expanded starch supported...   \n",
       "897  Amorphous mesoporous AlPO4 materials were prep...   \n",
       "\n",
       "                                          authkeywords citedby_count  \\\n",
       "0    Bridging sites | CO  reduction 2 | Electronic ...             6   \n",
       "1    Bismuth vanadate | Cu-doped TiO 2 | Dibenzothi...             0   \n",
       "2    Benign by design | Green chemistry | Green che...             0   \n",
       "3    Benchmark Materials | Challenging Gas Separati...             1   \n",
       "4    Biomass | Circular economy | Plastic waste con...             0   \n",
       "..                                                 ...           ...   \n",
       "893  Heterogeneous catalysis | MCM-41 | Mesoporous ...            49   \n",
       "894  Heterogeneous catalysis | MCM-48 | Mesoporous ...            73   \n",
       "895                                               None             0   \n",
       "896                                               None           116   \n",
       "897                                               None            74   \n",
       "\n",
       "    openaccess           freetoread freetoreadLabel fund_acr  \\\n",
       "0            1        repositoryvor           Green     NSFC   \n",
       "1            0                 None            None      IUT   \n",
       "2            1  publisherhybridgold     Hybrid Gold    UniMi   \n",
       "3            0                 None            None     None   \n",
       "4            0                 None            None    CAPES   \n",
       "..         ...                  ...             ...      ...   \n",
       "893          0                 None            None    MICYT   \n",
       "894          0                 None            None    FEDER   \n",
       "895          0                 None            None     ERDF   \n",
       "896          0                 None            None     None   \n",
       "897          0                 None            None     None   \n",
       "\n",
       "                  fund_no                                       fund_sponsor  \n",
       "0                11922415       National Natural Science Foundation of China  \n",
       "1    PID2021‐126235OB‐C32                   Isfahan University of Technology  \n",
       "2              PE00000004                   Università degli Studi di Milano  \n",
       "3               undefined                                               None  \n",
       "4                 14/2023  Coordenação de Aperfeiçoamento de Pessoal de N...  \n",
       "..                    ...                                                ...  \n",
       "893     CTQ2004-02200/BQU                 Ministerio de Ciencia y Tecnología  \n",
       "894          BQU2001-2605                 European Regional Development Fund  \n",
       "895          CTQ2004-2200                 European Regional Development Fund  \n",
       "896             undefined                                               None  \n",
       "897             undefined                                               None  \n",
       "\n",
       "[898 rows x 36 columns]"
      ]
     },
     "execution_count": 13,
     "metadata": {},
     "output_type": "execute_result"
    }
   ],
   "source": [
    "import pandas as pd\n",
    "\n",
    "df = pd.DataFrame(ar.get_documents())\n",
    "df"
   ]
  },
  {
   "cell_type": "code",
   "execution_count": 15,
   "metadata": {},
   "outputs": [],
   "source": [
    "df.to_csv(\"test.csv\")"
   ]
  },
  {
   "cell_type": "code",
   "execution_count": 14,
   "metadata": {},
   "outputs": [
    {
     "data": {
      "text/plain": [
       "Index(['eid', 'doi', 'pii', 'pubmed_id', 'title', 'subtype',\n",
       "       'subtypeDescription', 'creator', 'afid', 'affilname',\n",
       "       'affiliation_city', 'affiliation_country', 'author_count',\n",
       "       'author_names', 'author_ids', 'author_afids', 'coverDate',\n",
       "       'coverDisplayDate', 'publicationName', 'issn', 'source_id', 'eIssn',\n",
       "       'aggregationType', 'volume', 'issueIdentifier', 'article_number',\n",
       "       'pageRange', 'description', 'authkeywords', 'citedby_count',\n",
       "       'openaccess', 'freetoread', 'freetoreadLabel', 'fund_acr', 'fund_no',\n",
       "       'fund_sponsor'],\n",
       "      dtype='object')"
      ]
     },
     "execution_count": 14,
     "metadata": {},
     "output_type": "execute_result"
    }
   ],
   "source": [
    "df.columns"
   ]
  },
  {
   "cell_type": "markdown",
   "metadata": {},
   "source": [
    "**TASK**: Retrieve information for all documents written by this author and place in a dataframe and export as a csv file."
   ]
  },
  {
   "cell_type": "code",
   "execution_count": null,
   "metadata": {},
   "outputs": [],
   "source": []
  },
  {
   "cell_type": "code",
   "execution_count": null,
   "metadata": {},
   "outputs": [],
   "source": []
  },
  {
   "cell_type": "markdown",
   "metadata": {},
   "source": [
    "## Exercise\n",
    "\n",
    "Retrieve information for all documents written by an author of your choosing. Following the code above, place this information into a dataframe and export as a csv.\n",
    "\n"
   ]
  },
  {
   "cell_type": "code",
   "execution_count": null,
   "metadata": {},
   "outputs": [],
   "source": []
  }
 ],
 "metadata": {
  "kernelspec": {
   "display_name": ".venv",
   "language": "python",
   "name": "python3"
  },
  "language_info": {
   "codemirror_mode": {
    "name": "ipython",
    "version": 3
   },
   "file_extension": ".py",
   "mimetype": "text/x-python",
   "name": "python",
   "nbconvert_exporter": "python",
   "pygments_lexer": "ipython3",
   "version": "3.11.4"
  }
 },
 "nbformat": 4,
 "nbformat_minor": 2
}
