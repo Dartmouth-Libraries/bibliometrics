{
 "cells": [
  {
   "cell_type": "markdown",
   "metadata": {},
   "source": [
    "# Document Search and Retrieval"
   ]
  },
  {
   "cell_type": "code",
   "execution_count": 1,
   "metadata": {},
   "outputs": [],
   "source": [
    "import pybliometrics\n",
    "from pybliometrics.scopus.utils import config"
   ]
  },
  {
   "cell_type": "code",
   "execution_count": 3,
   "metadata": {},
   "outputs": [],
   "source": [
    "from pybliometrics.scopus import ScopusSearch"
   ]
  },
  {
   "cell_type": "markdown",
   "metadata": {},
   "source": [
    "## Writing a Scopus Query\n",
    "\n",
    "You can search for documents using author name (as we did in notebook \"02\") or by a variety of other fields (affiliation, publication name, date range, etc.).\n",
    "\n",
    "However, often, researchers will want to search for a term or set of terms across multiple fields. Some example queries are below:\n",
    "\n",
    "* `ABS(dopamine)` returns documents where \"dopamine\" is in the document abstract.\n",
    "* `AUTHKEY(stroke)` returns documents where \"stroke\" is an author keyword.\n",
    "* `CHEMNAME(oxidopamine)` returns documents with \"oxidopamine\" in the chemical name field.\n",
    "* `FUND-ACR(NASA)` returns documents with NASA mentioned as the sponsor acronym in the acknowledgements section of the article. \n",
    "* `LANGUAGE(french)` returns documents originally written in French.\n",
    "* `OPENACCESS(1)` returns Open Access content indexed in Scopus.\n",
    "* `OPENACCESS(0)` returns subscription-based content indexed in Scopus.\n",
    "* `PUBYEAR > 1994` returns documents with a publication year after 1994.\n",
    "* `PUBYEAR < 1994` returns documents with a publication year before 1994.\n",
    "* `PUBYEAR = 1994` returns documents with a publication year of 1994. \n",
    "* To find documents where your search terms occur in the same reference, use: `REF(darwin 1859)`\n",
    "* `SRCTYPE(j)` returns documents from journal sources.\n",
    "* `TITLE(\"neuropsychological evidence\")` returns documents with the phrase \"neuropsychological evidence\" in their title.\n",
    "\n",
    "If you want to search across multiple fields, you can also use the following combined fields:\n",
    "* `ALL(\"heart attack\")` returns documents with \"heart attack\" in any field\n",
    "* `KEY(oscillator)` returns documents where \"oscillator\" is a keyword.\n",
    "    * searches the AUTHKEY, INDEXTERMS, TRADENAME, and CHEMNAME fields\n",
    "* `TITLE-ABS-KEY(\"heart attack\")` returns documents with \"heart attack\" in their abstracts, article titles, or keyword fields.\n",
    "* `TITLE-ABS-KEY-AUTH(heart attack)` returns documents with \"heart attack\" in their abstracts, article titles, keywords, or author name fields.\n",
    "\n",
    "For more on search queries within Scopus review its [Search Tips page](https://dev.elsevier.com/sc_search_tips.html)."
   ]
  },
  {
   "cell_type": "code",
   "execution_count": 9,
   "metadata": {},
   "outputs": [],
   "source": [
    "# a simple search - takes minutes!!\n",
    "query = \"TITLE-ABS-KEY(bibliometrics)\"\n",
    "s = ScopusSearch(query)\n",
    "print(s)\n"
   ]
  },
  {
   "cell_type": "code",
   "execution_count": null,
   "metadata": {},
   "outputs": [],
   "source": [
    "# searching for multiple terms\n",
    "\n",
    "query = \"TITLE-ABS-KEY(bibliometrics scopus)\"\n",
    "s2 = ScopusSearch(query)\n",
    "print(s2)"
   ]
  },
  {
   "cell_type": "code",
   "execution_count": null,
   "metadata": {},
   "outputs": [],
   "source": [
    "# searching and filtering\n",
    "\n",
    "query = \"PUBYEAR > 2018 AND TITLE-ABS-KEY(bibliometrics scopus)\"\n",
    "s2 = ScopusSearch(query)\n",
    "print(s2)\n"
   ]
  }
 ],
 "metadata": {
  "kernelspec": {
   "display_name": ".venv",
   "language": "python",
   "name": "python3"
  },
  "language_info": {
   "codemirror_mode": {
    "name": "ipython",
    "version": 3
   },
   "file_extension": ".py",
   "mimetype": "text/x-python",
   "name": "python",
   "nbconvert_exporter": "python",
   "pygments_lexer": "ipython3",
   "version": "3.11.4"
  }
 },
 "nbformat": 4,
 "nbformat_minor": 2
}
