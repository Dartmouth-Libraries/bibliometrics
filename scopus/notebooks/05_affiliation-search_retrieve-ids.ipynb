{
 "cells": [
  {
   "cell_type": "code",
   "execution_count": 1,
   "metadata": {},
   "outputs": [],
   "source": [
    "from pathlib import Path\n",
    "import pandas as pd\n",
    "import pybliometrics"
   ]
  },
  {
   "cell_type": "code",
   "execution_count": 2,
   "metadata": {},
   "outputs": [
    {
     "data": {
      "text/plain": [
       "WindowsPath('C:/Users/F0040RP/.config/pybliometrics.cfg')"
      ]
     },
     "execution_count": 2,
     "metadata": {},
     "output_type": "execute_result"
    }
   ],
   "source": [
    "pybliometrics.scopus.utils.constants.CONFIG_FILE"
   ]
  },
  {
   "cell_type": "markdown",
   "metadata": {},
   "source": [
    "Try one affiliation search  "
   ]
  },
  {
   "cell_type": "code",
   "execution_count": 3,
   "metadata": {},
   "outputs": [],
   "source": [
    "from pybliometrics.scopus import AffiliationSearch\n"
   ]
  },
  {
   "cell_type": "markdown",
   "metadata": {},
   "source": [
    "Searching by Affiliation Name:\n",
    "\n",
    "+ Search for \"Dartmouth\" returns 772 different affiliations (although many are repeats)\n",
    "\n",
    "    + i.e Includes Dartmouth College, Dartmouth-Hitchcock Medical Center, Geisel School of Medicine, Dartmouth Cancer Center, Dartmouth Health, etc.\n",
    "\n",
    "+ Search for \"Dartmouth-Hitchcock\" returns 72 affiliations"
   ]
  },
  {
   "cell_type": "code",
   "execution_count": 4,
   "metadata": {},
   "outputs": [
    {
     "name": "stdout",
     "output_type": "stream",
     "text": [
      "135\n"
     ]
    },
    {
     "data": {
      "text/plain": [
       "[Affiliation(eid='10-s2.0-60023612', name='Federal Reserve System', variant='', documents=3543, city='Washington, D.C.', country='United States', parent='0'),\n",
       " Affiliation(eid='10-s2.0-60019743', name='Federal Reserve Bank of New York', variant='', documents=1347, city='New York', country='United States', parent='0'),\n",
       " Affiliation(eid='10-s2.0-60104179', name='Federal Reserve Bank of St. Louis', variant='', documents=1155, city='St. Louis', country='United States', parent='0'),\n",
       " Affiliation(eid='10-s2.0-60013830', name='Federal Reserve Bank of Chicago', variant='', documents=895, city='Chicago', country='United States', parent='0'),\n",
       " Affiliation(eid='10-s2.0-60091322', name='Federal Reserve Bank of Minneapolis', variant='', documents=793, city='Minneapolis', country='United States', parent='0'),\n",
       " Affiliation(eid='10-s2.0-60112672', name='Federal Reserve Bank of Philadelphia', variant='', documents=733, city='Philadelphia', country='United States', parent='0'),\n",
       " Affiliation(eid='10-s2.0-60031864', name='Federal Reserve Bank of San Francisco', variant='', documents=704, city='San Francisco', country='United States', parent='0'),\n",
       " Affiliation(eid='10-s2.0-60010152', name='Federal Reserve Bank of Atlanta', variant='', documents=634, city='Atlanta', country='United States', parent='0'),\n",
       " Affiliation(eid='10-s2.0-60008845', name='Federal Reserve Bank of Dallas', variant='', documents=621, city='Dallas', country='United States', parent='0'),\n",
       " Affiliation(eid='10-s2.0-60018149', name='Federal Reserve Bank of Cleveland', variant='', documents=525, city='Cleveland', country='United States', parent='0'),\n",
       " Affiliation(eid='10-s2.0-60112497', name='Federal Reserve Bank of Boston', variant='', documents=466, city='Boston', country='United States', parent='0'),\n",
       " Affiliation(eid='10-s2.0-60030591', name='Federal Reserve Bank of Richmond', variant='', documents=425, city='Richmond', country='United States', parent='0'),\n",
       " Affiliation(eid='10-s2.0-60112315', name='Federal Reserve Bank of Kansas City', variant='', documents=381, city='Kansas City', country='United States', parent='0'),\n",
       " Affiliation(eid='10-s2.0-60003623', name='Federal Reserve Board Division of International Finance', variant='', documents=151, city='Washington, D.C.', country='United States', parent='0'),\n",
       " Affiliation(eid='10-s2.0-60009120', name='Division of Research and Statistics, Federal Reserve Board', variant='Research Department', documents=147, city='Washington, D.C.', country='United States', parent='0'),\n",
       " Affiliation(eid='10-s2.0-115922493', name='Kronotsky Federal Nature Biosphere Reserve', variant='', documents=29, city='Kamchatka Region, Yelizovo', country='Russian Federation', parent='0'),\n",
       " Affiliation(eid='10-s2.0-114477379', name='Mordovia State Nature Reserve', variant='', documents=25, city='Mordovia Republic, Temnikov Region, Village Pushta', country='Russian Federation', parent='0'),\n",
       " Affiliation(eid='10-s2.0-106020596', name='Federal Reserve Bank of Richmond', variant='', documents=25, city='Charlotte', country='United States', parent='0'),\n",
       " Affiliation(eid='10-s2.0-60030191', name='Division of Monetary Affairs, Federal Reserve Board', variant='Division Of Monetary Affairs', documents=21, city='Washington, D.C.', country='United States', parent='0'),\n",
       " Affiliation(eid='10-s2.0-108078776', name='Federal Reserve Bank of Richmond', variant='Federal Reserve Bank Of Richmond', documents=16, city='Baltimore', country='United States', parent='0'),\n",
       " Affiliation(eid='10-s2.0-100825969', name='Federal Reserve Bank', variant='', documents=13, city='Minneapolis', country='United States', parent='0'),\n",
       " Affiliation(eid='10-s2.0-100525438', name='Prioksko-Terrasny State Biosphere Reserve', variant='Prioksko-terrasnyi State Biosphere Reserve', documents=13, city='Moscow', country='Russian Federation', parent='0'),\n",
       " Affiliation(eid='10-s2.0-122647737', name='Ryazan Historical and Architectural Museum-Reserve', variant='Ryazan Historical And Architectural Museum-reserve', documents=8, city='Ryazan', country='Russian Federation', parent='0'),\n",
       " Affiliation(eid='10-s2.0-114089856', name='Federal Сenter of Sports Reserve Training', variant='Federal Сenter Of Sports Reserve Training', documents=8, city='Moscow', country='Russian Federation', parent='0'),\n",
       " Affiliation(eid='10-s2.0-101762832', name='Division of Monetary Affairs', variant='Division Of Monetary Affairs', documents=8, city='Washington, D.C.', country='United States', parent='0'),\n",
       " Affiliation(eid='10-s2.0-101534740', name='Federal Reserve Bank of Richmond', variant='Federal Reserve Bank Of Richmond', documents=7, city='Charlotte', country='United States', parent='0'),\n",
       " Affiliation(eid='10-s2.0-116564907', name='Federal Reserve Bank', variant='', documents=6, city='New York', country='United States', parent='0'),\n",
       " Affiliation(eid='10-s2.0-114312187', name='Research Institute for Storage Problems of the Federal Reserve', variant='', documents=6, city='Moscow', country='Russian Federation', parent='0'),\n",
       " Affiliation(eid='10-s2.0-105709811', name='Federal Home Loan Bank of Atlanta', variant='Federal Home Loan Bank Of Atlanta', documents=5, city='Atlanta', country='United States', parent='0'),\n",
       " Affiliation(eid='10-s2.0-126290077', name='Kronotsky Federal Nature Biosphere Reserve', variant='', documents=4, city='Elizovo', country='Russian Federation', parent='0'),\n",
       " Affiliation(eid='10-s2.0-123881599', name='Federal State Organization of Joint Direction of Kedrovaya Pad’ State Biosphere Nature Reserve and Leopard’s Land National Park', variant='Federal State Organization Of Joint Direction Of Kedrovaya Pad’ State Biosphere Nature Reserve And Leopard’s Land National Park', documents=4, city='Vladivostok', country='Russian Federation', parent='0'),\n",
       " Affiliation(eid='10-s2.0-100801827', name='Federal Reserve Bank', variant='', documents=4, city='Richmond', country='United States', parent='0'),\n",
       " Affiliation(eid='10-s2.0-126548696', name='Reserve Bank', variant='', documents=3, city='Reserve', country='United States', parent='0'),\n",
       " Affiliation(eid='10-s2.0-126179115', name='Federal Reserve Board of Minneapolis', variant='Federal Reserve Board Of Minneapolis', documents=3, city='Minneapolis', country='United States', parent='0'),\n",
       " Affiliation(eid='10-s2.0-124999202', name='Federal State Establishment United Administration of Barguzinsky State Nature Biosphere Reserve and Zabaikalsky National Park (Zapovednoe Podlemorye)', variant='United Administration Of Barguzinsky State Natural Biosphere Reserve And Zabaikalsky National Park» (fse \"zapovednoepodlemorye\")', documents=3, city='Ulan-Ude', country='Russian Federation', parent='0'),\n",
       " Affiliation(eid='10-s2.0-122327299', name=\"Farmers' Market Federation of New York\", variant='Federal Research Bank Of New York', documents=3, city='New York', country='United States', parent='0'),\n",
       " Affiliation(eid='10-s2.0-113050396', name='Kansas City Federal Reserve', variant='', documents=3, city='Kansas City', country='United States', parent='0'),\n",
       " Affiliation(eid='10-s2.0-131248518', name='Federal State Budgetary Institution \"State Nature Reserve \"Bastak\"', variant='State Nature Reserve “bastak”', documents=2, city='Birobidzhan', country='Russian Federation', parent='0'),\n",
       " Affiliation(eid='10-s2.0-129545637', name='Federal Reserve Information Technology', variant='', documents=2, city='Reserve', country='United States', parent='0'),\n",
       " Affiliation(eid='10-s2.0-127217260', name='Federal Reserve Board Research and Statistics', variant='Federal Reserve Board Research And Statistics', documents=2, city='Reserve', country='United States', parent='0'),\n",
       " Affiliation(eid='10-s2.0-126785339', name='Federal State Budget Institution “State Nature Reserve ‘Wrangel Island’”', variant='Federal State Budget Institution “state Nature Reserve ‘wrangel Island’”', documents=2, city='Pevek', country='Russian Federation', parent='0'),\n",
       " Affiliation(eid='10-s2.0-126179477', name='Federal Reserve Bank of SF', variant='Federal Reserve Bank Of Sf', documents=2, city='Reserve', country='United States', parent='0'),\n",
       " Affiliation(eid='10-s2.0-125529490', name='Federal Reserve Boardx', variant='', documents=2, city='Washington, D.C.', country='United States', parent='0'),\n",
       " Affiliation(eid='10-s2.0-125513704', name='Federal State Institution Volzhsko-Kamsky Nature Biosphere Reserve Pos. Sadovy', variant='', documents=2, city='Tatarstan Republic', country='Russian Federation', parent='0'),\n",
       " Affiliation(eid='10-s2.0-124498403', name='Federal Reserve Bank of St', variant='Federal Reserve Bank Of St', documents=2, city='Louis', country='United States', parent='0'),\n",
       " Affiliation(eid='10-s2.0-122654919', name='Federal Reserve Board of St. Louis', variant='Federal Reserve Board Of St. Louis', documents=2, city='St. Louis', country='United States', parent='0'),\n",
       " Affiliation(eid='10-s2.0-121929716', name=\"Federal Government Funded Institution 'Prisurski State Nature Reserve'\", variant=\"Federal Government Funded Institution 'prisurski State Nature Reserve'\", documents=2, city='Cheboksary', country='Russian Federation', parent='0'),\n",
       " Affiliation(eid='10-s2.0-116501731', name='Federal Reserve Bak of San Francisco', variant='Federal Reserve Bak Of San Francisco', documents=2, city='San Francisco', country='United States', parent='0'),\n",
       " Affiliation(eid='10-s2.0-116438193', name='Federal Reserve Bank', variant='', documents=2, city='St Louis', country='United States', parent='0'),\n",
       " Affiliation(eid='10-s2.0-105895508', name='Board of Governors of the Federal Reserve System', variant='Board Of Governors Of The Federal Reserve System', documents=2, city=None, country='Germany', parent='0'),\n",
       " Affiliation(eid='10-s2.0-102036362', name='Federal Reserve System', variant='Federal Reserve Bank of Richmond', documents=2, city='Washington', country='United States', parent='0'),\n",
       " Affiliation(eid='10-s2.0-132405111', name='Federal Reserve Bank of Chicago', variant='', documents=1, city='Detroit', country='United States', parent='0'),\n",
       " Affiliation(eid='10-s2.0-132404922', name='Federal Reserve of Chicago', variant='', documents=1, city='Chicago', country='United States', parent='0'),\n",
       " Affiliation(eid='10-s2.0-132271905', name='Federal Reserve', variant='', documents=1, city='Maricopa', country='United States', parent='0'),\n",
       " Affiliation(eid='10-s2.0-131944056', name='Federal State Institution “Kurilsky State Nature Reserve”', variant='Federal State Institution “kurilsky State Nature Reserve”', documents=1, city='Yuzhno-Sakhalinsk', country='Russian Federation', parent='0'),\n",
       " Affiliation(eid='10-s2.0-131646534', name='Federal center for preparation of the sports reserve', variant='Federal Center For Preparation Of The Sports Reserve', documents=1, city='Moscow', country='Russian Federation', parent='0'),\n",
       " Affiliation(eid='10-s2.0-131594523', name='Federal State Budgetary Institution “State Nature Reserve “Utrish”', variant='Federal State Budgetary Institution “state Nature Reserve “utrish”', documents=1, city='Anapa', country='Russian Federation', parent='0'),\n",
       " Affiliation(eid='10-s2.0-131585823', name='Caucasian Federal Biosphere Nature Reserve Named after H.G. Shaposhnikova', variant='Caucasian Federal Biosphere Nature Reserve Named After H.g. Shaposhnikova', documents=1, city='Sochi', country='Russian Federation', parent='0'),\n",
       " Affiliation(eid='10-s2.0-131408395', name='Counsel of Federal Reserve Financial Services (FRFS)', variant='Counsel Of Federal Reserve Financial Services (frfs)', documents=1, city='Reserve', country='United States', parent='0'),\n",
       " Affiliation(eid='10-s2.0-131240619', name='Federal State Institution “Kurilsky State Nature Reserve”', variant='Federal State Institution “kurilsky State Nature Reserve”', documents=1, city='Yuzhno-Kurilsk', country='Russian Federation', parent='0'),\n",
       " Affiliation(eid='10-s2.0-130462217', name='Federal Reserve Bank of Dallas', variant='Federal Reserve Bank Of Dallas', documents=1, city='Dallas', country='United Kingdom', parent='0'),\n",
       " Affiliation(eid='10-s2.0-130050828', name='Federal Reserve Bank of Kansas City', variant='Federal Reserve Bank Of Kansas City', documents=1, city='Omaha Nebraska', country='United States', parent='0'),\n",
       " Affiliation(eid='10-s2.0-129973817', name='Federal State Budgetary Institution “Nizhne-Svirsky State Natural Reserve”', variant='Federal State Budgetary Institution “nizhne-svirsky State Natural Reserve”', documents=1, city='Lodeynoye Pole', country='Russian Federation', parent='0'),\n",
       " Affiliation(eid='10-s2.0-129536600', name='Federal Reserve Automation Services', variant='', documents=1, city='Reserve', country='United States', parent='0'),\n",
       " Affiliation(eid='10-s2.0-129482224', name=\"Federal Reserve Bank of Philadelphia's Consumer Finance Institute\", variant=\"Federal Reserve Bank Of Philadelphia's Consumer Finance Institute\", documents=1, city='San Diego', country='United States', parent='0'),\n",
       " Affiliation(eid='10-s2.0-129042136', name='Federal Reserve Board', variant='', documents=1, city=None, country='India', parent='0'),\n",
       " Affiliation(eid='10-s2.0-128727133', name='Federal Reserve Bank in Atlanta', variant='Federal Reserve Bank In Atlanta', documents=1, city='Atlanta', country='South Georgia and the South Sandwich Islands', parent='0'),\n",
       " Affiliation(eid='10-s2.0-128561286', name='Federal Reserve Bank', variant='', documents=1, city='Saint Louis', country='United States', parent='0'),\n",
       " Affiliation(eid='10-s2.0-128456541', name='Federal Reserve Bank of Atlanta', variant='Federal Reserve Bank Of Atlanta', documents=1, city='Riverside', country='United States', parent='0'),\n",
       " Affiliation(eid='10-s2.0-128306245', name='Federal State Budgetary Institution \"Caucasian State Biosphere Natural Reserve named after KH.G. Shaposhnikova', variant='Federal State Budgetary Institution \"caucasian State Biosphere Natural Reserve Named After Kh.g. Shaposhnikova', documents=1, city='Sochi', country='Russian Federation', parent='0'),\n",
       " Affiliation(eid='10-s2.0-127268728', name='Federal Government Funded Institution “Smidovich Mordovia State Nature Reserve”', variant='Federal Government Funded Institution “smidovich Mordovia State Nature Reserve”', documents=1, city=None, country='Moldova', parent='0'),\n",
       " Affiliation(eid='10-s2.0-126979140', name='Federal Reserve Board', variant='', documents=1, city=None, country='Greece', parent='0'),\n",
       " Affiliation(eid='10-s2.0-126792640', name='Federal State Natural Reserve \"Kuznetsk Alatau\"', variant='Federal State Natural Reserve \"kuznetsk Alatau\"', documents=1, city='Mezhdurechensk', country='Russian Federation', parent='0'),\n",
       " Affiliation(eid='10-s2.0-126763617', name='Federal Reserve Plaza', variant='', documents=1, city='Boston', country='United States', parent='0'),\n",
       " Affiliation(eid='10-s2.0-126647242', name='Federal Reserve Banks of Philadelphia', variant='Federal Reserve Banks Of Philadelphia', documents=1, city='Philadelphia', country='United States', parent='0'),\n",
       " Affiliation(eid='10-s2.0-126581036', name='Digital Projects Implementation Service of FSBI “Federal center for preparation of the sports reserve” Ministry for sport of the', variant='Digital Projects Implementation Service Of Fsbi “federal Center For Preparation Of The Sports Reserve” Ministry For Sport Of The', documents=1, city=None, country='Russian Federation', parent='0'),\n",
       " Affiliation(eid='10-s2.0-125800097', name='Federal Reserve Board', variant='', documents=1, city=None, country=None, parent='0'),\n",
       " Affiliation(eid='10-s2.0-125774233', name='Federal Reserve Board', variant='', documents=1, city=None, country=None, parent='0'),\n",
       " Affiliation(eid='10-s2.0-125732576', name='Federal Reserve Bank of Atlanta', variant='Federal Reserve Bank Of Atlanta', documents=1, city='Atlanta', country='Georgia', parent='0'),\n",
       " Affiliation(eid='10-s2.0-125711988', name='Federal State Budgetary Institution “Volzhsko-Kamsky Nature Biosphere Reserve”', variant='Federal State Budgetary Institution “volzhsko-kamsky Nature Biosphere Reserve”', documents=1, city=None, country='Russian Federation', parent='0'),\n",
       " Affiliation(eid='10-s2.0-125691447', name='Federal Reserve Board', variant='', documents=1, city=None, country='Italy', parent='0'),\n",
       " Affiliation(eid='10-s2.0-125564331', name='Federal Reserve Board', variant='', documents=1, city=None, country=None, parent='0'),\n",
       " Affiliation(eid='10-s2.0-125499922', name='Federal Reserve Board', variant='', documents=1, city=None, country=None, parent='0'),\n",
       " Affiliation(eid='10-s2.0-125429254', name='Federal Reserve Board', variant='', documents=1, city=None, country=None, parent='0'),\n",
       " Affiliation(eid='10-s2.0-125294654', name='Federal Reserve Board', variant='', documents=1, city=None, country=None, parent='0'),\n",
       " Affiliation(eid='10-s2.0-125236058', name='University of Maryland (previously Federal Reserve Board)', variant='University Of Maryland (previously Federal Reserve Board)', documents=1, city=None, country='United States', parent='0'),\n",
       " Affiliation(eid='10-s2.0-125143322', name='Federal State Budgetary Institution \"utrish State Nature Reserve\"', variant='', documents=1, city=None, country='Russian Federation', parent='0'),\n",
       " Affiliation(eid='10-s2.0-124925283', name='Federal Nature Reserve Yuganskiy', variant='', documents=1, city=None, country='Russian Federation', parent='0'),\n",
       " Affiliation(eid='10-s2.0-124762902', name='Federal Reserve Board', variant='', documents=1, city=None, country=None, parent='0'),\n",
       " Affiliation(eid='10-s2.0-124479390', name='Khingan Federal Nature Reserve', variant='', documents=1, city=None, country='Russian Federation', parent='0'),\n",
       " Affiliation(eid='10-s2.0-124142054', name='Federal Reserve Board', variant='', documents=1, city=None, country=None, parent='0'),\n",
       " Affiliation(eid='10-s2.0-124101817', name='Federal Reserve Board', variant='', documents=1, city=None, country=None, parent='0'),\n",
       " Affiliation(eid='10-s2.0-123416719', name='Kirzinsky State Nature Reserve of Federal Importance', variant='Kirzinsky State Nature Reserve Of Federal Importance', documents=1, city='Novosibirsk', country='Russian Federation', parent='0'),\n",
       " Affiliation(eid='10-s2.0-123400119', name='Federal State Cultural Establishment Artistic and Literary Museum-Reserve Abramtsevo', variant='Federal State Cultural Establishment Artistic And Literary Museum-reserve Abramtsevo', documents=1, city=None, country=None, parent='0'),\n",
       " Affiliation(eid='10-s2.0-123318941', name='Federal Reserve Board', variant='', documents=1, city=None, country=None, parent='0'),\n",
       " Affiliation(eid='10-s2.0-123298065', name='South Urals Federal Research Center of Mineralogy and Geoecology of UB RAS', variant='South Urals Federal Research Center Of Mineralogy And Geoecology Of Ub Ras', documents=1, city='Miass', country='Russian Federation', parent='0'),\n",
       " Affiliation(eid='10-s2.0-123279628', name='Rutgers University and Federal Reserve Board', variant='Rutgers University And Federal Reserve Board', documents=1, city=None, country='United States', parent='0'),\n",
       " Affiliation(eid='10-s2.0-123095862', name='United States Federal Reserve', variant='', documents=1, city='Washington, D.C.', country='United States', parent='0'),\n",
       " Affiliation(eid='10-s2.0-122843797', name='Federal Reserve Bank', variant='', documents=1, city='St. Louis', country='Canada', parent='0'),\n",
       " Affiliation(eid='10-s2.0-122697483', name='Federal Reserve Board', variant='', documents=1, city=None, country=None, parent='0'),\n",
       " Affiliation(eid='10-s2.0-122523734', name='Boston Federal Reserve', variant='', documents=1, city=None, country='United States', parent='0'),\n",
       " Affiliation(eid='10-s2.0-122233479', name='Federal Reserve System', variant='', documents=1, city=None, country='Brazil', parent='0'),\n",
       " Affiliation(eid='10-s2.0-121859655', name='Federal Reserve Bank of New York', variant='Federal Reserve Bank Of New York', documents=1, city='New York', country='United Kingdom', parent='0'),\n",
       " Affiliation(eid='10-s2.0-121572609', name='Federal Reserve Bank of Chicago', variant='Federal Reserve Bank Of Chicago', documents=1, city='Chicago', country='Afghanistan', parent='0'),\n",
       " Affiliation(eid='10-s2.0-121438637', name='Board of Governors of the Federal Reserve System and CEMAPRE', variant='Board Of Governors Of The Federal Reserve System And Cemapre', documents=1, city=None, country='Portugal', parent='0'),\n",
       " Affiliation(eid='10-s2.0-121193087', name='Board of Governors of the Federal Reserve System', variant='Board Of Governors Of The Federal Reserve System', documents=1, city=None, country='Italy', parent='0'),\n",
       " Affiliation(eid='10-s2.0-121112255', name='Federal Reserve Board', variant='', documents=1, city=None, country='Canada', parent='0'),\n",
       " Affiliation(eid='10-s2.0-121022720', name='Federal Reserve Bank of Dallas', variant='Federal Reserve Bank Of Dallas', documents=1, city='Dallas', country='Norway', parent='0'),\n",
       " Affiliation(eid='10-s2.0-120643791', name='Federal Reserve Banks', variant='', documents=1, city=None, country='France', parent='0'),\n",
       " Affiliation(eid='10-s2.0-120457360', name='Federal Reserve Bank of Richmond', variant='Federal Reserve Bank Of Richmond', documents=1, city=None, country='United Kingdom', parent='0'),\n",
       " Affiliation(eid='10-s2.0-120320206', name='Federal Reserve Board', variant='', documents=1, city=None, country='Netherlands', parent='0'),\n",
       " Affiliation(eid='10-s2.0-120272654', name='Board of Governors of the Federal Reserve System', variant='Board Of Governors Of The Federal Reserve System', documents=1, city=None, country='Afghanistan', parent='0'),\n",
       " Affiliation(eid='10-s2.0-120249123', name='Federal Government Funded Institution Smidovich Mordovia State Nature Reserve', variant='', documents=1, city=None, country='Russian Federation', parent='0'),\n",
       " Affiliation(eid='10-s2.0-120014495', name='Federal Reserve Bank of San Francisco', variant='Federal Reserve Bank Of San Francisco', documents=1, city='San Francisco', country='France', parent='0'),\n",
       " Affiliation(eid='10-s2.0-119777777', name='Kansas City Federal Reserve', variant='', documents=1, city=None, country='United States', parent='0'),\n",
       " Affiliation(eid='10-s2.0-119698953', name='Federal Reserve Bank', variant='', documents=1, city='Richmond', country='United Kingdom', parent='0'),\n",
       " Affiliation(eid='10-s2.0-119002858', name='Federal Reserve Bank of New York and Nova School of Business and Economics', variant='Federal Reserve Bank Of New York And Nova School Of Business And Economics', documents=1, city='New York', country='Canada', parent='0'),\n",
       " Affiliation(eid='10-s2.0-117857132', name='Board of Governors of the Federal Reserve System', variant='', documents=1, city=None, country='Canada', parent='0'),\n",
       " Affiliation(eid='10-s2.0-117240896', name='Federal Reserve Bank', variant='', documents=1, city='Dallas', country='United States', parent='0'),\n",
       " Affiliation(eid='10-s2.0-116697575', name='Federal Reserve Bank of Atlanta', variant='', documents=1, city='Nashville', country='United States', parent='0'),\n",
       " Affiliation(eid='10-s2.0-114479985', name='Federal Reserve Bank of Chicago', variant='', documents=1, city='Wellesley', country='United States', parent='0'),\n",
       " Affiliation(eid='10-s2.0-114167427', name='Federal State Budgetary Institution Zeya State Nature Reserve', variant='', documents=1, city=None, country='Russian Federation', parent='0'),\n",
       " Affiliation(eid='10-s2.0-114026278', name='Federal Reserve Board (Retired): C/o', variant='', documents=1, city='Athens', country='Greece', parent='0'),\n",
       " Affiliation(eid='10-s2.0-113993410', name='Federal Reserve Bank of Atlanta and EDHEC Risk Institute', variant='Federal Reserve Bank Of Atlanta And Edhec Risk Institute', documents=1, city=None, country='United Kingdom', parent='0'),\n",
       " Affiliation(eid='10-s2.0-113885548', name='Research Department Federal Reserve Bank of Richmond', variant='Research Department Federal Reserve Bank Of Richmond', documents=1, city='Richmond', country='United States', parent='0'),\n",
       " Affiliation(eid='10-s2.0-113756364', name='Federal Reserve Bank of Chicago', variant='', documents=1, city='Cambridge', country='United States', parent='0'),\n",
       " Affiliation(eid='10-s2.0-113209084', name='Federal Reserve Bank', variant='', documents=1, city='Chicago', country='United States', parent='0'),\n",
       " Affiliation(eid='10-s2.0-112985491', name='SF Federal Reserve Board', variant='', documents=1, city='San Francisco', country='United States', parent='0'),\n",
       " Affiliation(eid='10-s2.0-112836675', name='Federal Reserve', variant='', documents=1, city='Atlanta', country='United States', parent='0'),\n",
       " Affiliation(eid='10-s2.0-112736840', name='Federal Reserve Bank of New York', variant='', documents=1, city=None, country='United States', parent='0'),\n",
       " Affiliation(eid='10-s2.0-109544614', name='University of Wisconsin and Federal Reserve Board', variant='', documents=1, city=None, country=None, parent='0'),\n",
       " Affiliation(eid='10-s2.0-108258763', name='Federal Reserve Bank', variant='', documents=1, city='Washington', country='United States', parent='0'),\n",
       " Affiliation(eid='10-s2.0-106321326', name='Board of Governors of the Federal Reserve System', variant='Board Of Governors Of The Federal Reserve System', documents=1, city=None, country='Greece', parent='0'),\n",
       " Affiliation(eid='10-s2.0-105410170', name='Mack Ott is Senior Economist and John A. Tatom is Assistant Vice President at the Federal Reserve Ba', variant='', documents=1, city='St Louis', country='United States', parent='0'),\n",
       " Affiliation(eid='10-s2.0-101144848', name='Federal Reserve Automation Services', variant='', documents=1, city=None, country=None, parent='0')]"
      ]
     },
     "execution_count": 4,
     "metadata": {},
     "output_type": "execute_result"
    }
   ],
   "source": [
    "#query = f\"AFFIL('Dartmouth-Hitchcock')\"\n",
    "query = f\"AFFIL('Federal Reserve')\"\n",
    "s = AffiliationSearch(query)\n",
    "returned_affils = s.affiliations\n",
    "print(len(returned_affils))\n",
    "returned_affils\n",
    "\n"
   ]
  },
  {
   "cell_type": "code",
   "execution_count": 5,
   "metadata": {},
   "outputs": [],
   "source": [
    "affil_dict = {}\n",
    "for affil in returned_affils:\n",
    "    affil_dict[affil[0]] = {\"name\": affil[1], \"variant\": affil[2],\n",
    "                            \"documents\": affil[3], \"city\": affil[4],\n",
    "                            \"country\": affil[5], \"parent\": affil[6]}\n",
    "\n",
    "affil_df = pd.DataFrame.from_dict(affil_dict, orient='index')"
   ]
  },
  {
   "cell_type": "code",
   "execution_count": 6,
   "metadata": {},
   "outputs": [
    {
     "data": {
      "text/html": [
       "<div>\n",
       "<style scoped>\n",
       "    .dataframe tbody tr th:only-of-type {\n",
       "        vertical-align: middle;\n",
       "    }\n",
       "\n",
       "    .dataframe tbody tr th {\n",
       "        vertical-align: top;\n",
       "    }\n",
       "\n",
       "    .dataframe thead th {\n",
       "        text-align: right;\n",
       "    }\n",
       "</style>\n",
       "<table border=\"1\" class=\"dataframe\">\n",
       "  <thead>\n",
       "    <tr style=\"text-align: right;\">\n",
       "      <th></th>\n",
       "      <th>name</th>\n",
       "      <th>variant</th>\n",
       "      <th>documents</th>\n",
       "      <th>city</th>\n",
       "      <th>country</th>\n",
       "      <th>parent</th>\n",
       "    </tr>\n",
       "  </thead>\n",
       "  <tbody>\n",
       "    <tr>\n",
       "      <th>10-s2.0-60023612</th>\n",
       "      <td>Federal Reserve System</td>\n",
       "      <td></td>\n",
       "      <td>3543</td>\n",
       "      <td>Washington, D.C.</td>\n",
       "      <td>United States</td>\n",
       "      <td>0</td>\n",
       "    </tr>\n",
       "    <tr>\n",
       "      <th>10-s2.0-60019743</th>\n",
       "      <td>Federal Reserve Bank of New York</td>\n",
       "      <td></td>\n",
       "      <td>1347</td>\n",
       "      <td>New York</td>\n",
       "      <td>United States</td>\n",
       "      <td>0</td>\n",
       "    </tr>\n",
       "    <tr>\n",
       "      <th>10-s2.0-60104179</th>\n",
       "      <td>Federal Reserve Bank of St. Louis</td>\n",
       "      <td></td>\n",
       "      <td>1155</td>\n",
       "      <td>St. Louis</td>\n",
       "      <td>United States</td>\n",
       "      <td>0</td>\n",
       "    </tr>\n",
       "    <tr>\n",
       "      <th>10-s2.0-60013830</th>\n",
       "      <td>Federal Reserve Bank of Chicago</td>\n",
       "      <td></td>\n",
       "      <td>895</td>\n",
       "      <td>Chicago</td>\n",
       "      <td>United States</td>\n",
       "      <td>0</td>\n",
       "    </tr>\n",
       "    <tr>\n",
       "      <th>10-s2.0-60091322</th>\n",
       "      <td>Federal Reserve Bank of Minneapolis</td>\n",
       "      <td></td>\n",
       "      <td>793</td>\n",
       "      <td>Minneapolis</td>\n",
       "      <td>United States</td>\n",
       "      <td>0</td>\n",
       "    </tr>\n",
       "    <tr>\n",
       "      <th>...</th>\n",
       "      <td>...</td>\n",
       "      <td>...</td>\n",
       "      <td>...</td>\n",
       "      <td>...</td>\n",
       "      <td>...</td>\n",
       "      <td>...</td>\n",
       "    </tr>\n",
       "    <tr>\n",
       "      <th>10-s2.0-109544614</th>\n",
       "      <td>University of Wisconsin and Federal Reserve Board</td>\n",
       "      <td></td>\n",
       "      <td>1</td>\n",
       "      <td>None</td>\n",
       "      <td>None</td>\n",
       "      <td>0</td>\n",
       "    </tr>\n",
       "    <tr>\n",
       "      <th>10-s2.0-108258763</th>\n",
       "      <td>Federal Reserve Bank</td>\n",
       "      <td></td>\n",
       "      <td>1</td>\n",
       "      <td>Washington</td>\n",
       "      <td>United States</td>\n",
       "      <td>0</td>\n",
       "    </tr>\n",
       "    <tr>\n",
       "      <th>10-s2.0-106321326</th>\n",
       "      <td>Board of Governors of the Federal Reserve System</td>\n",
       "      <td>Board Of Governors Of The Federal Reserve System</td>\n",
       "      <td>1</td>\n",
       "      <td>None</td>\n",
       "      <td>Greece</td>\n",
       "      <td>0</td>\n",
       "    </tr>\n",
       "    <tr>\n",
       "      <th>10-s2.0-105410170</th>\n",
       "      <td>Mack Ott is Senior Economist and John A. Tatom...</td>\n",
       "      <td></td>\n",
       "      <td>1</td>\n",
       "      <td>St Louis</td>\n",
       "      <td>United States</td>\n",
       "      <td>0</td>\n",
       "    </tr>\n",
       "    <tr>\n",
       "      <th>10-s2.0-101144848</th>\n",
       "      <td>Federal Reserve Automation Services</td>\n",
       "      <td></td>\n",
       "      <td>1</td>\n",
       "      <td>None</td>\n",
       "      <td>None</td>\n",
       "      <td>0</td>\n",
       "    </tr>\n",
       "  </tbody>\n",
       "</table>\n",
       "<p>135 rows × 6 columns</p>\n",
       "</div>"
      ],
      "text/plain": [
       "                                                                name  \\\n",
       "10-s2.0-60023612                              Federal Reserve System   \n",
       "10-s2.0-60019743                    Federal Reserve Bank of New York   \n",
       "10-s2.0-60104179                   Federal Reserve Bank of St. Louis   \n",
       "10-s2.0-60013830                     Federal Reserve Bank of Chicago   \n",
       "10-s2.0-60091322                 Federal Reserve Bank of Minneapolis   \n",
       "...                                                              ...   \n",
       "10-s2.0-109544614  University of Wisconsin and Federal Reserve Board   \n",
       "10-s2.0-108258763                               Federal Reserve Bank   \n",
       "10-s2.0-106321326   Board of Governors of the Federal Reserve System   \n",
       "10-s2.0-105410170  Mack Ott is Senior Economist and John A. Tatom...   \n",
       "10-s2.0-101144848                Federal Reserve Automation Services   \n",
       "\n",
       "                                                            variant  \\\n",
       "10-s2.0-60023612                                                      \n",
       "10-s2.0-60019743                                                      \n",
       "10-s2.0-60104179                                                      \n",
       "10-s2.0-60013830                                                      \n",
       "10-s2.0-60091322                                                      \n",
       "...                                                             ...   \n",
       "10-s2.0-109544614                                                     \n",
       "10-s2.0-108258763                                                     \n",
       "10-s2.0-106321326  Board Of Governors Of The Federal Reserve System   \n",
       "10-s2.0-105410170                                                     \n",
       "10-s2.0-101144848                                                     \n",
       "\n",
       "                   documents              city        country parent  \n",
       "10-s2.0-60023612        3543  Washington, D.C.  United States      0  \n",
       "10-s2.0-60019743        1347          New York  United States      0  \n",
       "10-s2.0-60104179        1155         St. Louis  United States      0  \n",
       "10-s2.0-60013830         895           Chicago  United States      0  \n",
       "10-s2.0-60091322         793       Minneapolis  United States      0  \n",
       "...                      ...               ...            ...    ...  \n",
       "10-s2.0-109544614          1              None           None      0  \n",
       "10-s2.0-108258763          1        Washington  United States      0  \n",
       "10-s2.0-106321326          1              None         Greece      0  \n",
       "10-s2.0-105410170          1          St Louis  United States      0  \n",
       "10-s2.0-101144848          1              None           None      0  \n",
       "\n",
       "[135 rows x 6 columns]"
      ]
     },
     "execution_count": 6,
     "metadata": {},
     "output_type": "execute_result"
    }
   ],
   "source": [
    "affil_df"
   ]
  },
  {
   "cell_type": "code",
   "execution_count": null,
   "metadata": {},
   "outputs": [],
   "source": [
    "affil_df.to_csv(\"affiliations_fed-reserve-search\", index_label=\"eid\", encoding='utf-8')"
   ]
  },
  {
   "cell_type": "code",
   "execution_count": null,
   "metadata": {},
   "outputs": [],
   "source": [
    "# s.get_key_remaining_quota()"
   ]
  },
  {
   "cell_type": "code",
   "execution_count": null,
   "metadata": {},
   "outputs": [],
   "source": [
    "# s.get_key_reset_time()"
   ]
  },
  {
   "cell_type": "markdown",
   "metadata": {},
   "source": [
    "Use AffiliationRetrieval to get program names using \"name_variants\" object"
   ]
  },
  {
   "cell_type": "code",
   "execution_count": 14,
   "metadata": {},
   "outputs": [],
   "source": [
    "from pybliometrics.scopus import AffiliationRetrieval\n",
    "\n",
    "#pybliometrics.scopus.init()\n",
    "\n",
    "aff = AffiliationRetrieval(60023612)\n",
    "\n"
   ]
  },
  {
   "cell_type": "code",
   "execution_count": 15,
   "metadata": {},
   "outputs": [
    {
     "data": {
      "text/plain": [
       "'10-s2.0-60023612'"
      ]
     },
     "execution_count": 15,
     "metadata": {},
     "output_type": "execute_result"
    }
   ],
   "source": [
    "aff.eid"
   ]
  },
  {
   "cell_type": "code",
   "execution_count": 18,
   "metadata": {},
   "outputs": [],
   "source": [
    "aff2 = AffiliationRetrieval(60023612)"
   ]
  },
  {
   "cell_type": "code",
   "execution_count": 19,
   "metadata": {},
   "outputs": [
    {
     "data": {
      "text/plain": [
       "763"
      ]
     },
     "execution_count": 19,
     "metadata": {},
     "output_type": "execute_result"
    }
   ],
   "source": [
    "aff2.author_count"
   ]
  },
  {
   "cell_type": "code",
   "execution_count": null,
   "metadata": {},
   "outputs": [],
   "source": []
  },
  {
   "cell_type": "code",
   "execution_count": null,
   "metadata": {},
   "outputs": [],
   "source": []
  },
  {
   "cell_type": "code",
   "execution_count": null,
   "metadata": {},
   "outputs": [],
   "source": []
  },
  {
   "cell_type": "code",
   "execution_count": null,
   "metadata": {},
   "outputs": [
    {
     "data": {
      "text/plain": [
       "18121"
      ]
     },
     "execution_count": 37,
     "metadata": {},
     "output_type": "execute_result"
    }
   ],
   "source": [
    "aff.document_count"
   ]
  },
  {
   "cell_type": "code",
   "execution_count": null,
   "metadata": {},
   "outputs": [
    {
     "data": {
      "text/plain": [
       "[Variant(name='Dartmouth-hitchcock Medical Center', doc_count=14519),\n",
       " Variant(name='Dartmouth Hitchcock Medical Center', doc_count=3602)]"
      ]
     },
     "execution_count": 36,
     "metadata": {},
     "output_type": "execute_result"
    }
   ],
   "source": [
    "aff.name_variants"
   ]
  },
  {
   "cell_type": "code",
   "execution_count": null,
   "metadata": {},
   "outputs": [
    {
     "ename": "Scopus400Error",
     "evalue": "Error translating query",
     "output_type": "error",
     "traceback": [
      "\u001b[1;31m---------------------------------------------------------------------------\u001b[0m",
      "\u001b[1;31mScopus400Error\u001b[0m                            Traceback (most recent call last)",
      "Cell \u001b[1;32mIn[40], line 2\u001b[0m\n\u001b[0;32m      1\u001b[0m query \u001b[38;5;241m=\u001b[39m \u001b[38;5;124mf\u001b[39m\u001b[38;5;124m\"\u001b[39m\u001b[38;5;124mSUBJAREA(\u001b[39m\u001b[38;5;124m'\u001b[39m\u001b[38;5;124m2732\u001b[39m\u001b[38;5;124m'\u001b[39m\u001b[38;5;124m)\u001b[39m\u001b[38;5;124m\"\u001b[39m\n\u001b[1;32m----> 2\u001b[0m s \u001b[38;5;241m=\u001b[39m \u001b[43mAffiliationSearch\u001b[49m\u001b[43m(\u001b[49m\u001b[43mquery\u001b[49m\u001b[43m)\u001b[49m\n\u001b[0;32m      3\u001b[0m returned_affils \u001b[38;5;241m=\u001b[39m s\u001b[38;5;241m.\u001b[39maffiliations\n\u001b[0;32m      4\u001b[0m \u001b[38;5;28mprint\u001b[39m(\u001b[38;5;28mlen\u001b[39m(returned_affils))\n",
      "File \u001b[1;32mc:\\Users\\F0040RP\\Documents\\DartLib_RDS\\projects\\bibliometrics\\.venv\\Lib\\site-packages\\pybliometrics\\scopus\\affiliation_search.py:114\u001b[0m, in \u001b[0;36mAffiliationSearch.__init__\u001b[1;34m(self, query, refresh, verbose, download, integrity_fields, integrity_action, count, **kwds)\u001b[0m\n\u001b[0;32m    112\u001b[0m \u001b[38;5;28mself\u001b[39m\u001b[38;5;241m.\u001b[39m_refresh \u001b[38;5;241m=\u001b[39m refresh\n\u001b[0;32m    113\u001b[0m \u001b[38;5;28mself\u001b[39m\u001b[38;5;241m.\u001b[39m_view \u001b[38;5;241m=\u001b[39m \u001b[38;5;124m\"\u001b[39m\u001b[38;5;124mSTANDARD\u001b[39m\u001b[38;5;124m\"\u001b[39m\n\u001b[1;32m--> 114\u001b[0m \u001b[43mSearch\u001b[49m\u001b[38;5;241;43m.\u001b[39;49m\u001b[38;5;21;43m__init__\u001b[39;49m\u001b[43m(\u001b[49m\u001b[38;5;28;43mself\u001b[39;49m\u001b[43m,\u001b[49m\u001b[43m \u001b[49m\u001b[43mquery\u001b[49m\u001b[38;5;241;43m=\u001b[39;49m\u001b[43mquery\u001b[49m\u001b[43m,\u001b[49m\u001b[43m \u001b[49m\u001b[43mapi\u001b[49m\u001b[38;5;241;43m=\u001b[39;49m\u001b[38;5;124;43m\"\u001b[39;49m\u001b[38;5;124;43mAffiliationSearch\u001b[39;49m\u001b[38;5;124;43m\"\u001b[39;49m\u001b[43m,\u001b[49m\n\u001b[0;32m    115\u001b[0m \u001b[43m                \u001b[49m\u001b[43mcount\u001b[49m\u001b[38;5;241;43m=\u001b[39;49m\u001b[43mcount\u001b[49m\u001b[43m,\u001b[49m\u001b[43m \u001b[49m\u001b[43mdownload\u001b[49m\u001b[38;5;241;43m=\u001b[39;49m\u001b[43mdownload\u001b[49m\u001b[43m,\u001b[49m\u001b[43m \u001b[49m\u001b[43mverbose\u001b[49m\u001b[38;5;241;43m=\u001b[39;49m\u001b[43mverbose\u001b[49m\u001b[43m,\u001b[49m\u001b[43m \u001b[49m\u001b[38;5;241;43m*\u001b[39;49m\u001b[38;5;241;43m*\u001b[39;49m\u001b[43mkwds\u001b[49m\u001b[43m)\u001b[49m\n",
      "File \u001b[1;32mc:\\Users\\F0040RP\\Documents\\DartLib_RDS\\projects\\bibliometrics\\.venv\\Lib\\site-packages\\pybliometrics\\scopus\\superclasses\\search.py:62\u001b[0m, in \u001b[0;36mSearch.__init__\u001b[1;34m(self, query, api, count, cursor, download, verbose, **kwds)\u001b[0m\n\u001b[0;32m     59\u001b[0m \u001b[38;5;28mself\u001b[39m\u001b[38;5;241m.\u001b[39m_cache_file_path \u001b[38;5;241m=\u001b[39m get_folder(api, \u001b[38;5;28mself\u001b[39m\u001b[38;5;241m.\u001b[39m_view)\u001b[38;5;241m/\u001b[39mstem\n\u001b[0;32m     61\u001b[0m \u001b[38;5;66;03m# Init\u001b[39;00m\n\u001b[1;32m---> 62\u001b[0m \u001b[43mBase\u001b[49m\u001b[38;5;241;43m.\u001b[39;49m\u001b[38;5;21;43m__init__\u001b[39;49m\u001b[43m(\u001b[49m\u001b[38;5;28;43mself\u001b[39;49m\u001b[43m,\u001b[49m\u001b[43m \u001b[49m\u001b[43mparams\u001b[49m\u001b[38;5;241;43m=\u001b[39;49m\u001b[43mparams\u001b[49m\u001b[43m,\u001b[49m\u001b[43m \u001b[49m\u001b[43murl\u001b[49m\u001b[38;5;241;43m=\u001b[39;49m\u001b[43mURLS\u001b[49m\u001b[43m[\u001b[49m\u001b[43mapi\u001b[49m\u001b[43m]\u001b[49m\u001b[43m,\u001b[49m\u001b[43m \u001b[49m\u001b[43mdownload\u001b[49m\u001b[38;5;241;43m=\u001b[39;49m\u001b[43mdownload\u001b[49m\u001b[43m,\u001b[49m\n\u001b[0;32m     63\u001b[0m \u001b[43m              \u001b[49m\u001b[43mapi\u001b[49m\u001b[38;5;241;43m=\u001b[39;49m\u001b[43mapi\u001b[49m\u001b[43m,\u001b[49m\u001b[43m \u001b[49m\u001b[43mverbose\u001b[49m\u001b[38;5;241;43m=\u001b[39;49m\u001b[43mverbose\u001b[49m\u001b[43m)\u001b[49m\n",
      "File \u001b[1;32mc:\\Users\\F0040RP\\Documents\\DartLib_RDS\\projects\\bibliometrics\\.venv\\Lib\\site-packages\\pybliometrics\\scopus\\superclasses\\base.py:66\u001b[0m, in \u001b[0;36mBase.__init__\u001b[1;34m(self, params, url, api, download, verbose, *args, **kwds)\u001b[0m\n\u001b[0;32m     64\u001b[0m         \u001b[38;5;28mself\u001b[39m\u001b[38;5;241m.\u001b[39m_json \u001b[38;5;241m=\u001b[39m loads(fname\u001b[38;5;241m.\u001b[39mread_text())\n\u001b[0;32m     65\u001b[0m \u001b[38;5;28;01melse\u001b[39;00m:\n\u001b[1;32m---> 66\u001b[0m     resp \u001b[38;5;241m=\u001b[39m \u001b[43mget_content\u001b[49m\u001b[43m(\u001b[49m\u001b[43murl\u001b[49m\u001b[43m,\u001b[49m\u001b[43m \u001b[49m\u001b[43mapi\u001b[49m\u001b[43m,\u001b[49m\u001b[43m \u001b[49m\u001b[43mparams\u001b[49m\u001b[43m,\u001b[49m\u001b[43m \u001b[49m\u001b[38;5;241;43m*\u001b[39;49m\u001b[43margs\u001b[49m\u001b[43m,\u001b[49m\u001b[43m \u001b[49m\u001b[38;5;241;43m*\u001b[39;49m\u001b[38;5;241;43m*\u001b[39;49m\u001b[43mkwds\u001b[49m\u001b[43m)\u001b[49m\n\u001b[0;32m     67\u001b[0m     header \u001b[38;5;241m=\u001b[39m resp\u001b[38;5;241m.\u001b[39mheaders\n\u001b[0;32m     69\u001b[0m     \u001b[38;5;28;01mif\u001b[39;00m ab_ref_retrieval:\n",
      "File \u001b[1;32mc:\\Users\\F0040RP\\Documents\\DartLib_RDS\\projects\\bibliometrics\\.venv\\Lib\\site-packages\\pybliometrics\\scopus\\utils\\get_content.py:116\u001b[0m, in \u001b[0;36mget_content\u001b[1;34m(url, api, params, **kwds)\u001b[0m\n\u001b[0;32m    114\u001b[0m         \u001b[38;5;28;01mexcept\u001b[39;00m:\n\u001b[0;32m    115\u001b[0m             reason \u001b[38;5;241m=\u001b[39m \u001b[38;5;124m\"\u001b[39m\u001b[38;5;124m\"\u001b[39m\n\u001b[1;32m--> 116\u001b[0m     \u001b[38;5;28;01mraise\u001b[39;00m errors[resp\u001b[38;5;241m.\u001b[39mstatus_code](reason)\n\u001b[0;32m    117\u001b[0m \u001b[38;5;28;01mexcept\u001b[39;00m \u001b[38;5;167;01mKeyError\u001b[39;00m:\n\u001b[0;32m    118\u001b[0m     resp\u001b[38;5;241m.\u001b[39mraise_for_status()\n",
      "\u001b[1;31mScopus400Error\u001b[0m: Error translating query"
     ]
    }
   ],
   "source": [
    "#query = f\"SUBJAREA(2732)\"\n",
    "#s = AffiliationSearch(query)\n",
    "#returned_affils = s.affiliations\n",
    "#print(len(returned_affils))\n",
    "#returned_affils"
   ]
  },
  {
   "cell_type": "code",
   "execution_count": null,
   "metadata": {},
   "outputs": [],
   "source": []
  },
  {
   "cell_type": "code",
   "execution_count": null,
   "metadata": {},
   "outputs": [],
   "source": []
  },
  {
   "cell_type": "code",
   "execution_count": null,
   "metadata": {},
   "outputs": [],
   "source": []
  },
  {
   "cell_type": "code",
   "execution_count": null,
   "metadata": {},
   "outputs": [],
   "source": []
  },
  {
   "cell_type": "code",
   "execution_count": null,
   "metadata": {},
   "outputs": [
    {
     "data": {
      "text/html": [
       "<div>\n",
       "<style scoped>\n",
       "    .dataframe tbody tr th:only-of-type {\n",
       "        vertical-align: middle;\n",
       "    }\n",
       "\n",
       "    .dataframe tbody tr th {\n",
       "        vertical-align: top;\n",
       "    }\n",
       "\n",
       "    .dataframe thead th {\n",
       "        text-align: right;\n",
       "    }\n",
       "</style>\n",
       "<table border=\"1\" class=\"dataframe\">\n",
       "  <thead>\n",
       "    <tr style=\"text-align: right;\">\n",
       "      <th></th>\n",
       "      <th>Specialty</th>\n",
       "      <th>Program ID</th>\n",
       "      <th>Program Name</th>\n",
       "      <th>Program Directors First Name</th>\n",
       "      <th>Program Directors Last Name</th>\n",
       "      <th>Program Director's Degrees</th>\n",
       "      <th>Program Directors Address 1</th>\n",
       "      <th>Program Directors Address 2</th>\n",
       "      <th>Program Directors City</th>\n",
       "      <th>Program Directors State</th>\n",
       "      <th>...</th>\n",
       "      <th>Comment10</th>\n",
       "      <th>Comment11</th>\n",
       "      <th>Comment12</th>\n",
       "      <th>Comment13</th>\n",
       "      <th>Comment14</th>\n",
       "      <th>Comment 15</th>\n",
       "      <th>Column1</th>\n",
       "      <th>Column2</th>\n",
       "      <th>Column3</th>\n",
       "      <th>Column4</th>\n",
       "    </tr>\n",
       "  </thead>\n",
       "  <tbody>\n",
       "    <tr>\n",
       "      <th>0</th>\n",
       "      <td>Orthopaedic Surgery</td>\n",
       "      <td>\"2604100218\"</td>\n",
       "      <td>Robert Packer Hospital Program</td>\n",
       "      <td>Abraham</td>\n",
       "      <td>Appleton</td>\n",
       "      <td>MD</td>\n",
       "      <td>Orthopaedic Surgery Pgm</td>\n",
       "      <td>1 Guthrie Sq</td>\n",
       "      <td>Sayre</td>\n",
       "      <td>PA</td>\n",
       "      <td>...</td>\n",
       "      <td></td>\n",
       "      <td></td>\n",
       "      <td></td>\n",
       "      <td></td>\n",
       "      <td></td>\n",
       "      <td></td>\n",
       "      <td></td>\n",
       "      <td>NaN</td>\n",
       "      <td>NaN</td>\n",
       "      <td>NaN</td>\n",
       "    </tr>\n",
       "    <tr>\n",
       "      <th>1</th>\n",
       "      <td>Orthopaedic Surgery</td>\n",
       "      <td>\"2601621050\"</td>\n",
       "      <td>Loyola University Medical Center Program</td>\n",
       "      <td>Adam</td>\n",
       "      <td>Schiff</td>\n",
       "      <td>MD</td>\n",
       "      <td>Maguire Bldg Ste 1700</td>\n",
       "      <td>2160 S First Ave</td>\n",
       "      <td>Maywood</td>\n",
       "      <td>IL</td>\n",
       "      <td>...</td>\n",
       "      <td></td>\n",
       "      <td></td>\n",
       "      <td></td>\n",
       "      <td></td>\n",
       "      <td></td>\n",
       "      <td></td>\n",
       "      <td></td>\n",
       "      <td>NaN</td>\n",
       "      <td>NaN</td>\n",
       "      <td>NaN</td>\n",
       "    </tr>\n",
       "    <tr>\n",
       "      <th>2</th>\n",
       "      <td>Orthopaedic Surgery</td>\n",
       "      <td>\"2600821172\"</td>\n",
       "      <td>University of Connecticut Program</td>\n",
       "      <td>Adam</td>\n",
       "      <td>Lindsay</td>\n",
       "      <td>MD</td>\n",
       "      <td>MSI 4023</td>\n",
       "      <td>263 Farmington Ave</td>\n",
       "      <td>Farmington</td>\n",
       "      <td>CT</td>\n",
       "      <td>...</td>\n",
       "      <td></td>\n",
       "      <td></td>\n",
       "      <td></td>\n",
       "      <td></td>\n",
       "      <td></td>\n",
       "      <td></td>\n",
       "      <td></td>\n",
       "      <td></td>\n",
       "      <td></td>\n",
       "      <td>NaN</td>\n",
       "    </tr>\n",
       "    <tr>\n",
       "      <th>3</th>\n",
       "      <td>Orthopaedic Surgery</td>\n",
       "      <td>\"2600821005\"</td>\n",
       "      <td>Yale-New Haven Medical Center Program</td>\n",
       "      <td>Adrienne</td>\n",
       "      <td>Socci</td>\n",
       "      <td>MD</td>\n",
       "      <td>PO Box 208071</td>\n",
       "      <td>47 College Pl</td>\n",
       "      <td>New Haven</td>\n",
       "      <td>CT</td>\n",
       "      <td>...</td>\n",
       "      <td></td>\n",
       "      <td></td>\n",
       "      <td></td>\n",
       "      <td></td>\n",
       "      <td></td>\n",
       "      <td></td>\n",
       "      <td></td>\n",
       "      <td>NaN</td>\n",
       "      <td>NaN</td>\n",
       "      <td>NaN</td>\n",
       "    </tr>\n",
       "    <tr>\n",
       "      <th>4</th>\n",
       "      <td>Orthopaedic Surgery</td>\n",
       "      <td>\"2603521107\"</td>\n",
       "      <td>Maimonides Medical Center Program</td>\n",
       "      <td>Afshin</td>\n",
       "      <td>Razi</td>\n",
       "      <td>MD</td>\n",
       "      <td>Dept of Orthopaedic Surgery</td>\n",
       "      <td>927 49th St</td>\n",
       "      <td>Brooklyn</td>\n",
       "      <td>NY</td>\n",
       "      <td>...</td>\n",
       "      <td></td>\n",
       "      <td></td>\n",
       "      <td></td>\n",
       "      <td></td>\n",
       "      <td></td>\n",
       "      <td></td>\n",
       "      <td></td>\n",
       "      <td></td>\n",
       "      <td></td>\n",
       "      <td>NaN</td>\n",
       "    </tr>\n",
       "  </tbody>\n",
       "</table>\n",
       "<p>5 rows × 45 columns</p>\n",
       "</div>"
      ],
      "text/plain": [
       "             Specialty     Program ID  \\\n",
       "0  Orthopaedic Surgery   \"2604100218\"   \n",
       "1  Orthopaedic Surgery   \"2601621050\"   \n",
       "2  Orthopaedic Surgery   \"2600821172\"   \n",
       "3  Orthopaedic Surgery   \"2600821005\"   \n",
       "4  Orthopaedic Surgery   \"2603521107\"   \n",
       "\n",
       "                                Program Name  Program Directors First Name  \\\n",
       "0             Robert Packer Hospital Program                       Abraham   \n",
       "1   Loyola University Medical Center Program                          Adam   \n",
       "2          University of Connecticut Program                          Adam   \n",
       "3      Yale-New Haven Medical Center Program                      Adrienne   \n",
       "4          Maimonides Medical Center Program                        Afshin   \n",
       "\n",
       "   Program Directors Last Name   Program Director's Degrees  \\\n",
       "0                     Appleton                           MD   \n",
       "1                       Schiff                           MD   \n",
       "2                      Lindsay                           MD   \n",
       "3                        Socci                           MD   \n",
       "4                         Razi                           MD   \n",
       "\n",
       "    Program Directors Address 1  Program Directors Address 2  \\\n",
       "0       Orthopaedic Surgery Pgm                 1 Guthrie Sq   \n",
       "1         Maguire Bldg Ste 1700             2160 S First Ave   \n",
       "2                      MSI 4023           263 Farmington Ave   \n",
       "3                 PO Box 208071                47 College Pl   \n",
       "4   Dept of Orthopaedic Surgery                  927 49th St   \n",
       "\n",
       "   Program Directors City  Program Directors State  ...  Comment10  Comment11  \\\n",
       "0                   Sayre                       PA  ...                         \n",
       "1                 Maywood                       IL  ...                         \n",
       "2              Farmington                       CT  ...                         \n",
       "3               New Haven                       CT  ...                         \n",
       "4                Brooklyn                       NY  ...                         \n",
       "\n",
       "   Comment12  Comment13  Comment14  Comment 15  Column1  Column2 Column3  \\\n",
       "0                                                            NaN     NaN   \n",
       "1                                                            NaN     NaN   \n",
       "2                                                                          \n",
       "3                                                            NaN     NaN   \n",
       "4                                                                          \n",
       "\n",
       "  Column4  \n",
       "0     NaN  \n",
       "1     NaN  \n",
       "2     NaN  \n",
       "3     NaN  \n",
       "4     NaN  \n",
       "\n",
       "[5 rows x 45 columns]"
      ]
     },
     "execution_count": 4,
     "metadata": {},
     "output_type": "execute_result"
    }
   ],
   "source": [
    "data_dir = Path(\"../data\")\n",
    "program_file = \"programs_cleaned.csv\"\n",
    "\n",
    "program_df = pd.read_csv(Path(data_dir, program_file), encoding='utf-8')\n",
    "program_df.head()"
   ]
  },
  {
   "cell_type": "code",
   "execution_count": null,
   "metadata": {},
   "outputs": [
    {
     "data": {
      "text/plain": [
       "Index(['Specialty', ' Program ID', ' Program Name',\n",
       "       ' Program Directors First Name', ' Program Directors Last Name',\n",
       "       '  Program Director's Degrees', ' Program Directors Address 1',\n",
       "       ' Program Directors Address 2', ' Program Directors City',\n",
       "       ' Program Directors State', ' Program Directors Zip',\n",
       "       ' Program Contacts First Name', ' Program Contacts Last Name',\n",
       "       ' Program Contacts Degrees', ' Program Contacts Phone',\n",
       "       ' Program Contacts E-mail', ' Accepting Applications for 2019/2020',\n",
       "       ' Accepting applications for 2020-2021', ' NRMP Codes',\n",
       "       ' Number of Interviews last year for first year positions',\n",
       "       ' Required letters of recommendation', ' Program best described as',\n",
       "       ' Program Length', ' Avg. hrs/wk on duty during first year',\n",
       "       ' First Year Salary', ' ACI Program Score', ' Comment1', ' Comment2',\n",
       "       ' Comment3', ' Comment4', ' Comment5', ' Comment6', ' Comment7',\n",
       "       ' Comment8', ' Comment9', ' Comment10', ' Comment11', ' Comment12',\n",
       "       ' Comment13', ' Comment14', ' Comment 15 ', 'Column1', 'Column2',\n",
       "       'Column3', 'Column4'],\n",
       "      dtype='object')"
      ]
     },
     "execution_count": 5,
     "metadata": {},
     "output_type": "execute_result"
    }
   ],
   "source": [
    "program_df.columns"
   ]
  },
  {
   "cell_type": "code",
   "execution_count": null,
   "metadata": {},
   "outputs": [],
   "source": []
  },
  {
   "cell_type": "code",
   "execution_count": null,
   "metadata": {},
   "outputs": [],
   "source": []
  },
  {
   "cell_type": "code",
   "execution_count": null,
   "metadata": {},
   "outputs": [],
   "source": []
  },
  {
   "cell_type": "code",
   "execution_count": null,
   "metadata": {},
   "outputs": [],
   "source": []
  }
 ],
 "metadata": {
  "kernelspec": {
   "display_name": ".venv",
   "language": "python",
   "name": "python3"
  },
  "language_info": {
   "codemirror_mode": {
    "name": "ipython",
    "version": 3
   },
   "file_extension": ".py",
   "mimetype": "text/x-python",
   "name": "python",
   "nbconvert_exporter": "python",
   "pygments_lexer": "ipython3",
   "version": "3.11.4"
  }
 },
 "nbformat": 4,
 "nbformat_minor": 2
}
