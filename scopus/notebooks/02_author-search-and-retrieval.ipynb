{
 "cells": [
  {
   "cell_type": "markdown",
   "metadata": {},
   "source": [
    "# Search for Authors and Retrieve Their Data"
   ]
  },
  {
   "cell_type": "markdown",
   "metadata": {},
   "source": [
    "## Setting up the Scopus API Key\n",
    "\n",
    "You should have your Scopus API Key available. If you have not yet requested a key or do not know where to find it, review the documentation in notebook \"01\".\n",
    "\n",
    "The first time you run the code cell below, it will as you to enter your Scopus API Key in a small prompt window (usually appearing near the top of the screen).\n",
    "\n",
    "![Initial prompt window for entering your API Key](..\\images\\enter_key.png)\n",
    "\n",
    "Then, a second window will appear asking for an institional token. That is not necessary, so just press enter."
   ]
  },
  {
   "cell_type": "code",
   "execution_count": 1,
   "metadata": {},
   "outputs": [
    {
     "name": "stdout",
     "output_type": "stream",
     "text": [
      "Creating config file at C:\\Users\\F0040RP\\.config\\pybliometrics.cfg with default paths...\n",
      "Configuration file successfully created at C:\\Users\\F0040RP\\.config\\pybliometrics.cfg\n",
      "For details see https://pybliometrics.rtfd.io/en/stable/configuration.html.\n"
     ]
    }
   ],
   "source": [
    "import pybliometrics\n",
    "from pybliometrics.scopus.utils import config"
   ]
  },
  {
   "cell_type": "markdown",
   "metadata": {},
   "source": [
    "Now, your Scopus API Key is stored in a configuration file on your computer so you should not need to enter it again, unless you move or delete the configuration file. To find where the configuration file is on your computer, run the following code:"
   ]
  },
  {
   "cell_type": "code",
   "execution_count": 6,
   "metadata": {},
   "outputs": [
    {
     "data": {
      "text/plain": [
       "WindowsPath('C:/Users/F0040RP/.config/pybliometrics.cfg')"
      ]
     },
     "execution_count": 6,
     "metadata": {},
     "output_type": "execute_result"
    }
   ],
   "source": [
    "pybliometrics.scopus.utils.constants.CONFIG_FILE"
   ]
  },
  {
   "cell_type": "markdown",
   "metadata": {},
   "source": [
    "## Use your Scopus API from within the Dartmouth online network\n",
    "\n",
    "+ Be sure that you are within the campus network (either on campus or logged into the vpn) to ensure the API will retrieve all requested results\n",
    "\n",
    "+ Otherwise some requests will return the error: `Scopus401Error: The requestor is not authorized to access the requested view or fields of the resource`"
   ]
  },
  {
   "cell_type": "code",
   "execution_count": null,
   "metadata": {},
   "outputs": [],
   "source": []
  },
  {
   "cell_type": "markdown",
   "metadata": {},
   "source": [
    "## Get Information for one single author"
   ]
  },
  {
   "cell_type": "markdown",
   "metadata": {},
   "source": [
    "Using the [Pybliometrics](https://pybliometrics.readthedocs.io/en/stable/) Python library, we can begin by extracting metadata for one single author. However, unless you have an unusual first and last name combination (like me), you will first need to identify the correct individual. For example if you search for \"Jane Smith\" you might need to parse through data for multiple authors named \"Jane Smith\" and identify correct matches. \n",
    "\n",
    "For example, Jane Smith at Dartmouth may be a different person than Jane Smith at Vassar, but she may be the same person as Jane Smith at UNH (Scopus records often have not been aggregated to merge records of the same person when they move to another institution).\n",
    "\n",
    "To begin we will search for the [Spanish chemist Rafael Luque who has been suspended by his institution in Spain for academic impropriety](https://cen.acs.org/research-integrity/Highly-cited-chemist-suspended-claiming-to-be-affiliated-with-Russian-and-Saudi-universities/101/i12) related to a highly dubious publication profile (co-authoring 60-70 papers annually) and for accepting salaries as an adjunct scholar at Saudi and Russian universities (while still employed in Spain), which wanted his publication and citation recod to boost their rankings.\n",
    "\n",
    "We will first use the **AuthorSearch API** to find the correct Rafael Luque. We will then use the **AuthorRetrieval API** to retrieve information about his documents"
   ]
  },
  {
   "cell_type": "code",
   "execution_count": 5,
   "metadata": {},
   "outputs": [],
   "source": [
    "from pybliometrics.scopus import AuthorSearch\n",
    "lastname = \"Luque\"\n",
    "firstname = \"Rafael\"\n",
    "au = AuthorSearch(f\"AUTHLAST({lastname}) and AUTHFIRST({firstname})\")"
   ]
  },
  {
   "cell_type": "code",
   "execution_count": null,
   "metadata": {},
   "outputs": [],
   "source": []
  },
  {
   "cell_type": "markdown",
   "metadata": {},
   "source": [
    "The AuthorSearch command sends a **request** for information using the search query above. The API then sends a **response** with the request information, whichb we have saved in the variable `au`.\n",
    "\n",
    "If we just call `au` we just receive a wrapper for the information. To retrieve specific information about the authors that matched this query, we need to be more specific."
   ]
  },
  {
   "cell_type": "code",
   "execution_count": 7,
   "metadata": {},
   "outputs": [
    {
     "name": "stdout",
     "output_type": "stream",
     "text": [
      "\u001b[1;31mType:\u001b[0m           AuthorSearch\n",
      "\u001b[1;31mString form:\u001b[0m   \n",
      "Search 'AUTHLAST(Luque) and AUTHFIRST(Rafael)' yielded 29 authors as of 2024-04-05:\n",
      "           Luque, Ra <...> l; AUTHOR_ID:57213514771 (1 document(s))\n",
      "           Luque, Rafael; AUTHOR_ID:35810760000 (1 document(s))\n",
      "\u001b[1;31mFile:\u001b[0m           c:\\users\\f0040rp\\documents\\dartlib_rds\\projects\\bibliometrics\\.venv\\lib\\site-packages\\pybliometrics\\scopus\\author_search.py\n",
      "\u001b[1;31mDocstring:\u001b[0m      <no docstring>\n",
      "\u001b[1;31mInit docstring:\u001b[0m\n",
      "Interaction with the Author Search API.\n",
      "\n",
      ":param query: A string of the query.  For allowed fields and values see\n",
      "              https://dev.elsevier.com/sc_author_search_tips.html.\n",
      ":param refresh: Whether to refresh the cached file if it exists or not.\n",
      "                If `int` is passed, cached file will be refreshed if the\n",
      "                number of days since last modification exceeds that value.\n",
      ":param download: Whether to download results (if they have not been\n",
      "                 cached).\n",
      ":param verbose: Whether to print a download progress bar.\n",
      ":param integrity_fields: Names of fields whose completeness should\n",
      "                         be checked.  `ScopusSearch` will perform the\n",
      "                         action specified in `integrity_action` if\n",
      "                         elements in these fields are missing.  This\n",
      "                         helps avoiding idiosynchratically missing\n",
      "                         elements that should always be present\n",
      "                         (e.g., EID or source ID).\n",
      ":param integrity_action: What to do in case integrity of provided fields\n",
      "                         cannot be verified.  Possible actions:\n",
      "                         - `\"raise\"`: Raise an `AttributeError`\n",
      "                         - `\"warn\"`: Raise a `UserWarning`\n",
      ":param count: (deprecated) The number of entries to be displayed at\n",
      "              once.  A smaller number means more queries with each\n",
      "              query having fewer results.\n",
      ":param kwds: Keywords passed on as query parameters.  Must contain\n",
      "             fields and values mentioned in the API specification at\n",
      "             https://dev.elsevier.com/documentation/AuthorSearchAPI.wadl.\n",
      "\n",
      "Raises\n",
      "------\n",
      "ScopusQueryError\n",
      "    If the number of search results exceeds 5000, which is the API's\n",
      "    maximum number of results returned.  The error prevents the\n",
      "    download attempt and avoids making use of your API key.\n",
      "\n",
      "ValueError\n",
      "    If any of the parameters `integrity_action` or `refresh` is not\n",
      "    one of the allowed values.\n",
      "\n",
      "Notes\n",
      "-----\n",
      "The directory for cached results is `{path}/STANDARD/{fname}`,\n",
      "where  `path` is specified in your configuration file, and `fname` is\n",
      "the md5-hashed version of `query`."
     ]
    }
   ],
   "source": [
    "?au"
   ]
  },
  {
   "cell_type": "code",
   "execution_count": 9,
   "metadata": {},
   "outputs": [
    {
     "data": {
      "text/plain": [
       "['__class__',\n",
       " '__delattr__',\n",
       " '__dict__',\n",
       " '__dir__',\n",
       " '__doc__',\n",
       " '__eq__',\n",
       " '__format__',\n",
       " '__ge__',\n",
       " '__getattribute__',\n",
       " '__getstate__',\n",
       " '__gt__',\n",
       " '__hash__',\n",
       " '__init__',\n",
       " '__init_subclass__',\n",
       " '__le__',\n",
       " '__lt__',\n",
       " '__module__',\n",
       " '__ne__',\n",
       " '__new__',\n",
       " '__reduce__',\n",
       " '__reduce_ex__',\n",
       " '__repr__',\n",
       " '__setattr__',\n",
       " '__sizeof__',\n",
       " '__str__',\n",
       " '__subclasshook__',\n",
       " '__weakref__',\n",
       " '_action',\n",
       " '_cache_file_path',\n",
       " '_integrity',\n",
       " '_json',\n",
       " '_mdate',\n",
       " '_n',\n",
       " '_query',\n",
       " '_refresh',\n",
       " '_view',\n",
       " 'authors',\n",
       " 'get_cache_file_age',\n",
       " 'get_cache_file_mdate',\n",
       " 'get_key_remaining_quota',\n",
       " 'get_key_reset_time',\n",
       " 'get_results_size']"
      ]
     },
     "execution_count": 9,
     "metadata": {},
     "output_type": "execute_result"
    }
   ],
   "source": [
    "dir(au)"
   ]
  },
  {
   "cell_type": "code",
   "execution_count": 10,
   "metadata": {},
   "outputs": [
    {
     "data": {
      "text/plain": [
       "[Author(eid='9-s2.0-26643003700', orcid='0000-0003-4190-1916', surname='Luque', initials='R.G.', givenname='Rafael Geraldo', affiliation='RUDN University', documents=898, affiliation_id='60015024', city='Moscow', country='Russian Federation', areas='CHEM (644); CENG (622); ENVI (611)'),\n",
       " Author(eid='9-s2.0-57194868074', orcid='0000-0002-4671-2957', surname='Luque', initials='R.', givenname='Rafael', affiliation='The University of Chicago', documents=126, affiliation_id='60029278', city='Chicago', country='United States', areas='PHYS (121); EART (115); MULT (6)'),\n",
       " Author(eid='9-s2.0-57535563900', orcid='0000-0001-5536-1805', surname='Luque-Baena', initials='R.M.', givenname='Rafael Marcos', affiliation='Universidad de Málaga', documents=100, affiliation_id='60003662', city='Malaga', country='Spain', areas='COMP (161); MATH (43); ENGI (25)'),\n",
       " Author(eid='9-s2.0-58220142700', orcid='0000-0003-1963-0523', surname='López-Luque', initials='R.', givenname='Rafael', affiliation='Universidad de Córdoba', documents=64, affiliation_id='60003138', city='Cordoba', country='Spain', areas='ENER (68); ENGI (55); ENVI (24)'),\n",
       " Author(eid='9-s2.0-6603223284', orcid=None, surname='Luque-Márquez', initials='R.', givenname='Rafael', affiliation='Hospital Universitario Virgen del Rocío', documents=47, affiliation_id='60033267', city='Sevilla', country='Spain', areas='MEDI (89); PHAR (23); IMMU (6)'),\n",
       " Author(eid='9-s2.0-56562984300', orcid=None, surname='Molina-Luque', initials='R.', givenname='Rafael', affiliation='Instituto Maimónides de Investigación Biomédica de Córdoba (IMIBIC)', documents=46, affiliation_id='60272560', city='Cordoba', country='Spain', areas='MEDI (71); ENVI (16); NURS (16)'),\n",
       " Author(eid='9-s2.0-55666780600', orcid=None, surname='Luque-Mialdea', initials='R.', givenname='Rafael', affiliation='The Toledo Hospital', documents=44, affiliation_id='60000785', city='Toledo', country='United States', areas='MEDI (50)'),\n",
       " Author(eid='9-s2.0-57190169009', orcid=None, surname='Luque', initials='R.', givenname='Rafael', affiliation='Hospital Universitario Virgen del Rocío', documents=42, affiliation_id='60033267', city='Sevilla', country='Spain', areas='MEDI (71); PHAR (2); IMMU (2)'),\n",
       " Author(eid='9-s2.0-15850810900', orcid='0000-0002-9808-784X', surname='Luque', initials='R.J.', givenname='Rafael J.', affiliation='Unidad de Gestión Clínica de Anatomía Patológica', documents=42, affiliation_id='112821027', city='Jaen', country='Spain', areas='MEDI (45); BIOC (14); IMMU (1)'),\n",
       " Author(eid='9-s2.0-36652768800', orcid='0000-0002-0626-5048', surname='Luque', initials='N.R.', givenname='Niceto Rafael', affiliation='Universidad de Granada', documents=35, affiliation_id='60027844', city='Granada', country='Spain', areas='COMP (51); NEUR (23); MEDI (17)'),\n",
       " Author(eid='9-s2.0-55936422300', orcid='0000-0003-3661-8040', surname='Luque', initials='R.', givenname='Rafael', affiliation='Universidad de Málaga', documents=21, affiliation_id='60003662', city='Malaga', country='Spain', areas='COMP (26); ENGI (14); CHEM (3)'),\n",
       " Author(eid='9-s2.0-54409003000', orcid=None, surname='Luque Pérez', initials='R.', givenname='Rafael', affiliation='Hospital Clínico San Carlos', documents=9, affiliation_id='60032461', city='Madrid', country='Spain', areas='MEDI (21)'),\n",
       " Author(eid='9-s2.0-6508001796', orcid=None, surname='Cuenca-Luque', initials='R.', givenname='Rafael', affiliation='Hospital de Sant Jaume', documents=7, affiliation_id='60019235', city='Girona', country='Spain', areas='MEDI (8); MATH (3); IMMU (2)'),\n",
       " Author(eid='9-s2.0-57204578627', orcid='0000-0002-9808-784X', surname='Luque', initials='R.J.', givenname='Rafael J.', affiliation='Hospital Universitario de Jaén', documents=5, affiliation_id='112570007', city='Jaen', country='Spain', areas='MEDI (9); CHEM (4); BIOC (2)'),\n",
       " Author(eid='9-s2.0-57219759341', orcid='0000-0002-5072-4117', surname='Merino', initials='R.L.', givenname='Rafael Luque', affiliation='Ludwig-Maximilians-Universität München', documents=4, affiliation_id='60028717', city='Munich', country='Germany', areas='ENGI (4); PHYS (4); CHEM (2)'),\n",
       " Author(eid='9-s2.0-6507252783', orcid=None, surname='Fernández Luque', initials='R.', givenname='Rafael', affiliation='VU University Medical Center', documents=3, affiliation_id='60001997', city='Amsterdam', country='Netherlands', areas='BIOC (4); MEDI (1); PHAR (1)'),\n",
       " Author(eid='9-s2.0-6506565088', orcid=None, surname='Luque-Aranda', initials='R.', givenname='Rafael', affiliation='Hospital Universitari Virgen de la Victoria', documents=3, affiliation_id='60000252', city='Malaga', country='Spain', areas='MEDI (6)'),\n",
       " Author(eid='9-s2.0-58872164700', orcid=None, surname='Luque', initials='R.', givenname='Rafael', affiliation='Universidad ECOTEC', documents=3, affiliation_id='60110590', city='Samborondon', country='Ecuador', areas='CENG (3); ENER (2); CHEM (1)'),\n",
       " Author(eid='9-s2.0-58804169100', orcid=None, surname='García-Luque', initials='R.', givenname='Rafael', affiliation='Universidad de Málaga', documents=3, affiliation_id='60003662', city='Malaga', country='Spain', areas='COMP (5); MATH (2)'),\n",
       " Author(eid='9-s2.0-58641557300', orcid=None, surname='López-Luque', initials='R.', givenname='Rafael', affiliation='Universidad de Córdoba', documents=3, affiliation_id='60003138', city='Cordoba', country='Spain', areas='ENER (4); ENGI (4); ENVI (2)'),\n",
       " Author(eid='9-s2.0-58311295100', orcid=None, surname='Luque', initials='R.', givenname='Rafael', affiliation='Universidad de la Laguna', documents=2, affiliation_id='60003044', city='San Cristobal de La Laguna', country='Spain', areas='PHYS (2); EART (2)'),\n",
       " Author(eid='9-s2.0-58035826000', orcid=None, surname='Luque', initials='R.', givenname='Rafael', affiliation='Center for Advanced Aerospace Technologies (CATEC)', documents=2, affiliation_id='127241425', city='La Rinconada (Sevilla)', country='Spain', areas='ENGI (2); COMP (2); ENVI (1)'),\n",
       " Author(eid='9-s2.0-57968986400', orcid=None, surname='Luque-Mohedano', initials='R.', givenname='Rafael', affiliation='Universidad de Córdoba', documents=2, affiliation_id='60003138', city='Cordoba', country='Spain', areas='AGRI (6); COMP (1)'),\n",
       " Author(eid='9-s2.0-57195321065', orcid=None, surname='Perea-Luque', initials='J.R.', givenname='Juan Rafael', affiliation='Universidad Nacional de Educacion a Distancia', documents=2, affiliation_id='60028711', city='Madrid', country='Spain', areas='PSYC (4); SOCI (2)'),\n",
       " Author(eid='9-s2.0-7003492068', orcid=None, surname='Luque', initials='R.F.', givenname='Rafael Fernández', affiliation='VU University Medical Center', documents=1, affiliation_id='60001997', city='Amsterdam', country='Netherlands', areas='BIOC (1); MEDI (1)'),\n",
       " Author(eid='9-s2.0-6504651271', orcid=None, surname='Márquez Luque', initials='R.', givenname='Rafael', affiliation='Hospital Universitario Virgen del Rocío', documents=1, affiliation_id='60033267', city='Sevilla', country='Spain', areas=' ()'),\n",
       " Author(eid='9-s2.0-57609681400', orcid=None, surname='Luque', initials='R.', givenname='Rafael', affiliation='Pontificia Universidad Javeriana', documents=1, affiliation_id='60033545', city='Bogota', country='Colombia', areas='ENGI (2)'),\n",
       " Author(eid='9-s2.0-57213514771', orcid=None, surname='Cuenca-Luque', initials='R.', givenname='Rafael', affiliation='Hospital Clinic Barcelona', documents=1, affiliation_id='60030315', city='Barcelona', country='Spain', areas='MEDI (1)'),\n",
       " Author(eid='9-s2.0-35810760000', orcid=None, surname='Luque', initials='R.', givenname='Rafael', affiliation='Universidad de Granada', documents=1, affiliation_id='60027844', city='Granada', country='Spain', areas='SOCI (1)')]"
      ]
     },
     "execution_count": 10,
     "metadata": {},
     "output_type": "execute_result"
    }
   ],
   "source": [
    "au.authors\n",
    "\n",
    "#eid: '9-s2.0-26643003700'\n",
    "#orcid: '0000-0003-4190-1916'"
   ]
  },
  {
   "cell_type": "code",
   "execution_count": 11,
   "metadata": {},
   "outputs": [
    {
     "name": "stdout",
     "output_type": "stream",
     "text": [
      "\u001b[1;31mInit signature:\u001b[0m\n",
      "\u001b[0mAuthorSearch\u001b[0m\u001b[1;33m(\u001b[0m\u001b[1;33m\n",
      "\u001b[0m    \u001b[0mquery\u001b[0m\u001b[1;33m:\u001b[0m \u001b[0mstr\u001b[0m\u001b[1;33m,\u001b[0m\u001b[1;33m\n",
      "\u001b[0m    \u001b[0mrefresh\u001b[0m\u001b[1;33m:\u001b[0m \u001b[0mUnion\u001b[0m\u001b[1;33m[\u001b[0m\u001b[0mbool\u001b[0m\u001b[1;33m,\u001b[0m \u001b[0mint\u001b[0m\u001b[1;33m]\u001b[0m \u001b[1;33m=\u001b[0m \u001b[1;32mFalse\u001b[0m\u001b[1;33m,\u001b[0m\u001b[1;33m\n",
      "\u001b[0m    \u001b[0mverbose\u001b[0m\u001b[1;33m:\u001b[0m \u001b[0mbool\u001b[0m \u001b[1;33m=\u001b[0m \u001b[1;32mFalse\u001b[0m\u001b[1;33m,\u001b[0m\u001b[1;33m\n",
      "\u001b[0m    \u001b[0mdownload\u001b[0m\u001b[1;33m:\u001b[0m \u001b[0mbool\u001b[0m \u001b[1;33m=\u001b[0m \u001b[1;32mTrue\u001b[0m\u001b[1;33m,\u001b[0m\u001b[1;33m\n",
      "\u001b[0m    \u001b[0mintegrity_fields\u001b[0m\u001b[1;33m:\u001b[0m \u001b[0mUnion\u001b[0m\u001b[1;33m[\u001b[0m\u001b[0mList\u001b[0m\u001b[1;33m[\u001b[0m\u001b[0mstr\u001b[0m\u001b[1;33m]\u001b[0m\u001b[1;33m,\u001b[0m \u001b[0mTuple\u001b[0m\u001b[1;33m[\u001b[0m\u001b[0mstr\u001b[0m\u001b[1;33m,\u001b[0m \u001b[1;33m...\u001b[0m\u001b[1;33m]\u001b[0m\u001b[1;33m]\u001b[0m \u001b[1;33m=\u001b[0m \u001b[1;32mNone\u001b[0m\u001b[1;33m,\u001b[0m\u001b[1;33m\n",
      "\u001b[0m    \u001b[0mintegrity_action\u001b[0m\u001b[1;33m:\u001b[0m \u001b[0mstr\u001b[0m \u001b[1;33m=\u001b[0m \u001b[1;34m'raise'\u001b[0m\u001b[1;33m,\u001b[0m\u001b[1;33m\n",
      "\u001b[0m    \u001b[0mcount\u001b[0m\u001b[1;33m:\u001b[0m \u001b[0mint\u001b[0m \u001b[1;33m=\u001b[0m \u001b[1;36m200\u001b[0m\u001b[1;33m,\u001b[0m\u001b[1;33m\n",
      "\u001b[0m    \u001b[1;33m**\u001b[0m\u001b[0mkwds\u001b[0m\u001b[1;33m:\u001b[0m \u001b[0mstr\u001b[0m\u001b[1;33m,\u001b[0m\u001b[1;33m\n",
      "\u001b[0m\u001b[1;33m)\u001b[0m \u001b[1;33m->\u001b[0m \u001b[1;32mNone\u001b[0m\u001b[1;33m\u001b[0m\u001b[1;33m\u001b[0m\u001b[0m\n",
      "\u001b[1;31mDocstring:\u001b[0m      <no docstring>\n",
      "\u001b[1;31mInit docstring:\u001b[0m\n",
      "Interaction with the Author Search API.\n",
      "\n",
      ":param query: A string of the query.  For allowed fields and values see\n",
      "              https://dev.elsevier.com/sc_author_search_tips.html.\n",
      ":param refresh: Whether to refresh the cached file if it exists or not.\n",
      "                If `int` is passed, cached file will be refreshed if the\n",
      "                number of days since last modification exceeds that value.\n",
      ":param download: Whether to download results (if they have not been\n",
      "                 cached).\n",
      ":param verbose: Whether to print a download progress bar.\n",
      ":param integrity_fields: Names of fields whose completeness should\n",
      "                         be checked.  `ScopusSearch` will perform the\n",
      "                         action specified in `integrity_action` if\n",
      "                         elements in these fields are missing.  This\n",
      "                         helps avoiding idiosynchratically missing\n",
      "                         elements that should always be present\n",
      "                         (e.g., EID or source ID).\n",
      ":param integrity_action: What to do in case integrity of provided fields\n",
      "                         cannot be verified.  Possible actions:\n",
      "                         - `\"raise\"`: Raise an `AttributeError`\n",
      "                         - `\"warn\"`: Raise a `UserWarning`\n",
      ":param count: (deprecated) The number of entries to be displayed at\n",
      "              once.  A smaller number means more queries with each\n",
      "              query having fewer results.\n",
      ":param kwds: Keywords passed on as query parameters.  Must contain\n",
      "             fields and values mentioned in the API specification at\n",
      "             https://dev.elsevier.com/documentation/AuthorSearchAPI.wadl.\n",
      "\n",
      "Raises\n",
      "------\n",
      "ScopusQueryError\n",
      "    If the number of search results exceeds 5000, which is the API's\n",
      "    maximum number of results returned.  The error prevents the\n",
      "    download attempt and avoids making use of your API key.\n",
      "\n",
      "ValueError\n",
      "    If any of the parameters `integrity_action` or `refresh` is not\n",
      "    one of the allowed values.\n",
      "\n",
      "Notes\n",
      "-----\n",
      "The directory for cached results is `{path}/STANDARD/{fname}`,\n",
      "where  `path` is specified in your configuration file, and `fname` is\n",
      "the md5-hashed version of `query`.\n",
      "\u001b[1;31mFile:\u001b[0m           c:\\users\\f0040rp\\documents\\dartlib_rds\\projects\\bibliometrics\\.venv\\lib\\site-packages\\pybliometrics\\scopus\\author_search.py\n",
      "\u001b[1;31mType:\u001b[0m           type\n",
      "\u001b[1;31mSubclasses:\u001b[0m     "
     ]
    }
   ],
   "source": [
    "?AuthorSearch"
   ]
  },
  {
   "cell_type": "markdown",
   "metadata": {},
   "source": [
    "https://dev.elsevier.com/sc_author_search_tips.html"
   ]
  },
  {
   "cell_type": "code",
   "execution_count": 14,
   "metadata": {},
   "outputs": [],
   "source": [
    "#eid = '9-s2.0-26643003700' #doesn't work\n",
    "eid = '26643003700'  #works\n",
    "au2 = AuthorSearch(f\"AU-ID({eid})\")"
   ]
  },
  {
   "cell_type": "code",
   "execution_count": 15,
   "metadata": {},
   "outputs": [
    {
     "data": {
      "text/plain": [
       "[Author(eid='9-s2.0-26643003700', orcid='0000-0003-4190-1916', surname='Luque', initials='R.G.', givenname='Rafael Geraldo', affiliation='RUDN University', documents=898, affiliation_id='60015024', city='Moscow', country='Russian Federation', areas='CHEM (644); CENG (622); ENVI (611)')]"
      ]
     },
     "execution_count": 15,
     "metadata": {},
     "output_type": "execute_result"
    }
   ],
   "source": [
    "au2.authors"
   ]
  },
  {
   "cell_type": "markdown",
   "metadata": {},
   "source": [
    "retrieve specific info"
   ]
  },
  {
   "cell_type": "code",
   "execution_count": 17,
   "metadata": {},
   "outputs": [
    {
     "data": {
      "text/plain": [
       "'Spain'"
      ]
     },
     "execution_count": 17,
     "metadata": {},
     "output_type": "execute_result"
    }
   ],
   "source": [
    "au.authors[2].country"
   ]
  },
  {
   "cell_type": "markdown",
   "metadata": {},
   "source": [
    "Other ways to narrow down author searches:\n",
    "* include affiliations or affiliation ids\n",
    "* include subject areas\n",
    "* include middle names or initials"
   ]
  }
 ],
 "metadata": {
  "kernelspec": {
   "display_name": ".venv",
   "language": "python",
   "name": "python3"
  },
  "language_info": {
   "codemirror_mode": {
    "name": "ipython",
    "version": 3
   },
   "file_extension": ".py",
   "mimetype": "text/x-python",
   "name": "python",
   "nbconvert_exporter": "python",
   "pygments_lexer": "ipython3",
   "version": "3.11.4"
  }
 },
 "nbformat": 4,
 "nbformat_minor": 2
}
