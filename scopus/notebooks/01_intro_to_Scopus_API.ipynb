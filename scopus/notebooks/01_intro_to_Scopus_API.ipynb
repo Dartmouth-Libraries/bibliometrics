{
 "cells": [
  {
   "cell_type": "markdown",
   "metadata": {},
   "source": [
    "# An Introduction to the Scopus API\n",
    "\n",
    "\n",
    "\n",
    "\n",
    "\n"
   ]
  },
  {
   "cell_type": "markdown",
   "metadata": {},
   "source": [
    "## What are APIs?\n",
    "\n",
    "[definition]\n",
    "\n",
    "For an in-depth explanation and demonstration of how APIs work, please see the [APIs in Python](https://git.dartmouth.edu/lib-digital-strategies/RDS/workshops/computational-tools/apis-in-python) workshop materials, created by Research Data Service's Simon Stone."
   ]
  },
  {
   "cell_type": "markdown",
   "metadata": {},
   "source": [
    "## What can APIs to bibliometric databases like Scopus allow us to do?\n",
    "\n",
    "[use cases]"
   ]
  },
  {
   "cell_type": "markdown",
   "metadata": {},
   "source": [
    "## The Scopus API\n",
    "\n"
   ]
  },
  {
   "cell_type": "markdown",
   "metadata": {},
   "source": [
    "## Requesting a Scopus API Key"
   ]
  },
  {
   "cell_type": "markdown",
   "metadata": {},
   "source": [
    "\n",
    "* Store your key in a plain-text file within your bibliometrics or Scopus project folder so you can easily find it when needed."
   ]
  },
  {
   "cell_type": "markdown",
   "metadata": {},
   "source": [
    "## Pybliometrics\n",
    "\n",
    "Once you have a Scopus API key, you may directly request and retrieve Scopus data using the API from the command line, or from within programs written in Python, R, or other programming languages.\n",
    "\n",
    "This workshop, however, introduces [Pybliometrics](https://pybliometrics.readthedocs.io/en/stable/), a Python library designed specifically for enable the easier extraction of data from Scopus using its API. \n",
    "\n",
    "Open the link above to review Pybliometrics documentation. Then explore the following:\n",
    "* review the documentation homepage to learn more about this library\n",
    "* select the **Classes** tab to review. Each of these classes corresponds to a specific Scopus API. Note: there are three main types of APIs:\n",
    "    * Search APIs: Search for an author, document, or affiliation by a search query and retrieve a variety of metadata fields about that particular author / document / affiliation. Especially useful is the unique Scopus identifier (the \"eid\") provided for each author / doc / affil. You can then use these eids to retrieve more information about each of these items using...\n",
    "    * Retrieval APIs: Retrieve detailed data about documents (using the AbstractRetrieval API), affiliations, and authors. Note: while Search APIS provide Scopus ids (eids), which can then be used by these Retrieval APIs, these APIs can also search by DOI, PubMed id, or Publisher Item Identifier (PII).\n",
    "    * Metadata APIs: Retrieve additional data and metrics about a paper, publication / journal, and subject classifications.\n",
    "\n",
    "\n",
    "\n"
   ]
  },
  {
   "cell_type": "markdown",
   "metadata": {},
   "source": [
    "## Trying the Scopus API\n",
    "\n",
    "To begin experimenting with the Scopus API - after acquiring a Scopus API key and reading the above - please continue on to notebook \"02\" in this folder."
   ]
  }
 ],
 "metadata": {
  "language_info": {
   "name": "python"
  }
 },
 "nbformat": 4,
 "nbformat_minor": 2
}
