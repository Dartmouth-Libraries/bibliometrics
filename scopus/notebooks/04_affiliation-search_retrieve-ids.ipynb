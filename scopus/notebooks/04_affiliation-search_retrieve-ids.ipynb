{
 "cells": [
  {
   "cell_type": "markdown",
   "metadata": {},
   "source": [
    "# Retrieve Data by Affiliation"
   ]
  },
  {
   "cell_type": "code",
   "execution_count": 34,
   "metadata": {},
   "outputs": [],
   "source": [
    "from pathlib import Path\n",
    "import pandas as pd\n",
    "import pybliometrics"
   ]
  },
  {
   "cell_type": "code",
   "execution_count": 35,
   "metadata": {},
   "outputs": [],
   "source": [
    "# pybliometrics.scopus.utils.constants.CONFIG_FILE"
   ]
  },
  {
   "cell_type": "markdown",
   "metadata": {},
   "source": [
    "Try one affiliation search  "
   ]
  },
  {
   "cell_type": "code",
   "execution_count": 36,
   "metadata": {},
   "outputs": [],
   "source": [
    "from pybliometrics.scopus import AffiliationSearch\n",
    "pybliometrics.scopus.init()\n"
   ]
  },
  {
   "cell_type": "markdown",
   "metadata": {},
   "source": [
    "Searching by Affiliation Name:\n",
    "\n",
    "+ Search for \"Dartmouth\" returns 772 different affiliations (although many are repeats)\n",
    "\n",
    "    + i.e Includes Dartmouth College, Dartmouth-Hitchcock Medical Center, Geisel School of Medicine, Dartmouth Cancer Center, Dartmouth Health, etc.\n",
    "\n",
    "+ Search for \"Dartmouth-Hitchcock\" returns 72 affiliations"
   ]
  },
  {
   "cell_type": "code",
   "execution_count": 37,
   "metadata": {},
   "outputs": [
    {
     "name": "stdout",
     "output_type": "stream",
     "text": [
      "135\n"
     ]
    },
    {
     "data": {
      "text/plain": [
       "[Affiliation(eid='10-s2.0-60023612', name='Federal Reserve System', variant='', documents=3543, city='Washington, D.C.', country='United States'),\n",
       " Affiliation(eid='10-s2.0-60019743', name='Federal Reserve Bank of New York', variant='', documents=1347, city='New York', country='United States'),\n",
       " Affiliation(eid='10-s2.0-60104179', name='Federal Reserve Bank of St. Louis', variant='', documents=1155, city='St. Louis', country='United States'),\n",
       " Affiliation(eid='10-s2.0-60013830', name='Federal Reserve Bank of Chicago', variant='', documents=895, city='Chicago', country='United States'),\n",
       " Affiliation(eid='10-s2.0-60091322', name='Federal Reserve Bank of Minneapolis', variant='', documents=793, city='Minneapolis', country='United States'),\n",
       " Affiliation(eid='10-s2.0-60112672', name='Federal Reserve Bank of Philadelphia', variant='', documents=733, city='Philadelphia', country='United States'),\n",
       " Affiliation(eid='10-s2.0-60031864', name='Federal Reserve Bank of San Francisco', variant='', documents=704, city='San Francisco', country='United States'),\n",
       " Affiliation(eid='10-s2.0-60010152', name='Federal Reserve Bank of Atlanta', variant='', documents=634, city='Atlanta', country='United States'),\n",
       " Affiliation(eid='10-s2.0-60008845', name='Federal Reserve Bank of Dallas', variant='', documents=621, city='Dallas', country='United States'),\n",
       " Affiliation(eid='10-s2.0-60018149', name='Federal Reserve Bank of Cleveland', variant='', documents=525, city='Cleveland', country='United States'),\n",
       " Affiliation(eid='10-s2.0-60112497', name='Federal Reserve Bank of Boston', variant='', documents=466, city='Boston', country='United States'),\n",
       " Affiliation(eid='10-s2.0-60030591', name='Federal Reserve Bank of Richmond', variant='', documents=425, city='Richmond', country='United States'),\n",
       " Affiliation(eid='10-s2.0-60112315', name='Federal Reserve Bank of Kansas City', variant='', documents=381, city='Kansas City', country='United States'),\n",
       " Affiliation(eid='10-s2.0-60003623', name='Federal Reserve Board Division of International Finance', variant='', documents=151, city='Washington, D.C.', country='United States'),\n",
       " Affiliation(eid='10-s2.0-60009120', name='Division of Research and Statistics, Federal Reserve Board', variant='Research Department', documents=147, city='Washington, D.C.', country='United States'),\n",
       " Affiliation(eid='10-s2.0-115922493', name='Kronotsky Federal Nature Biosphere Reserve', variant='', documents=29, city='Kamchatka Region, Yelizovo', country='Russian Federation'),\n",
       " Affiliation(eid='10-s2.0-114477379', name='Mordovia State Nature Reserve', variant='', documents=25, city='Mordovia Republic, Temnikov Region, Village Pushta', country='Russian Federation'),\n",
       " Affiliation(eid='10-s2.0-106020596', name='Federal Reserve Bank of Richmond', variant='', documents=25, city='Charlotte', country='United States'),\n",
       " Affiliation(eid='10-s2.0-60030191', name='Division of Monetary Affairs, Federal Reserve Board', variant='Division Of Monetary Affairs', documents=21, city='Washington, D.C.', country='United States'),\n",
       " Affiliation(eid='10-s2.0-108078776', name='Federal Reserve Bank of Richmond', variant='Federal Reserve Bank Of Richmond', documents=16, city='Baltimore', country='United States'),\n",
       " Affiliation(eid='10-s2.0-100825969', name='Federal Reserve Bank', variant='', documents=13, city='Minneapolis', country='United States'),\n",
       " Affiliation(eid='10-s2.0-100525438', name='Prioksko-Terrasny State Biosphere Reserve', variant='Prioksko-terrasnyi State Biosphere Reserve', documents=13, city='Moscow', country='Russian Federation'),\n",
       " Affiliation(eid='10-s2.0-122647737', name='Ryazan Historical and Architectural Museum-Reserve', variant='Ryazan Historical And Architectural Museum-reserve', documents=8, city='Ryazan', country='Russian Federation'),\n",
       " Affiliation(eid='10-s2.0-114089856', name='Federal Сenter of Sports Reserve Training', variant='Federal Сenter Of Sports Reserve Training', documents=8, city='Moscow', country='Russian Federation'),\n",
       " Affiliation(eid='10-s2.0-101762832', name='Division of Monetary Affairs', variant='Division Of Monetary Affairs', documents=8, city='Washington, D.C.', country='United States'),\n",
       " Affiliation(eid='10-s2.0-101534740', name='Federal Reserve Bank of Richmond', variant='Federal Reserve Bank Of Richmond', documents=7, city='Charlotte', country='United States'),\n",
       " Affiliation(eid='10-s2.0-116564907', name='Federal Reserve Bank', variant='', documents=6, city='New York', country='United States'),\n",
       " Affiliation(eid='10-s2.0-114312187', name='Research Institute for Storage Problems of the Federal Reserve', variant='', documents=6, city='Moscow', country='Russian Federation'),\n",
       " Affiliation(eid='10-s2.0-105709811', name='Federal Home Loan Bank of Atlanta', variant='Federal Home Loan Bank Of Atlanta', documents=5, city='Atlanta', country='United States'),\n",
       " Affiliation(eid='10-s2.0-126290077', name='Kronotsky Federal Nature Biosphere Reserve', variant='', documents=4, city='Elizovo', country='Russian Federation'),\n",
       " Affiliation(eid='10-s2.0-123881599', name='Federal State Organization of Joint Direction of Kedrovaya Pad’ State Biosphere Nature Reserve and Leopard’s Land National Park', variant='Federal State Organization Of Joint Direction Of Kedrovaya Pad’ State Biosphere Nature Reserve And Leopard’s Land National Park', documents=4, city='Vladivostok', country='Russian Federation'),\n",
       " Affiliation(eid='10-s2.0-100801827', name='Federal Reserve Bank', variant='', documents=4, city='Richmond', country='United States'),\n",
       " Affiliation(eid='10-s2.0-126548696', name='Reserve Bank', variant='', documents=3, city='Reserve', country='United States'),\n",
       " Affiliation(eid='10-s2.0-126179115', name='Federal Reserve Board of Minneapolis', variant='Federal Reserve Board Of Minneapolis', documents=3, city='Minneapolis', country='United States'),\n",
       " Affiliation(eid='10-s2.0-124999202', name='Federal State Establishment United Administration of Barguzinsky State Nature Biosphere Reserve and Zabaikalsky National Park (Zapovednoe Podlemorye)', variant='United Administration Of Barguzinsky State Natural Biosphere Reserve And Zabaikalsky National Park» (fse \"zapovednoepodlemorye\")', documents=3, city='Ulan-Ude', country='Russian Federation'),\n",
       " Affiliation(eid='10-s2.0-122327299', name=\"Farmers' Market Federation of New York\", variant='Federal Research Bank Of New York', documents=3, city='New York', country='United States'),\n",
       " Affiliation(eid='10-s2.0-113050396', name='Kansas City Federal Reserve', variant='', documents=3, city='Kansas City', country='United States'),\n",
       " Affiliation(eid='10-s2.0-131248518', name='Federal State Budgetary Institution \"State Nature Reserve \"Bastak\"', variant='State Nature Reserve “bastak”', documents=2, city='Birobidzhan', country='Russian Federation'),\n",
       " Affiliation(eid='10-s2.0-129545637', name='Federal Reserve Information Technology', variant='', documents=2, city='Reserve', country='United States'),\n",
       " Affiliation(eid='10-s2.0-127217260', name='Federal Reserve Board Research and Statistics', variant='Federal Reserve Board Research And Statistics', documents=2, city='Reserve', country='United States'),\n",
       " Affiliation(eid='10-s2.0-126785339', name='Federal State Budget Institution “State Nature Reserve ‘Wrangel Island’”', variant='Federal State Budget Institution “state Nature Reserve ‘wrangel Island’”', documents=2, city='Pevek', country='Russian Federation'),\n",
       " Affiliation(eid='10-s2.0-126179477', name='Federal Reserve Bank of SF', variant='Federal Reserve Bank Of Sf', documents=2, city='Reserve', country='United States'),\n",
       " Affiliation(eid='10-s2.0-125529490', name='Federal Reserve Boardx', variant='', documents=2, city='Washington, D.C.', country='United States'),\n",
       " Affiliation(eid='10-s2.0-125513704', name='Federal State Institution Volzhsko-Kamsky Nature Biosphere Reserve Pos. Sadovy', variant='', documents=2, city='Tatarstan Republic', country='Russian Federation'),\n",
       " Affiliation(eid='10-s2.0-124498403', name='Federal Reserve Bank of St', variant='Federal Reserve Bank Of St', documents=2, city='Louis', country='United States'),\n",
       " Affiliation(eid='10-s2.0-122654919', name='Federal Reserve Board of St. Louis', variant='Federal Reserve Board Of St. Louis', documents=2, city='St. Louis', country='United States'),\n",
       " Affiliation(eid='10-s2.0-121929716', name=\"Federal Government Funded Institution 'Prisurski State Nature Reserve'\", variant=\"Federal Government Funded Institution 'prisurski State Nature Reserve'\", documents=2, city='Cheboksary', country='Russian Federation'),\n",
       " Affiliation(eid='10-s2.0-116501731', name='Federal Reserve Bak of San Francisco', variant='Federal Reserve Bak Of San Francisco', documents=2, city='San Francisco', country='United States'),\n",
       " Affiliation(eid='10-s2.0-116438193', name='Federal Reserve Bank', variant='', documents=2, city='St Louis', country='United States'),\n",
       " Affiliation(eid='10-s2.0-105895508', name='Board of Governors of the Federal Reserve System', variant='Board Of Governors Of The Federal Reserve System', documents=2, city=None, country='Germany'),\n",
       " Affiliation(eid='10-s2.0-102036362', name='Federal Reserve System', variant='Federal Reserve Bank of Richmond', documents=2, city='Washington', country='United States'),\n",
       " Affiliation(eid='10-s2.0-132405111', name='Federal Reserve Bank of Chicago', variant='', documents=1, city='Detroit', country='United States'),\n",
       " Affiliation(eid='10-s2.0-132404922', name='Federal Reserve of Chicago', variant='', documents=1, city='Chicago', country='United States'),\n",
       " Affiliation(eid='10-s2.0-132271905', name='Federal Reserve', variant='', documents=1, city='Maricopa', country='United States'),\n",
       " Affiliation(eid='10-s2.0-131944056', name='Federal State Institution “Kurilsky State Nature Reserve”', variant='Federal State Institution “kurilsky State Nature Reserve”', documents=1, city='Yuzhno-Sakhalinsk', country='Russian Federation'),\n",
       " Affiliation(eid='10-s2.0-131646534', name='Federal center for preparation of the sports reserve', variant='Federal Center For Preparation Of The Sports Reserve', documents=1, city='Moscow', country='Russian Federation'),\n",
       " Affiliation(eid='10-s2.0-131594523', name='Federal State Budgetary Institution “State Nature Reserve “Utrish”', variant='Federal State Budgetary Institution “state Nature Reserve “utrish”', documents=1, city='Anapa', country='Russian Federation'),\n",
       " Affiliation(eid='10-s2.0-131585823', name='Caucasian Federal Biosphere Nature Reserve Named after H.G. Shaposhnikova', variant='Caucasian Federal Biosphere Nature Reserve Named After H.g. Shaposhnikova', documents=1, city='Sochi', country='Russian Federation'),\n",
       " Affiliation(eid='10-s2.0-131408395', name='Counsel of Federal Reserve Financial Services (FRFS)', variant='Counsel Of Federal Reserve Financial Services (frfs)', documents=1, city='Reserve', country='United States'),\n",
       " Affiliation(eid='10-s2.0-131240619', name='Federal State Institution “Kurilsky State Nature Reserve”', variant='Federal State Institution “kurilsky State Nature Reserve”', documents=1, city='Yuzhno-Kurilsk', country='Russian Federation'),\n",
       " Affiliation(eid='10-s2.0-130462217', name='Federal Reserve Bank of Dallas', variant='Federal Reserve Bank Of Dallas', documents=1, city='Dallas', country='United Kingdom'),\n",
       " Affiliation(eid='10-s2.0-130050828', name='Federal Reserve Bank of Kansas City', variant='Federal Reserve Bank Of Kansas City', documents=1, city='Omaha Nebraska', country='United States'),\n",
       " Affiliation(eid='10-s2.0-129973817', name='Federal State Budgetary Institution “Nizhne-Svirsky State Natural Reserve”', variant='Federal State Budgetary Institution “nizhne-svirsky State Natural Reserve”', documents=1, city='Lodeynoye Pole', country='Russian Federation'),\n",
       " Affiliation(eid='10-s2.0-129536600', name='Federal Reserve Automation Services', variant='', documents=1, city='Reserve', country='United States'),\n",
       " Affiliation(eid='10-s2.0-129482224', name=\"Federal Reserve Bank of Philadelphia's Consumer Finance Institute\", variant=\"Federal Reserve Bank Of Philadelphia's Consumer Finance Institute\", documents=1, city='San Diego', country='United States'),\n",
       " Affiliation(eid='10-s2.0-129042136', name='Federal Reserve Board', variant='', documents=1, city=None, country='India'),\n",
       " Affiliation(eid='10-s2.0-128727133', name='Federal Reserve Bank in Atlanta', variant='Federal Reserve Bank In Atlanta', documents=1, city='Atlanta', country='South Georgia and the South Sandwich Islands'),\n",
       " Affiliation(eid='10-s2.0-128561286', name='Federal Reserve Bank', variant='', documents=1, city='Saint Louis', country='United States'),\n",
       " Affiliation(eid='10-s2.0-128456541', name='Federal Reserve Bank of Atlanta', variant='Federal Reserve Bank Of Atlanta', documents=1, city='Riverside', country='United States'),\n",
       " Affiliation(eid='10-s2.0-128306245', name='Federal State Budgetary Institution \"Caucasian State Biosphere Natural Reserve named after KH.G. Shaposhnikova', variant='Federal State Budgetary Institution \"caucasian State Biosphere Natural Reserve Named After Kh.g. Shaposhnikova', documents=1, city='Sochi', country='Russian Federation'),\n",
       " Affiliation(eid='10-s2.0-127268728', name='Federal Government Funded Institution “Smidovich Mordovia State Nature Reserve”', variant='Federal Government Funded Institution “smidovich Mordovia State Nature Reserve”', documents=1, city=None, country='Moldova'),\n",
       " Affiliation(eid='10-s2.0-126979140', name='Federal Reserve Board', variant='', documents=1, city=None, country='Greece'),\n",
       " Affiliation(eid='10-s2.0-126792640', name='Federal State Natural Reserve \"Kuznetsk Alatau\"', variant='Federal State Natural Reserve \"kuznetsk Alatau\"', documents=1, city='Mezhdurechensk', country='Russian Federation'),\n",
       " Affiliation(eid='10-s2.0-126763617', name='Federal Reserve Plaza', variant='', documents=1, city='Boston', country='United States'),\n",
       " Affiliation(eid='10-s2.0-126647242', name='Federal Reserve Banks of Philadelphia', variant='Federal Reserve Banks Of Philadelphia', documents=1, city='Philadelphia', country='United States'),\n",
       " Affiliation(eid='10-s2.0-126581036', name='Digital Projects Implementation Service of FSBI “Federal center for preparation of the sports reserve” Ministry for sport of the', variant='Digital Projects Implementation Service Of Fsbi “federal Center For Preparation Of The Sports Reserve” Ministry For Sport Of The', documents=1, city=None, country='Russian Federation'),\n",
       " Affiliation(eid='10-s2.0-125800097', name='Federal Reserve Board', variant='', documents=1, city=None, country=None),\n",
       " Affiliation(eid='10-s2.0-125774233', name='Federal Reserve Board', variant='', documents=1, city=None, country=None),\n",
       " Affiliation(eid='10-s2.0-125732576', name='Federal Reserve Bank of Atlanta', variant='Federal Reserve Bank Of Atlanta', documents=1, city='Atlanta', country='Georgia'),\n",
       " Affiliation(eid='10-s2.0-125711988', name='Federal State Budgetary Institution “Volzhsko-Kamsky Nature Biosphere Reserve”', variant='Federal State Budgetary Institution “volzhsko-kamsky Nature Biosphere Reserve”', documents=1, city=None, country='Russian Federation'),\n",
       " Affiliation(eid='10-s2.0-125691447', name='Federal Reserve Board', variant='', documents=1, city=None, country='Italy'),\n",
       " Affiliation(eid='10-s2.0-125564331', name='Federal Reserve Board', variant='', documents=1, city=None, country=None),\n",
       " Affiliation(eid='10-s2.0-125499922', name='Federal Reserve Board', variant='', documents=1, city=None, country=None),\n",
       " Affiliation(eid='10-s2.0-125429254', name='Federal Reserve Board', variant='', documents=1, city=None, country=None),\n",
       " Affiliation(eid='10-s2.0-125294654', name='Federal Reserve Board', variant='', documents=1, city=None, country=None),\n",
       " Affiliation(eid='10-s2.0-125236058', name='University of Maryland (previously Federal Reserve Board)', variant='University Of Maryland (previously Federal Reserve Board)', documents=1, city=None, country='United States'),\n",
       " Affiliation(eid='10-s2.0-125143322', name='Federal State Budgetary Institution \"utrish State Nature Reserve\"', variant='', documents=1, city=None, country='Russian Federation'),\n",
       " Affiliation(eid='10-s2.0-124925283', name='Federal Nature Reserve Yuganskiy', variant='', documents=1, city=None, country='Russian Federation'),\n",
       " Affiliation(eid='10-s2.0-124762902', name='Federal Reserve Board', variant='', documents=1, city=None, country=None),\n",
       " Affiliation(eid='10-s2.0-124479390', name='Khingan Federal Nature Reserve', variant='', documents=1, city=None, country='Russian Federation'),\n",
       " Affiliation(eid='10-s2.0-124142054', name='Federal Reserve Board', variant='', documents=1, city=None, country=None),\n",
       " Affiliation(eid='10-s2.0-124101817', name='Federal Reserve Board', variant='', documents=1, city=None, country=None),\n",
       " Affiliation(eid='10-s2.0-123416719', name='Kirzinsky State Nature Reserve of Federal Importance', variant='Kirzinsky State Nature Reserve Of Federal Importance', documents=1, city='Novosibirsk', country='Russian Federation'),\n",
       " Affiliation(eid='10-s2.0-123400119', name='Federal State Cultural Establishment Artistic and Literary Museum-Reserve Abramtsevo', variant='Federal State Cultural Establishment Artistic And Literary Museum-reserve Abramtsevo', documents=1, city=None, country=None),\n",
       " Affiliation(eid='10-s2.0-123318941', name='Federal Reserve Board', variant='', documents=1, city=None, country=None),\n",
       " Affiliation(eid='10-s2.0-123298065', name='South Urals Federal Research Center of Mineralogy and Geoecology of UB RAS', variant='South Urals Federal Research Center Of Mineralogy And Geoecology Of Ub Ras', documents=1, city='Miass', country='Russian Federation'),\n",
       " Affiliation(eid='10-s2.0-123279628', name='Rutgers University and Federal Reserve Board', variant='Rutgers University And Federal Reserve Board', documents=1, city=None, country='United States'),\n",
       " Affiliation(eid='10-s2.0-123095862', name='United States Federal Reserve', variant='', documents=1, city='Washington, D.C.', country='United States'),\n",
       " Affiliation(eid='10-s2.0-122843797', name='Federal Reserve Bank', variant='', documents=1, city='St. Louis', country='Canada'),\n",
       " Affiliation(eid='10-s2.0-122697483', name='Federal Reserve Board', variant='', documents=1, city=None, country=None),\n",
       " Affiliation(eid='10-s2.0-122523734', name='Boston Federal Reserve', variant='', documents=1, city=None, country='United States'),\n",
       " Affiliation(eid='10-s2.0-122233479', name='Federal Reserve System', variant='', documents=1, city=None, country='Brazil'),\n",
       " Affiliation(eid='10-s2.0-121859655', name='Federal Reserve Bank of New York', variant='Federal Reserve Bank Of New York', documents=1, city='New York', country='United Kingdom'),\n",
       " Affiliation(eid='10-s2.0-121572609', name='Federal Reserve Bank of Chicago', variant='Federal Reserve Bank Of Chicago', documents=1, city='Chicago', country='Afghanistan'),\n",
       " Affiliation(eid='10-s2.0-121438637', name='Board of Governors of the Federal Reserve System and CEMAPRE', variant='Board Of Governors Of The Federal Reserve System And Cemapre', documents=1, city=None, country='Portugal'),\n",
       " Affiliation(eid='10-s2.0-121193087', name='Board of Governors of the Federal Reserve System', variant='Board Of Governors Of The Federal Reserve System', documents=1, city=None, country='Italy'),\n",
       " Affiliation(eid='10-s2.0-121112255', name='Federal Reserve Board', variant='', documents=1, city=None, country='Canada'),\n",
       " Affiliation(eid='10-s2.0-121022720', name='Federal Reserve Bank of Dallas', variant='Federal Reserve Bank Of Dallas', documents=1, city='Dallas', country='Norway'),\n",
       " Affiliation(eid='10-s2.0-120643791', name='Federal Reserve Banks', variant='', documents=1, city=None, country='France'),\n",
       " Affiliation(eid='10-s2.0-120457360', name='Federal Reserve Bank of Richmond', variant='Federal Reserve Bank Of Richmond', documents=1, city=None, country='United Kingdom'),\n",
       " Affiliation(eid='10-s2.0-120320206', name='Federal Reserve Board', variant='', documents=1, city=None, country='Netherlands'),\n",
       " Affiliation(eid='10-s2.0-120272654', name='Board of Governors of the Federal Reserve System', variant='Board Of Governors Of The Federal Reserve System', documents=1, city=None, country='Afghanistan'),\n",
       " Affiliation(eid='10-s2.0-120249123', name='Federal Government Funded Institution Smidovich Mordovia State Nature Reserve', variant='', documents=1, city=None, country='Russian Federation'),\n",
       " Affiliation(eid='10-s2.0-120014495', name='Federal Reserve Bank of San Francisco', variant='Federal Reserve Bank Of San Francisco', documents=1, city='San Francisco', country='France'),\n",
       " Affiliation(eid='10-s2.0-119777777', name='Kansas City Federal Reserve', variant='', documents=1, city=None, country='United States'),\n",
       " Affiliation(eid='10-s2.0-119698953', name='Federal Reserve Bank', variant='', documents=1, city='Richmond', country='United Kingdom'),\n",
       " Affiliation(eid='10-s2.0-119002858', name='Federal Reserve Bank of New York and Nova School of Business and Economics', variant='Federal Reserve Bank Of New York And Nova School Of Business And Economics', documents=1, city='New York', country='Canada'),\n",
       " Affiliation(eid='10-s2.0-117857132', name='Board of Governors of the Federal Reserve System', variant='', documents=1, city=None, country='Canada'),\n",
       " Affiliation(eid='10-s2.0-117240896', name='Federal Reserve Bank', variant='', documents=1, city='Dallas', country='United States'),\n",
       " Affiliation(eid='10-s2.0-116697575', name='Federal Reserve Bank of Atlanta', variant='', documents=1, city='Nashville', country='United States'),\n",
       " Affiliation(eid='10-s2.0-114479985', name='Federal Reserve Bank of Chicago', variant='', documents=1, city='Wellesley', country='United States'),\n",
       " Affiliation(eid='10-s2.0-114167427', name='Federal State Budgetary Institution Zeya State Nature Reserve', variant='', documents=1, city=None, country='Russian Federation'),\n",
       " Affiliation(eid='10-s2.0-114026278', name='Federal Reserve Board (Retired): C/o', variant='', documents=1, city='Athens', country='Greece'),\n",
       " Affiliation(eid='10-s2.0-113993410', name='Federal Reserve Bank of Atlanta and EDHEC Risk Institute', variant='Federal Reserve Bank Of Atlanta And Edhec Risk Institute', documents=1, city=None, country='United Kingdom'),\n",
       " Affiliation(eid='10-s2.0-113885548', name='Research Department Federal Reserve Bank of Richmond', variant='Research Department Federal Reserve Bank Of Richmond', documents=1, city='Richmond', country='United States'),\n",
       " Affiliation(eid='10-s2.0-113756364', name='Federal Reserve Bank of Chicago', variant='', documents=1, city='Cambridge', country='United States'),\n",
       " Affiliation(eid='10-s2.0-113209084', name='Federal Reserve Bank', variant='', documents=1, city='Chicago', country='United States'),\n",
       " Affiliation(eid='10-s2.0-112985491', name='SF Federal Reserve Board', variant='', documents=1, city='San Francisco', country='United States'),\n",
       " Affiliation(eid='10-s2.0-112836675', name='Federal Reserve', variant='', documents=1, city='Atlanta', country='United States'),\n",
       " Affiliation(eid='10-s2.0-112736840', name='Federal Reserve Bank of New York', variant='', documents=1, city=None, country='United States'),\n",
       " Affiliation(eid='10-s2.0-109544614', name='University of Wisconsin and Federal Reserve Board', variant='', documents=1, city=None, country=None),\n",
       " Affiliation(eid='10-s2.0-108258763', name='Federal Reserve Bank', variant='', documents=1, city='Washington', country='United States'),\n",
       " Affiliation(eid='10-s2.0-106321326', name='Board of Governors of the Federal Reserve System', variant='Board Of Governors Of The Federal Reserve System', documents=1, city=None, country='Greece'),\n",
       " Affiliation(eid='10-s2.0-105410170', name='Mack Ott is Senior Economist and John A. Tatom is Assistant Vice President at the Federal Reserve Ba', variant='', documents=1, city='St Louis', country='United States'),\n",
       " Affiliation(eid='10-s2.0-101144848', name='Federal Reserve Automation Services', variant='', documents=1, city=None, country=None)]"
      ]
     },
     "execution_count": 37,
     "metadata": {},
     "output_type": "execute_result"
    }
   ],
   "source": [
    "#query = f\"AFFIL('Dartmouth-Hitchcock')\"\n",
    "query = f\"AFFIL('Federal Reserve')\"\n",
    "s = AffiliationSearch(query)\n",
    "returned_affils = s.affiliations\n",
    "print(len(returned_affils))\n",
    "returned_affils\n",
    "\n"
   ]
  },
  {
   "cell_type": "code",
   "execution_count": 38,
   "metadata": {},
   "outputs": [
    {
     "data": {
      "text/plain": [
       "Affiliation(eid='10-s2.0-60023612', name='Federal Reserve System', variant='', documents=3543, city='Washington, D.C.', country='United States')"
      ]
     },
     "execution_count": 38,
     "metadata": {},
     "output_type": "execute_result"
    }
   ],
   "source": [
    "returned_affils[0]"
   ]
  },
  {
   "cell_type": "code",
   "execution_count": 39,
   "metadata": {},
   "outputs": [],
   "source": [
    "affil_dict = {}\n",
    "for affil in returned_affils:\n",
    "    affil_dict[affil[0]] = {\"name\": affil.name, \"variant\": affil.variant,\n",
    "                            \"documents\": affil.documents, \"city\": affil.city,\n",
    "                            \"country\": affil.country}\n",
    "    #affil_dict[affil[0]] = {\"name\": affil[1], \"variant\": affil[2],\n",
    "    #                        \"documents\": affil[3], \"city\": affil[4],\n",
    "    #                        \"country\": affil[5], \"parent\": affil[6]}\n",
    "\n",
    "affil_df = pd.DataFrame.from_dict(affil_dict, orient='index')"
   ]
  },
  {
   "cell_type": "code",
   "execution_count": 40,
   "metadata": {},
   "outputs": [
    {
     "data": {
      "text/html": [
       "<div>\n",
       "<style scoped>\n",
       "    .dataframe tbody tr th:only-of-type {\n",
       "        vertical-align: middle;\n",
       "    }\n",
       "\n",
       "    .dataframe tbody tr th {\n",
       "        vertical-align: top;\n",
       "    }\n",
       "\n",
       "    .dataframe thead th {\n",
       "        text-align: right;\n",
       "    }\n",
       "</style>\n",
       "<table border=\"1\" class=\"dataframe\">\n",
       "  <thead>\n",
       "    <tr style=\"text-align: right;\">\n",
       "      <th></th>\n",
       "      <th>name</th>\n",
       "      <th>variant</th>\n",
       "      <th>documents</th>\n",
       "      <th>city</th>\n",
       "      <th>country</th>\n",
       "    </tr>\n",
       "  </thead>\n",
       "  <tbody>\n",
       "    <tr>\n",
       "      <th>10-s2.0-60023612</th>\n",
       "      <td>Federal Reserve System</td>\n",
       "      <td></td>\n",
       "      <td>3543</td>\n",
       "      <td>Washington, D.C.</td>\n",
       "      <td>United States</td>\n",
       "    </tr>\n",
       "    <tr>\n",
       "      <th>10-s2.0-60019743</th>\n",
       "      <td>Federal Reserve Bank of New York</td>\n",
       "      <td></td>\n",
       "      <td>1347</td>\n",
       "      <td>New York</td>\n",
       "      <td>United States</td>\n",
       "    </tr>\n",
       "    <tr>\n",
       "      <th>10-s2.0-60104179</th>\n",
       "      <td>Federal Reserve Bank of St. Louis</td>\n",
       "      <td></td>\n",
       "      <td>1155</td>\n",
       "      <td>St. Louis</td>\n",
       "      <td>United States</td>\n",
       "    </tr>\n",
       "    <tr>\n",
       "      <th>10-s2.0-60013830</th>\n",
       "      <td>Federal Reserve Bank of Chicago</td>\n",
       "      <td></td>\n",
       "      <td>895</td>\n",
       "      <td>Chicago</td>\n",
       "      <td>United States</td>\n",
       "    </tr>\n",
       "    <tr>\n",
       "      <th>10-s2.0-60091322</th>\n",
       "      <td>Federal Reserve Bank of Minneapolis</td>\n",
       "      <td></td>\n",
       "      <td>793</td>\n",
       "      <td>Minneapolis</td>\n",
       "      <td>United States</td>\n",
       "    </tr>\n",
       "  </tbody>\n",
       "</table>\n",
       "</div>"
      ],
      "text/plain": [
       "                                                 name variant  documents  \\\n",
       "10-s2.0-60023612               Federal Reserve System               3543   \n",
       "10-s2.0-60019743     Federal Reserve Bank of New York               1347   \n",
       "10-s2.0-60104179    Federal Reserve Bank of St. Louis               1155   \n",
       "10-s2.0-60013830      Federal Reserve Bank of Chicago                895   \n",
       "10-s2.0-60091322  Federal Reserve Bank of Minneapolis                793   \n",
       "\n",
       "                              city        country  \n",
       "10-s2.0-60023612  Washington, D.C.  United States  \n",
       "10-s2.0-60019743          New York  United States  \n",
       "10-s2.0-60104179         St. Louis  United States  \n",
       "10-s2.0-60013830           Chicago  United States  \n",
       "10-s2.0-60091322       Minneapolis  United States  "
      ]
     },
     "execution_count": 40,
     "metadata": {},
     "output_type": "execute_result"
    }
   ],
   "source": [
    "affil_df.index.rename(\"eid\")\n",
    "affil_df.head()"
   ]
  },
  {
   "cell_type": "code",
   "execution_count": 41,
   "metadata": {},
   "outputs": [],
   "source": [
    "affil_df.to_csv(\"../data/affiliations_fed-reserve-search.csv\", index_label=\"eid\", encoding='utf-8')"
   ]
  },
  {
   "cell_type": "code",
   "execution_count": 42,
   "metadata": {},
   "outputs": [],
   "source": [
    "affils_to_keep = [\"10-s2.0-60023612\",\n",
    "                  \"10-s2.0-60019743\",\n",
    "                  \"10-s2.0-60104179\",\n",
    "                  \"10-s2.0-60013830\",\n",
    "                  \"10-s2.0-60091322\",\n",
    "                  \"10-s2.0-60112672\",\n",
    "                  \"10-s2.0-60031864\",\n",
    "                  \"10-s2.0-60010152\",\n",
    "                  \"10-s2.0-60008845\",\n",
    "                  \"10-s2.0-60018149\",\n",
    "                  \"10-s2.0-60112497\",\n",
    "                  \"10-s2.0-60030591\",\n",
    "                  \"10-s2.0-60112315\",\n",
    "                  \"10-s2.0-60003623\"\n",
    "]\n"
   ]
  },
  {
   "cell_type": "markdown",
   "metadata": {},
   "source": [
    "*Note: the affil_df returns duplicates of many of these branches indicating documents of some of these have not been properly parsed.*"
   ]
  },
  {
   "cell_type": "code",
   "execution_count": 43,
   "metadata": {},
   "outputs": [
    {
     "data": {
      "text/plain": [
       "(14, 5)"
      ]
     },
     "execution_count": 43,
     "metadata": {},
     "output_type": "execute_result"
    }
   ],
   "source": [
    "fed_affils = affil_df.loc[affils_to_keep]\n",
    "fed_affils.shape"
   ]
  },
  {
   "cell_type": "code",
   "execution_count": 44,
   "metadata": {},
   "outputs": [],
   "source": [
    "# s.get_key_remaining_quota()"
   ]
  },
  {
   "cell_type": "code",
   "execution_count": 45,
   "metadata": {},
   "outputs": [],
   "source": [
    "# s.get_key_reset_time()"
   ]
  },
  {
   "cell_type": "code",
   "execution_count": 46,
   "metadata": {},
   "outputs": [],
   "source": [
    "from pybliometrics.scopus import AffiliationRetrieval\n",
    "\n",
    "fed_list = []\n",
    "for affil_eid in affils_to_keep:\n",
    "    aff = AffiliationRetrieval(affil_eid)\n",
    "    fed_dict = {\"eid\": aff.eid,\n",
    "                \"affiliation_name\": aff.affiliation_name,\n",
    "                \"author_count\": aff.author_count,\n",
    "                \"doc_count\": aff.document_count,\n",
    "                #\"name_variants\": aff.name_variants,\n",
    "                \"scopus_link\": aff.scopus_affiliation_link,\n",
    "                \"status\": aff.status\n",
    "                }\n",
    "    fed_list.append(fed_dict)\n"
   ]
  },
  {
   "cell_type": "code",
   "execution_count": 47,
   "metadata": {},
   "outputs": [
    {
     "data": {
      "text/html": [
       "<div>\n",
       "<style scoped>\n",
       "    .dataframe tbody tr th:only-of-type {\n",
       "        vertical-align: middle;\n",
       "    }\n",
       "\n",
       "    .dataframe tbody tr th {\n",
       "        vertical-align: top;\n",
       "    }\n",
       "\n",
       "    .dataframe thead th {\n",
       "        text-align: right;\n",
       "    }\n",
       "</style>\n",
       "<table border=\"1\" class=\"dataframe\">\n",
       "  <thead>\n",
       "    <tr style=\"text-align: right;\">\n",
       "      <th></th>\n",
       "      <th>affiliation_name</th>\n",
       "      <th>author_count</th>\n",
       "      <th>doc_count</th>\n",
       "      <th>scopus_link</th>\n",
       "      <th>status</th>\n",
       "    </tr>\n",
       "    <tr>\n",
       "      <th>eid</th>\n",
       "      <th></th>\n",
       "      <th></th>\n",
       "      <th></th>\n",
       "      <th></th>\n",
       "      <th></th>\n",
       "    </tr>\n",
       "  </thead>\n",
       "  <tbody>\n",
       "    <tr>\n",
       "      <th>10-s2.0-60023612</th>\n",
       "      <td>Federal Reserve System</td>\n",
       "      <td>763</td>\n",
       "      <td>0</td>\n",
       "      <td>https://www.scopus.com/affil/profile.uri?afid=...</td>\n",
       "      <td>update</td>\n",
       "    </tr>\n",
       "    <tr>\n",
       "      <th>10-s2.0-60019743</th>\n",
       "      <td>Federal Reserve Bank of New York</td>\n",
       "      <td>238</td>\n",
       "      <td>0</td>\n",
       "      <td>https://www.scopus.com/affil/profile.uri?afid=...</td>\n",
       "      <td>update</td>\n",
       "    </tr>\n",
       "    <tr>\n",
       "      <th>10-s2.0-60104179</th>\n",
       "      <td>Federal Reserve Bank of St. Louis</td>\n",
       "      <td>123</td>\n",
       "      <td>0</td>\n",
       "      <td>https://www.scopus.com/affil/profile.uri?afid=...</td>\n",
       "      <td>update</td>\n",
       "    </tr>\n",
       "    <tr>\n",
       "      <th>10-s2.0-60013830</th>\n",
       "      <td>Federal Reserve Bank of Chicago</td>\n",
       "      <td>117</td>\n",
       "      <td>0</td>\n",
       "      <td>https://www.scopus.com/affil/profile.uri?afid=...</td>\n",
       "      <td>update</td>\n",
       "    </tr>\n",
       "    <tr>\n",
       "      <th>10-s2.0-60091322</th>\n",
       "      <td>Federal Reserve Bank of Minneapolis</td>\n",
       "      <td>67</td>\n",
       "      <td>0</td>\n",
       "      <td>https://www.scopus.com/affil/profile.uri?afid=...</td>\n",
       "      <td>update</td>\n",
       "    </tr>\n",
       "  </tbody>\n",
       "</table>\n",
       "</div>"
      ],
      "text/plain": [
       "                                     affiliation_name  author_count  \\\n",
       "eid                                                                   \n",
       "10-s2.0-60023612               Federal Reserve System           763   \n",
       "10-s2.0-60019743     Federal Reserve Bank of New York           238   \n",
       "10-s2.0-60104179    Federal Reserve Bank of St. Louis           123   \n",
       "10-s2.0-60013830      Federal Reserve Bank of Chicago           117   \n",
       "10-s2.0-60091322  Federal Reserve Bank of Minneapolis            67   \n",
       "\n",
       "                  doc_count  \\\n",
       "eid                           \n",
       "10-s2.0-60023612          0   \n",
       "10-s2.0-60019743          0   \n",
       "10-s2.0-60104179          0   \n",
       "10-s2.0-60013830          0   \n",
       "10-s2.0-60091322          0   \n",
       "\n",
       "                                                        scopus_link  status  \n",
       "eid                                                                          \n",
       "10-s2.0-60023612  https://www.scopus.com/affil/profile.uri?afid=...  update  \n",
       "10-s2.0-60019743  https://www.scopus.com/affil/profile.uri?afid=...  update  \n",
       "10-s2.0-60104179  https://www.scopus.com/affil/profile.uri?afid=...  update  \n",
       "10-s2.0-60013830  https://www.scopus.com/affil/profile.uri?afid=...  update  \n",
       "10-s2.0-60091322  https://www.scopus.com/affil/profile.uri?afid=...  update  "
      ]
     },
     "execution_count": 47,
     "metadata": {},
     "output_type": "execute_result"
    }
   ],
   "source": [
    "affil_ret_df = pd.DataFrame(fed_list)\n",
    "affil_ret_df = affil_ret_df.set_index(\"eid\")\n",
    "affil_ret_df.head()"
   ]
  },
  {
   "cell_type": "code",
   "execution_count": 48,
   "metadata": {},
   "outputs": [
    {
     "data": {
      "text/html": [
       "<div>\n",
       "<style scoped>\n",
       "    .dataframe tbody tr th:only-of-type {\n",
       "        vertical-align: middle;\n",
       "    }\n",
       "\n",
       "    .dataframe tbody tr th {\n",
       "        vertical-align: top;\n",
       "    }\n",
       "\n",
       "    .dataframe thead th {\n",
       "        text-align: right;\n",
       "    }\n",
       "</style>\n",
       "<table border=\"1\" class=\"dataframe\">\n",
       "  <thead>\n",
       "    <tr style=\"text-align: right;\">\n",
       "      <th></th>\n",
       "      <th>affiliation_name</th>\n",
       "      <th>author_count</th>\n",
       "      <th>doc_count</th>\n",
       "      <th>scopus_link</th>\n",
       "      <th>status</th>\n",
       "      <th>name</th>\n",
       "      <th>variant</th>\n",
       "      <th>documents</th>\n",
       "      <th>city</th>\n",
       "      <th>country</th>\n",
       "    </tr>\n",
       "  </thead>\n",
       "  <tbody>\n",
       "    <tr>\n",
       "      <th>10-s2.0-60023612</th>\n",
       "      <td>Federal Reserve System</td>\n",
       "      <td>763</td>\n",
       "      <td>0</td>\n",
       "      <td>https://www.scopus.com/affil/profile.uri?afid=...</td>\n",
       "      <td>update</td>\n",
       "      <td>Federal Reserve System</td>\n",
       "      <td></td>\n",
       "      <td>3543</td>\n",
       "      <td>Washington, D.C.</td>\n",
       "      <td>United States</td>\n",
       "    </tr>\n",
       "    <tr>\n",
       "      <th>10-s2.0-60019743</th>\n",
       "      <td>Federal Reserve Bank of New York</td>\n",
       "      <td>238</td>\n",
       "      <td>0</td>\n",
       "      <td>https://www.scopus.com/affil/profile.uri?afid=...</td>\n",
       "      <td>update</td>\n",
       "      <td>Federal Reserve Bank of New York</td>\n",
       "      <td></td>\n",
       "      <td>1347</td>\n",
       "      <td>New York</td>\n",
       "      <td>United States</td>\n",
       "    </tr>\n",
       "    <tr>\n",
       "      <th>10-s2.0-60104179</th>\n",
       "      <td>Federal Reserve Bank of St. Louis</td>\n",
       "      <td>123</td>\n",
       "      <td>0</td>\n",
       "      <td>https://www.scopus.com/affil/profile.uri?afid=...</td>\n",
       "      <td>update</td>\n",
       "      <td>Federal Reserve Bank of St. Louis</td>\n",
       "      <td></td>\n",
       "      <td>1155</td>\n",
       "      <td>St. Louis</td>\n",
       "      <td>United States</td>\n",
       "    </tr>\n",
       "    <tr>\n",
       "      <th>10-s2.0-60013830</th>\n",
       "      <td>Federal Reserve Bank of Chicago</td>\n",
       "      <td>117</td>\n",
       "      <td>0</td>\n",
       "      <td>https://www.scopus.com/affil/profile.uri?afid=...</td>\n",
       "      <td>update</td>\n",
       "      <td>Federal Reserve Bank of Chicago</td>\n",
       "      <td></td>\n",
       "      <td>895</td>\n",
       "      <td>Chicago</td>\n",
       "      <td>United States</td>\n",
       "    </tr>\n",
       "    <tr>\n",
       "      <th>10-s2.0-60091322</th>\n",
       "      <td>Federal Reserve Bank of Minneapolis</td>\n",
       "      <td>67</td>\n",
       "      <td>0</td>\n",
       "      <td>https://www.scopus.com/affil/profile.uri?afid=...</td>\n",
       "      <td>update</td>\n",
       "      <td>Federal Reserve Bank of Minneapolis</td>\n",
       "      <td></td>\n",
       "      <td>793</td>\n",
       "      <td>Minneapolis</td>\n",
       "      <td>United States</td>\n",
       "    </tr>\n",
       "  </tbody>\n",
       "</table>\n",
       "</div>"
      ],
      "text/plain": [
       "                                     affiliation_name  author_count  \\\n",
       "10-s2.0-60023612               Federal Reserve System           763   \n",
       "10-s2.0-60019743     Federal Reserve Bank of New York           238   \n",
       "10-s2.0-60104179    Federal Reserve Bank of St. Louis           123   \n",
       "10-s2.0-60013830      Federal Reserve Bank of Chicago           117   \n",
       "10-s2.0-60091322  Federal Reserve Bank of Minneapolis            67   \n",
       "\n",
       "                  doc_count  \\\n",
       "10-s2.0-60023612          0   \n",
       "10-s2.0-60019743          0   \n",
       "10-s2.0-60104179          0   \n",
       "10-s2.0-60013830          0   \n",
       "10-s2.0-60091322          0   \n",
       "\n",
       "                                                        scopus_link  status  \\\n",
       "10-s2.0-60023612  https://www.scopus.com/affil/profile.uri?afid=...  update   \n",
       "10-s2.0-60019743  https://www.scopus.com/affil/profile.uri?afid=...  update   \n",
       "10-s2.0-60104179  https://www.scopus.com/affil/profile.uri?afid=...  update   \n",
       "10-s2.0-60013830  https://www.scopus.com/affil/profile.uri?afid=...  update   \n",
       "10-s2.0-60091322  https://www.scopus.com/affil/profile.uri?afid=...  update   \n",
       "\n",
       "                                                 name variant  documents  \\\n",
       "10-s2.0-60023612               Federal Reserve System               3543   \n",
       "10-s2.0-60019743     Federal Reserve Bank of New York               1347   \n",
       "10-s2.0-60104179    Federal Reserve Bank of St. Louis               1155   \n",
       "10-s2.0-60013830      Federal Reserve Bank of Chicago                895   \n",
       "10-s2.0-60091322  Federal Reserve Bank of Minneapolis                793   \n",
       "\n",
       "                              city        country  \n",
       "10-s2.0-60023612  Washington, D.C.  United States  \n",
       "10-s2.0-60019743          New York  United States  \n",
       "10-s2.0-60104179         St. Louis  United States  \n",
       "10-s2.0-60013830           Chicago  United States  \n",
       "10-s2.0-60091322       Minneapolis  United States  "
      ]
     },
     "execution_count": 48,
     "metadata": {},
     "output_type": "execute_result"
    }
   ],
   "source": [
    "affil_ret_df2 = affil_ret_df.join(affil_df, how=\"inner\")\n",
    "affil_ret_df2.head()"
   ]
  },
  {
   "cell_type": "code",
   "execution_count": 49,
   "metadata": {},
   "outputs": [
    {
     "data": {
      "text/html": [
       "<div>\n",
       "<style scoped>\n",
       "    .dataframe tbody tr th:only-of-type {\n",
       "        vertical-align: middle;\n",
       "    }\n",
       "\n",
       "    .dataframe tbody tr th {\n",
       "        vertical-align: top;\n",
       "    }\n",
       "\n",
       "    .dataframe thead th {\n",
       "        text-align: right;\n",
       "    }\n",
       "</style>\n",
       "<table border=\"1\" class=\"dataframe\">\n",
       "  <thead>\n",
       "    <tr style=\"text-align: right;\">\n",
       "      <th></th>\n",
       "      <th>author_count</th>\n",
       "      <th>scopus_link</th>\n",
       "      <th>status</th>\n",
       "      <th>name</th>\n",
       "      <th>variant</th>\n",
       "      <th>documents</th>\n",
       "      <th>city</th>\n",
       "      <th>country</th>\n",
       "    </tr>\n",
       "  </thead>\n",
       "  <tbody>\n",
       "    <tr>\n",
       "      <th>10-s2.0-60023612</th>\n",
       "      <td>763</td>\n",
       "      <td>https://www.scopus.com/affil/profile.uri?afid=...</td>\n",
       "      <td>update</td>\n",
       "      <td>Federal Reserve System</td>\n",
       "      <td></td>\n",
       "      <td>3543</td>\n",
       "      <td>Washington, D.C.</td>\n",
       "      <td>United States</td>\n",
       "    </tr>\n",
       "    <tr>\n",
       "      <th>10-s2.0-60019743</th>\n",
       "      <td>238</td>\n",
       "      <td>https://www.scopus.com/affil/profile.uri?afid=...</td>\n",
       "      <td>update</td>\n",
       "      <td>Federal Reserve Bank of New York</td>\n",
       "      <td></td>\n",
       "      <td>1347</td>\n",
       "      <td>New York</td>\n",
       "      <td>United States</td>\n",
       "    </tr>\n",
       "    <tr>\n",
       "      <th>10-s2.0-60104179</th>\n",
       "      <td>123</td>\n",
       "      <td>https://www.scopus.com/affil/profile.uri?afid=...</td>\n",
       "      <td>update</td>\n",
       "      <td>Federal Reserve Bank of St. Louis</td>\n",
       "      <td></td>\n",
       "      <td>1155</td>\n",
       "      <td>St. Louis</td>\n",
       "      <td>United States</td>\n",
       "    </tr>\n",
       "    <tr>\n",
       "      <th>10-s2.0-60013830</th>\n",
       "      <td>117</td>\n",
       "      <td>https://www.scopus.com/affil/profile.uri?afid=...</td>\n",
       "      <td>update</td>\n",
       "      <td>Federal Reserve Bank of Chicago</td>\n",
       "      <td></td>\n",
       "      <td>895</td>\n",
       "      <td>Chicago</td>\n",
       "      <td>United States</td>\n",
       "    </tr>\n",
       "    <tr>\n",
       "      <th>10-s2.0-60091322</th>\n",
       "      <td>67</td>\n",
       "      <td>https://www.scopus.com/affil/profile.uri?afid=...</td>\n",
       "      <td>update</td>\n",
       "      <td>Federal Reserve Bank of Minneapolis</td>\n",
       "      <td></td>\n",
       "      <td>793</td>\n",
       "      <td>Minneapolis</td>\n",
       "      <td>United States</td>\n",
       "    </tr>\n",
       "  </tbody>\n",
       "</table>\n",
       "</div>"
      ],
      "text/plain": [
       "                  author_count  \\\n",
       "10-s2.0-60023612           763   \n",
       "10-s2.0-60019743           238   \n",
       "10-s2.0-60104179           123   \n",
       "10-s2.0-60013830           117   \n",
       "10-s2.0-60091322            67   \n",
       "\n",
       "                                                        scopus_link  status  \\\n",
       "10-s2.0-60023612  https://www.scopus.com/affil/profile.uri?afid=...  update   \n",
       "10-s2.0-60019743  https://www.scopus.com/affil/profile.uri?afid=...  update   \n",
       "10-s2.0-60104179  https://www.scopus.com/affil/profile.uri?afid=...  update   \n",
       "10-s2.0-60013830  https://www.scopus.com/affil/profile.uri?afid=...  update   \n",
       "10-s2.0-60091322  https://www.scopus.com/affil/profile.uri?afid=...  update   \n",
       "\n",
       "                                                 name variant  documents  \\\n",
       "10-s2.0-60023612               Federal Reserve System               3543   \n",
       "10-s2.0-60019743     Federal Reserve Bank of New York               1347   \n",
       "10-s2.0-60104179    Federal Reserve Bank of St. Louis               1155   \n",
       "10-s2.0-60013830      Federal Reserve Bank of Chicago                895   \n",
       "10-s2.0-60091322  Federal Reserve Bank of Minneapolis                793   \n",
       "\n",
       "                              city        country  \n",
       "10-s2.0-60023612  Washington, D.C.  United States  \n",
       "10-s2.0-60019743          New York  United States  \n",
       "10-s2.0-60104179         St. Louis  United States  \n",
       "10-s2.0-60013830           Chicago  United States  \n",
       "10-s2.0-60091322       Minneapolis  United States  "
      ]
     },
     "execution_count": 49,
     "metadata": {},
     "output_type": "execute_result"
    }
   ],
   "source": [
    "drop_cols = [\"affiliation_name\", \"doc_count\"]\n",
    "\n",
    "affil_ret_df2.drop(columns=drop_cols, axis=1, inplace=True)\n",
    "affil_ret_df2.head()"
   ]
  },
  {
   "cell_type": "code",
   "execution_count": 50,
   "metadata": {},
   "outputs": [],
   "source": [
    "affil_ret_df2.to_csv(\"../data/fed-reserve-affils.csv\", index_label=\"eid\", encoding='utf-8')"
   ]
  },
  {
   "cell_type": "markdown",
   "metadata": {},
   "source": [
    "Use AffiliationRetrieval to get program names using \"name_variants\" object"
   ]
  },
  {
   "cell_type": "code",
   "execution_count": 51,
   "metadata": {},
   "outputs": [
    {
     "data": {
      "text/plain": [
       "0"
      ]
     },
     "execution_count": 51,
     "metadata": {},
     "output_type": "execute_result"
    }
   ],
   "source": [
    "aff.document_count"
   ]
  },
  {
   "cell_type": "code",
   "execution_count": 52,
   "metadata": {},
   "outputs": [
    {
     "data": {
      "text/plain": [
       "[Variant(name='Federal Reserve Board Division of International Finance', doc_count=None)]"
      ]
     },
     "execution_count": 52,
     "metadata": {},
     "output_type": "execute_result"
    }
   ],
   "source": [
    "aff.name_variants"
   ]
  },
  {
   "cell_type": "code",
   "execution_count": 53,
   "metadata": {},
   "outputs": [],
   "source": [
    "#query = f\"SUBJAREA(2732)\"\n",
    "#s = AffiliationSearch(query)\n",
    "#returned_affils = s.affiliations\n",
    "#print(len(returned_affils))\n",
    "#returned_affils"
   ]
  },
  {
   "cell_type": "code",
   "execution_count": null,
   "metadata": {},
   "outputs": [],
   "source": []
  }
 ],
 "metadata": {
  "kernelspec": {
   "display_name": ".venv",
   "language": "python",
   "name": "python3"
  },
  "language_info": {
   "codemirror_mode": {
    "name": "ipython",
    "version": 3
   },
   "file_extension": ".py",
   "mimetype": "text/x-python",
   "name": "python",
   "nbconvert_exporter": "python",
   "pygments_lexer": "ipython3",
   "version": "3.12.3"
  }
 },
 "nbformat": 4,
 "nbformat_minor": 2
}
