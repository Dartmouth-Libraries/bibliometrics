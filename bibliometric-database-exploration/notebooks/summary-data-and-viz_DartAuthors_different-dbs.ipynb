{
 "cells": [
  {
   "cell_type": "markdown",
   "metadata": {},
   "source": [
    "# Extract Summary Data and Visualize Dartmouth Scholarship (acquired from different databases)\n",
    "\n",
    "1. import datasets extracted from OpenAlex, Scopus, WoS, and other databases (also import micro CV case study)\n",
    "2. summary data of results (total numbers, numbers by year, numbers by discipline, numbers by Open Access, numbers by format [articles, books, etc.])\n",
    "3. visualize\n",
    "4. merge dbs, assemble different ids, identify overlap and specific works missing from datasets"
   ]
  },
  {
   "cell_type": "code",
   "execution_count": null,
   "metadata": {},
   "outputs": [],
   "source": []
  },
  {
   "cell_type": "code",
   "execution_count": null,
   "metadata": {},
   "outputs": [],
   "source": []
  }
 ],
 "metadata": {
  "language_info": {
   "name": "python"
  }
 },
 "nbformat": 4,
 "nbformat_minor": 2
}
