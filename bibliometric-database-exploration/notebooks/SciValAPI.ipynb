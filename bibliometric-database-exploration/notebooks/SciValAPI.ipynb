{
 "cells": [
  {
   "cell_type": "code",
   "execution_count": 10,
   "metadata": {},
   "outputs": [],
   "source": [
    "import requests\n",
    "import pandas as pd\n",
    "import urllib.parse\n",
    "import os"
   ]
  },
  {
   "cell_type": "code",
   "execution_count": 15,
   "metadata": {},
   "outputs": [],
   "source": [
    "BASE_URL = \"https://api.elsevier.com/analytics/scival/institution/\"\n",
    "HEADERS = {'X-APIKey': os.getenv(\"SCOPUSKEY\")}"
   ]
  },
  {
   "cell_type": "markdown",
   "metadata": {},
   "source": [
    "## Dartmouth Ids\n",
    "\n",
    "```\n",
    " \t60007267 \tGeisel School of Medicine at Dartmouth \t\n",
    "\t60010756 \tDartmouth College \t\n",
    "\t60017072 \tTuck School of Business at Dartmouth \t\n",
    "\t60030443 \tThayer School of Engineering at Dartmouth \t\n",
    "\t60033410 \tDartmouth College Health Service \t\n",
    "\t60076581 \tThe Dartmouth Institute for Health Policy and Clinical Practice\n",
    "\n",
    "```"
   ]
  },
  {
   "cell_type": "code",
   "execution_count": 7,
   "metadata": {},
   "outputs": [
    {
     "data": {
      "text/plain": [
       "True"
      ]
     },
     "execution_count": 7,
     "metadata": {},
     "output_type": "execute_result"
    }
   ],
   "source": [
    "from dotenv import load_dotenv \n",
    "load_dotenv()"
   ]
  },
  {
   "cell_type": "code",
   "execution_count": 11,
   "metadata": {},
   "outputs": [],
   "source": [
    "SEARCH_QUERY = \"name(Dartmouth College)\"\n",
    "initial_request = requests.get(f'{BASE_URL}search?query={urllib.parse.quote(SEARCH_QUERY)}', headers=HEADERS)"
   ]
  },
  {
   "cell_type": "code",
   "execution_count": 12,
   "metadata": {},
   "outputs": [
    {
     "data": {
      "text/plain": [
       "{'service-error': {'status': {'statusCode': 'AUTHENTICATION_ERROR',\n",
       "   'statusText': 'Invalid API Key'}}}"
      ]
     },
     "execution_count": 12,
     "metadata": {},
     "output_type": "execute_result"
    }
   ],
   "source": [
    "initial_request.json()"
   ]
  }
 ],
 "metadata": {
  "kernelspec": {
   "display_name": ".venv",
   "language": "python",
   "name": "python3"
  },
  "language_info": {
   "codemirror_mode": {
    "name": "ipython",
    "version": 3
   },
   "file_extension": ".py",
   "mimetype": "text/x-python",
   "name": "python",
   "nbconvert_exporter": "python",
   "pygments_lexer": "ipython3",
   "version": "3.11.4"
  }
 },
 "nbformat": 4,
 "nbformat_minor": 2
}
