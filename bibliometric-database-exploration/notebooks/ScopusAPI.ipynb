{
 "cells": [
  {
   "cell_type": "code",
   "execution_count": null,
   "metadata": {},
   "outputs": [],
   "source": [
    "import pandas as pd\n",
    "import pybliometrics\n",
    "from pybliometrics.scopus.utils import config"
   ]
  },
  {
   "cell_type": "code",
   "execution_count": null,
   "metadata": {},
   "outputs": [],
   "source": [
    "pybliometrics.scopus.utils.constants.CONFIG_FILE"
   ]
  },
  {
   "cell_type": "code",
   "execution_count": null,
   "metadata": {},
   "outputs": [],
   "source": [
    "from pybliometrics.scopus import AffiliationSearch\n",
    "query = \"AFFIL(Dartmouth College)\"\n",
    "s = AffiliationSearch(query)\n",
    "print(s)"
   ]
  },
  {
   "cell_type": "code",
   "execution_count": null,
   "metadata": {},
   "outputs": [],
   "source": [
    "s.affiliations"
   ]
  },
  {
   "cell_type": "markdown",
   "metadata": {},
   "source": [
    "Dartmouth College \"eid\"  = `'10-s2.0-60010756'`"
   ]
  },
  {
   "cell_type": "code",
   "execution_count": null,
   "metadata": {},
   "outputs": [],
   "source": [
    "from pybliometrics.scopus import AffiliationRetrieval\n",
    "\n",
    "aff = AffiliationRetrieval(60010756)\n",
    "print(aff)"
   ]
  },
  {
   "cell_type": "code",
   "execution_count": null,
   "metadata": {},
   "outputs": [],
   "source": [
    "aff.name_variants"
   ]
  },
  {
   "cell_type": "code",
   "execution_count": null,
   "metadata": {},
   "outputs": [],
   "source": []
  },
  {
   "cell_type": "code",
   "execution_count": null,
   "metadata": {},
   "outputs": [],
   "source": [
    "from pybliometrics.scopus import AuthorSearch\n",
    "query = \"AF-ID(60010756)\"\n",
    "s = AuthorSearch(query)\n",
    "print(s)"
   ]
  },
  {
   "cell_type": "code",
   "execution_count": null,
   "metadata": {},
   "outputs": [],
   "source": [
    "from pybliometrics.scopus import ScopusSearch\n",
    "query = \"AF-ID(60010756)\"\n",
    "s = ScopusSearch(query)\n",
    "print(s)"
   ]
  },
  {
   "cell_type": "code",
   "execution_count": null,
   "metadata": {},
   "outputs": [],
   "source": [
    "eids = s.get_eids()"
   ]
  },
  {
   "cell_type": "code",
   "execution_count": null,
   "metadata": {},
   "outputs": [],
   "source": [
    "from pybliometrics.scopus import AbstractRetrieval\n",
    "import sys\n",
    "sys.path.insert(0, '../../scopus/code')\n",
    "import scopusapi_functions"
   ]
  },
  {
   "cell_type": "markdown",
   "metadata": {},
   "source": [
    "In the dictionary below we specify the data fields we want to retrieve for each document. A Python dictionary contains a list of key/value pairs. Below, the format is:\n",
    "\n",
    "    [KEY = name we want to give to resulting dataframe] : [VALUE: name of field as set by Scopus]"
   ]
  },
  {
   "cell_type": "code",
   "execution_count": null,
   "metadata": {},
   "outputs": [],
   "source": [
    "coldict = {#\"doc_eid\": \"eid\", \n",
    "           \"doi\": \"doi\", \"authors\": \"authors\",\n",
    "           \"title\": \"title\", \n",
    "           \"pub_title\": \"publicationName\", \"volume\": \"volume\",\n",
    "           \"date\": \"coverDate\", \n",
    "           \"abstract\": \"abstract\", \"description\": \"description\",\n",
    "           \"citedby_count\": \"citedby_count\", \n",
    "           \"authkeywords\": \"authkeywords\", \n",
    "           }"
   ]
  },
  {
   "cell_type": "code",
   "execution_count": null,
   "metadata": {},
   "outputs": [],
   "source": [
    "eid = eids[0]\n",
    "scopusapi_functions.get_scopus_abstractinfo(eid, coldict)"
   ]
  },
  {
   "cell_type": "code",
   "execution_count": null,
   "metadata": {},
   "outputs": [],
   "source": [
    "dict_of_dicts = {}"
   ]
  },
  {
   "cell_type": "code",
   "execution_count": null,
   "metadata": {},
   "outputs": [],
   "source": [
    "# Timing: takes about 4 minutes per 1000 documents requested\n",
    "total_eids = len(eids)\n",
    "start_num = 9999\n",
    "end_num = 19000\n",
    "if end_num > (total_eids - 1):\n",
    "    end_num = total_eids - 1\n",
    "\n",
    "#for i, eid in enumerate(eids):\n",
    "for i in range(start_num, end_num):\n",
    "    if i % 100 == 0:\n",
    "        print(f\"retrieving eid {i} of {total_eids}\")\n",
    "    abstract_dict = scopusapi_functions.get_scopus_abstractinfo(eids[i], coldict)\n",
    "    #dict_list.append(abstract_dict)\n",
    "    dict_of_dicts[eids[i]] =  abstract_dict\n",
    "    #new_df = pd.DataFrame([abstract_dict])\n",
    "    #ab_df = ab_df.append(abstract_dict, ignore_index=True)\n",
    "    #ab_df = pd.concat([ab_df, new_df], ignore_index=True)\n",
    "\n"
   ]
  },
  {
   "cell_type": "code",
   "execution_count": null,
   "metadata": {},
   "outputs": [],
   "source": [
    "#weekly Quota limit for Abstract Retrieval = 10000\n",
    "dict_of_dicts2 = dict_of_dicts.copy()\n",
    "del dict_of_dicts2[eids[9999]]"
   ]
  },
  {
   "cell_type": "code",
   "execution_count": null,
   "metadata": {},
   "outputs": [],
   "source": [
    "print(len(dict_of_dicts.keys()))\n",
    "ctr = 0\n",
    "for k,v in dict_of_dicts.items():\n",
    "    ctr+=1\n",
    "    if ctr < 5:\n",
    "        print()\n",
    "        print(k)\n",
    "        print(v)\n",
    "        print()\n",
    "        print()\n",
    "    if ctr > 9996:\n",
    "        print()\n",
    "        print(k)\n",
    "        print(v)\n",
    "    #if type(v) is list:\n",
    "    #    print(k)"
   ]
  },
  {
   "cell_type": "code",
   "execution_count": null,
   "metadata": {},
   "outputs": [],
   "source": [
    "ab_df = pd.DataFrame.from_dict(dict_of_dicts2, orient=\"Index\")\n",
    "\n",
    "\n"
   ]
  },
  {
   "cell_type": "code",
   "execution_count": null,
   "metadata": {},
   "outputs": [],
   "source": [
    "begin_num = 0\n",
    "end_num = 9999\n",
    "ab_df.to_csv(f\"../hidden-data/scopus_allDartdocs_{begin_num}-{end_num}.csv\", encoding='utf-8')"
   ]
  }
 ],
 "metadata": {
  "kernelspec": {
   "display_name": ".venv",
   "language": "python",
   "name": "python3"
  },
  "language_info": {
   "codemirror_mode": {
    "name": "ipython",
    "version": 3
   },
   "file_extension": ".py",
   "mimetype": "text/x-python",
   "name": "python",
   "nbconvert_exporter": "python",
   "pygments_lexer": "ipython3",
   "version": "3.11.4"
  }
 },
 "nbformat": 4,
 "nbformat_minor": 2
}
